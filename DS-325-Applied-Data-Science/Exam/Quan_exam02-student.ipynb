{
  "cells": [
    {
      "cell_type": "markdown",
      "metadata": {
        "id": "ix3hQQiDeL3w"
      },
      "source": [
        "# Exam 02"
      ]
    },
    {
      "cell_type": "markdown",
      "metadata": {
        "id": "2F5u6icqeL3z"
      },
      "source": [
        "**I affirm that I have upheld the highest principles of honesty and integrity in my academic work and have not witnessed a violation of the Honor Code.**"
      ]
    },
    {
      "cell_type": "markdown",
      "metadata": {
        "id": "QwR7YYSreL30"
      },
      "source": [
        "### your signature here:\n",
        "Quan Nguyen\n"
      ]
    },
    {
      "cell_type": "code",
      "execution_count": 1,
      "metadata": {
        "scrolled": true,
        "colab": {
          "base_uri": "https://localhost:8080/",
          "height": 0
        },
        "id": "opwCQ7XTeL30",
        "outputId": "f7165450-a497-4ea3-edf3-7fcbde40cc3c"
      },
      "outputs": [
        {
          "output_type": "stream",
          "name": "stdout",
          "text": [
            "[nltk_data] Downloading package punkt to /root/nltk_data...\n",
            "[nltk_data]   Unzipping tokenizers/punkt.zip.\n",
            "[nltk_data] Downloading package gutenberg to /root/nltk_data...\n",
            "[nltk_data]   Unzipping corpora/gutenberg.zip.\n",
            "[nltk_data] Downloading package stopwords to /root/nltk_data...\n",
            "[nltk_data]   Unzipping corpora/stopwords.zip.\n",
            "[nltk_data] Downloading package wordnet to /root/nltk_data...\n",
            "[nltk_data]   Unzipping corpora/wordnet.zip.\n"
          ]
        }
      ],
      "source": [
        "import numpy as np\n",
        "import pandas as pd\n",
        "import matplotlib.pyplot as plt\n",
        "plt.rcParams[\"figure.figsize\"] = (6.47,4)\n",
        "plt.style.use('seaborn')\n",
        "import matplotlib.cm as cm\n",
        "import seaborn as sns; \n",
        "sns.axes_style(\"whitegrid\")\n",
        "sns.set_context(\"talk\")\n",
        "np.random.seed(0)\n",
        "#-----------------------------\n",
        "# Natural Language Toolkit \n",
        "import nltk\n",
        "nltk.download('punkt') #word tokenizer\n",
        "nltk.download('gutenberg')\n",
        "nltk.download('stopwords')\n",
        "nltk.download('wordnet')\n",
        "from nltk.corpus import stopwords\n",
        "from nltk.tokenize import word_tokenize, sent_tokenize, WordPunctTokenizer\n",
        "from sklearn.feature_extraction.text import TfidfVectorizer\n",
        "from sklearn.metrics.pairwise import cosine_similarity\n",
        "import requests \n",
        "import string \n",
        "import re\n",
        "#-----------------------------\n",
        "from sklearn.metrics import accuracy_score, confusion_matrix, ConfusionMatrixDisplay\n",
        "from sklearn.model_selection import train_test_split\n",
        "from sklearn.naive_bayes import MultinomialNB\n",
        "from sklearn.model_selection import train_test_split, GridSearchCV\n",
        "from sklearn.pipeline import Pipeline\n",
        "import time\n",
        "#-----------------------------\n",
        "from urllib.request import urlretrieve\n",
        "#-----------------------------\n",
        "import tensorflow as tf\n",
        "tf.random.set_seed(0)\n",
        "#-----------------------------"
      ]
    },
    {
      "cell_type": "markdown",
      "metadata": {
        "id": "l7RuV15ReL32"
      },
      "source": [
        "### Notes\n",
        "* Problems 1-2 are short answer.  Please include full reasoning behind each answer.\n",
        "* Problem 3: handwritten greek letter classifier.  Write code that will classify the characters.\n",
        "* Problem 4: who wrote it.  Determine which test class belongs with which training class.  \n",
        "\n",
        "#### Note: Please complete each problem (3-4) first without regard to accuracy.  While there is an accuracy requirement for problem 3,  this is the threshold for full credit and substantial partial credit will be given provided your work is well-commented and follows what we have done in class.  Problem 4 has no explicit accuracy threshold for credit.   \n",
        "\n",
        "#### For all problems, comment on your results.\n",
        "\n"
      ]
    },
    {
      "cell_type": "markdown",
      "metadata": {
        "id": "zTYwTUvCeL32"
      },
      "source": [
        "# Problem 1:\n",
        "\n",
        "Consider the following schema for planetary database:\n",
        "* planets(pid, planet_name, number_of_moons, length_of_year)\n",
        "* spacecraft(sid, craft_name, year, pid)\n",
        "\n",
        "For the spacecraft, the pid matches the destination planet.\n",
        "* length_of_day (in days):  the rotation of a planet spinning on its axis (for Earth: length_of_day\t= 1 day)\n",
        "* length_of_year (in years): the revolution of a planet around the sun (for Earth: length_of_year\t= 1 year)\n",
        "\n",
        "\n",
        "### Planets table\n",
        "| pid | planet_name\t| number_of_moons\t| length_of_day\t| length_of_year | \n",
        "| - | - | - |- | - |\n",
        "| 1 |Mercury\t|0|\t58 |\t0.24|\n",
        "| 2 |Venus\t|0|\t243 | 0.62|\n",
        "| 3 |Earth\t|1|\t0.99|\t1|\n",
        "| 4 |Mars| 2 | 1.03 |1.88 |\n",
        "| 5 |Jupiter\t| 53| 0.43  \t|11.86|\n",
        "| 6 |Saturn\t| 53\t|0.45\t|29.46|\n",
        "| 7 | Uranus | 27 | 0.72 | 84.01 | \n",
        "| 8 | Neptune | 14 | 0.67 | 164.79 | \n",
        "\n",
        "\n",
        "### Planetary Spacecraft\n",
        "You should also make a table for the planetary spacecraft.\n",
        "\n",
        "\n",
        "| sid | craft_name    | year | pid    |\n",
        "| - |- | - |- | \n",
        "| 101 | Mariner 10 | 1974 | 1 |\n",
        "| 102 | Mariner 2  | 1962 | 2 |\n",
        "| 103 | Venera 9   | 1975 | 2 |\n",
        "| 104 | Magellan   | 1989 | 2 |\n",
        "| 105 | Mariner 9  | 1971 | 4 |\n",
        "| 106 | Viking     | 1976 | 4 |\n",
        "| 107 | Pioneer 10 | 1973 | 5 | \n",
        "| 108 | Galileo    | 1995 | 5 | \n",
        "| 109 | Cassini    | 1997 | 6 |\n",
        "\n",
        "\n",
        "\n",
        "### The SQL database can be found at : \n",
        "[http://public.gettysburg.edu/~jpuckett/ds325/exam02/planets.db](http://public.gettysburg.edu/~jpuckett/ds325/exam02/planets.db)\n",
        "\n",
        "\n",
        "### For the following questions, provide your \n",
        "* query\n",
        "* query result \n",
        "\n",
        "### Questions:\n",
        "1) Which planet has the most moons?\n",
        "\n",
        "2) Which planets has the longest day?\n",
        "\n",
        "3) Which spacecraft(s) that were sent to Jupiter?\n",
        "\n",
        "4) Which spacecraft(s) visited planets with no moons?\n",
        "\n"
      ]
    },
    {
      "cell_type": "markdown",
      "metadata": {
        "id": "0yFVeWw3eL33"
      },
      "source": [
        "### Your answers here:\n",
        "1) Which planet has the most moons?\n",
        "* query\n",
        "  SELECT *\n",
        "  FROM planets\n",
        "  order by number_of_moons DESC\n",
        "  LIMIT 1\n",
        "\n",
        "* result\n",
        "  Jupiter and Saturn (53 moons)\n",
        "\n",
        "\n",
        "2) Which planets has the longest day?\n",
        "* query\n",
        "  SELECT *\n",
        "  FROM planets\n",
        "  order by length_of_day DESC\n",
        "  LIMIT 1\n",
        "\n",
        "* result\n",
        "  Venus (243)\n",
        "\n",
        "3) Which spacecraft(s) that were sent to Jupiter?\n",
        "* query\n",
        "  SELECT craft_name\n",
        "  from spacecraft\n",
        "  left join planets\n",
        "  on spacecraft.pid = planets.pid\n",
        "  where planets.planet_name = 'Jupiter'\n",
        "\n",
        "* result\n",
        "  Pioneer 10, Galileo\n",
        "\n",
        "4) Which spacecraft(s) visited planets with no moons?\n",
        "* query\n",
        "  SELECT craft_name\n",
        "  from spacecraft\n",
        "  left join planets\n",
        "  on spacecraft.pid = planets.pid\n",
        "  where planets.number_of_moons = 0\n",
        "\n",
        "* result\n",
        "  Mariner 10, Mariner 2, Venera 9, Magellan\n"
      ]
    },
    {
      "cell_type": "markdown",
      "metadata": {
        "id": "YTnhzpSQeL33"
      },
      "source": [
        "# Problem 2:\n",
        "\n",
        "1) Name three advantages for SeLU activation function over ReLU.\n",
        "\n",
        "2) Suppose we have a 4 × 4 input that looks like this:\n",
        "\n",
        "$$\n",
        "A = \\begin{pmatrix}\n",
        "1 & 2 & 1 & 1 \\\\\n",
        "0 & 6 & 1 & 1 \\\\\n",
        "1 & 4 & 1 & 0 \\\\\n",
        "1 & 1 & 8 & 0 \n",
        "\\end{pmatrix}\n",
        "$$\n",
        "\n",
        "$$\n",
        "k = \\dfrac{1}{5} \\begin{pmatrix}\n",
        "0 & 1 & 0  \\\\\n",
        "1 & 1 & 1  \\\\\n",
        "0 & 1 & 0\n",
        "\\end{pmatrix}\n",
        "$$\n",
        "\n",
        "#### Apply the 3 × 3 convolutional kernel $k$  to the input A (above). \n",
        "* Use a stride of 1 when convolving.\n",
        "* Use a zero-padding of 1. \n",
        "* Do not apply the ReLU activation or any pooling. \n",
        "* Show your work (e.g. the multiplications and additions).\n",
        "\n",
        "\n"
      ]
    },
    {
      "cell_type": "markdown",
      "metadata": {
        "id": "o1k4zJkeeL34"
      },
      "source": [
        "### Your answers here\n",
        "1) Name three advantages for SeLU activation function over ReLU.\n",
        "\n",
        "    a) Internal normalization is faster than external normalization, which means the network converges faster\n",
        "    b) Comparing to ReLU, the model may converge faster when uses SeLU since it has negative values which allows the system to have the average output of 0.\n",
        "    c) Comparing to ReLU, SELU cannot die since it always has a nonzero derivative\n",
        "    d) SeLU activation function induces self-normalizing, which solves the vanishing/exploding gradients problem and enables deep neural network\n",
        "\n",
        "2) Apply the 3 × 3 convolutional kernel $k$  to the input A (above)."
      ]
    },
    {
      "cell_type": "markdown",
      "metadata": {
        "id": "_fjqDlyNeL34"
      },
      "source": [
        "# Problem 3: handwritten greek letter classifier\n",
        "\n",
        "In this problem, you will construct a Neural Net classifier to distinguish handwritten greek letters.  For full credit, your model will achieve **>95%** on the Test dataset using **fewer than 500k parameters** while training for only 10 epochs.  \n",
        "\n",
        "### The target accuracy is **>95%**\n",
        "* Note that this is the target accuracy.  Accuracies below will will get partial credit proportional to how close they are to this target.\n",
        "\n",
        "### You MUST use the following:\n",
        "* **Epochs = 10**\n",
        "* Nadam, as the optimizer, you may change the **learning rate**, but there is no need to change (beta_1=0.9, beta_2=0.999, epsilon=1e-07)\n",
        "<code>\n",
        "    opt            = tf.keras.optimizers.Nadam(learning_rate=alpha, beta_1=0.9, beta_2=0.999, epsilon=1e-07,name='Nadam')\n",
        "    model.compile(loss=\"categorical_crossentropy\", optimizer=opt, metrics=[\"accuracy\"])\n",
        "</code>\n",
        "* Choose a seed for your model, this is so that your work is reproducible. When building the model, use \n",
        "<code>\n",
        "    tf.random.set_seed(0)\n",
        "    np.random.seed(0)\n",
        "</code>\n",
        "\n",
        "### Your model MUST have < 500k parameters.\n",
        "* If you go over, your model will not be accepted.\n",
        "* You will use the following code to verify the number of parameters.\n",
        "<code>\n",
        "    model.summary()\n",
        "</code>\n",
        "\n",
        "### You may use ANY of the following:\n",
        "* Any activation function, batch size, and dropout.\n",
        "* Any convolutional filter size and number of convolutional filters.\n",
        "* As many Conv2D and Dense layers as desired.\n",
        "\n",
        "\n",
        "### What is Not allowed\n",
        "* Transfer learning\n",
        "* Data Augmentation \n"
      ]
    },
    {
      "cell_type": "code",
      "execution_count": 2,
      "metadata": {
        "id": "Rl6D-4TeeL35"
      },
      "outputs": [],
      "source": [
        "def loadGreek():\n",
        "    import io\n",
        "    web_addr = 'http://public.gettysburg.edu/~jpuckett/ds325/exam02/'\n",
        "    filename = web_addr+'exam02-greek.npz'\n",
        "    response = requests.get(filename)\n",
        "    response.raise_for_status()\n",
        "    #\n",
        "    data = np.load(io.BytesIO(response.content))\n",
        "    X_train = data['X_train']\n",
        "    y_train = data['y_train']\n",
        "    X_test  = data['X_test']\n",
        "    y_test  = data['y_test']    \n",
        "    return X_train,y_train,X_test,y_test"
      ]
    },
    {
      "cell_type": "markdown",
      "metadata": {
        "id": "BDsd73G2eL35"
      },
      "source": [
        "### 1. Show 1 image from each class in an (3 row x 8 column) grid"
      ]
    },
    {
      "cell_type": "code",
      "execution_count": 3,
      "metadata": {
        "scrolled": true,
        "colab": {
          "base_uri": "https://localhost:8080/",
          "height": 376
        },
        "id": "wrK5EnYheL35",
        "outputId": "ec0ffb38-b77d-4a63-f98f-d717f6cb2137"
      },
      "outputs": [
        {
          "output_type": "display_data",
          "data": {
            "text/plain": [
              "<Figure size 432x288 with 0 Axes>"
            ]
          },
          "metadata": {}
        },
        {
          "output_type": "display_data",
          "data": {
            "text/plain": [
              "<Figure size 864x360 with 24 Axes>"
            ],
            "image/png": "[encoded data removed]"
          },
          "metadata": {
            "needs_background": "light"
          }
        }
      ],
      "source": [
        "# your answer here\n",
        "X_train,y_train,X_test,y_test = loadGreek()\n",
        "\n",
        "fig=plt.figure()\n",
        "ncols,nrows = 8, 3\n",
        "fig, axs = plt.subplots(nrows=nrows, ncols=ncols,figsize=(12,5))\n",
        "input_shape= (X_train.shape[1],X_train.shape[2])\n",
        "for i in range(nrows):\n",
        "  for j in range(ncols):\n",
        "    idx = (i * 8) + j\n",
        "    Xi  = X_train[y_train == idx]\n",
        "    imgi = Xi[0].reshape((input_shape[0],input_shape[1]))\n",
        "    axs[i,j].imshow(imgi,interpolation='nearest',cmap=plt.cm.gray)\n",
        "    axs[i,j].axis('off')\n",
        "plt.tight_layout()\n",
        "fig.subplots_adjust(hspace=.1)\n",
        "plt.show()"
      ]
    },
    {
      "cell_type": "markdown",
      "metadata": {
        "id": "i7ww3s4ZeL36"
      },
      "source": [
        "### 2.  Build and train the Greek letter classifier"
      ]
    },
    {
      "cell_type": "code",
      "source": [
        "def printAccuracy(history,results_test):\n",
        "    print(\"train loss %.5f \\t train acc: %.5f\"%(history.history['loss'][-1],history.history['accuracy'][-1]))\n",
        "    print(\"valid loss %.5f \\t valid acc: %.5f\"%(history.history['val_loss'][-1],history.history['val_accuracy'][-1]))\n",
        "    print(\"test loss  %.5f \\t test acc:  %.5f\"%(results_test[0],results_test[1]))\n",
        "\n",
        "def plot_result(history,results_test):\n",
        "    # Get training and validation histories\n",
        "    training_acc = history.history['accuracy']\n",
        "    val_acc      = history.history['val_accuracy']\n",
        "    # Create count of the number of epochs\n",
        "    epoch_count = range(1, len(training_acc) + 1)\n",
        "    # Visualize loss history\n",
        "    plt.plot(epoch_count, training_acc, 'b-o',label='Training')\n",
        "    plt.plot(epoch_count, val_acc, 'r--',label='Validation')\n",
        "    plt.plot(epoch_count, results_test[1]*np.ones(len(epoch_count)),'k--',label='Test')\n",
        "    plt.legend()\n",
        "    plt.title(\"Training and validation accuracy\")\n",
        "    plt.xlabel('Epoch')\n",
        "    plt.ylabel('Accuracy')\n",
        "  \n",
        "def load_data():\n",
        "  X_train,y_train,X_test,y_test = loadGreek()\n",
        "\n",
        "  num_classes = 24\n",
        "  input_shape = (X_train.shape[1],X_train.shape[2])\n",
        "  #normalize the data between 0-1\n",
        "  X_train = X_train.astype('float32') / 255\n",
        "  X_test  = X_test.astype( 'float32') / 255\n",
        "  #Reshape To Match The tf.keras's Expectations for CNNs\n",
        "  X_train = X_train.reshape(X_train.shape[0], input_shape[0], input_shape[1],1)\n",
        "  X_test  = X_test.reshape( X_test.shape[0],  input_shape[0], input_shape[1],1)\n",
        "  #one hot encoding\n",
        "  Y_train = tf.keras.utils.to_categorical(y_train, num_classes)\n",
        "  Y_test  = tf.keras.utils.to_categorical(y_test,  num_classes)\n",
        "\n",
        "  return X_train,Y_train,X_test,Y_test"
      ],
      "metadata": {
        "id": "b1bLvoU8qQPt"
      },
      "execution_count": 4,
      "outputs": []
    },
    {
      "cell_type": "code",
      "source": [
        "X_train,Y_train,X_test,Y_test = load_data()"
      ],
      "metadata": {
        "id": "Yi8A6ep8rnQu"
      },
      "execution_count": 5,
      "outputs": []
    },
    {
      "cell_type": "markdown",
      "metadata": {
        "id": "3JISlIlleL36"
      },
      "source": [
        "#### build model with hyperparamters"
      ]
    },
    {
      "cell_type": "code",
      "execution_count": 6,
      "metadata": {
        "id": "viyNggL-eL36"
      },
      "outputs": [],
      "source": [
        "# your answer here\n",
        "def run_model(batch_size=10, alpha=0.001, drop_rate=0.2, conv_acti='relu', hid_acti='relu', conv_stride=1, pool_stride=1):\n",
        "  np.random.seed(0)\n",
        "  \n",
        "  my_model = tf.keras.models.Sequential([\n",
        "      tf.keras.layers.Conv2D(8, kernel_size=2, strides=conv_stride,  activation=conv_acti, input_shape=X_train[0].shape, padding='same'), #C1\n",
        "      tf.keras.layers.MaxPooling2D(pool_size=(2, 2), strides=pool_stride, padding='valid'), #S2\n",
        "      tf.keras.layers.Conv2D(16, kernel_size=2, strides=conv_stride, activation=conv_acti, padding='valid'), #C3\n",
        "      tf.keras.layers.MaxPooling2D(pool_size=(2, 2), strides=pool_stride, padding='valid'), #S4\n",
        "      # tf.keras.layers.Conv2D(32, kernel_size=2, strides=1, activation='relu', padding='valid'), #C5\n",
        "      tf.keras.layers.Flatten(), #Flatten\n",
        "      tf.keras.layers.Dropout(drop_rate),\n",
        "      tf.keras.layers.Dense(128, activation=hid_acti),\n",
        "      tf.keras.layers.Dropout(drop_rate),\n",
        "      tf.keras.layers.Dense(64, activation=hid_acti),\n",
        "      tf.keras.layers.Dropout(drop_rate),\n",
        "      tf.keras.layers.Dense(24, activation='softmax') #Output layer\n",
        "  ])\n",
        "\n",
        "  # optimizer\n",
        "  opt = tf.keras.optimizers.Nadam(learning_rate=alpha, beta_1=0.9, beta_2=0.999, epsilon=1e-07,name='Nadam')\n",
        "  my_model.compile(loss=\"categorical_crossentropy\", optimizer=opt, metrics=[\"accuracy\"])\n",
        "\n",
        "  #train model here\n",
        "  tstart   = tf.timestamp()\n",
        "  my_history = my_model.fit(X_train, Y_train, verbose=1,\n",
        "                      epochs=10,\n",
        "                      batch_size=batch_size,\n",
        "                      validation_split = 0.2) \n",
        "  total_time = tf.timestamp() - tstart\n",
        "  print(\"total time %3.3f seconds\"%total_time)\n",
        "\n",
        "\n",
        "  return my_model, my_history"
      ]
    },
    {
      "cell_type": "code",
      "execution_count": 7,
      "metadata": {
        "id": "aMtMtyvVeL37",
        "colab": {
          "base_uri": "https://localhost:8080/",
          "height": 0
        },
        "outputId": "5dbc264f-dd76-4666-ddd5-1c1536275301"
      },
      "outputs": [
        {
          "output_type": "stream",
          "name": "stdout",
          "text": [
            "Epoch 1/10\n",
            "692/692 [==============================] - 13s 15ms/step - loss: 1.8520 - accuracy: 0.4171 - val_loss: 0.9643 - val_accuracy: 0.6881\n",
            "Epoch 2/10\n",
            "692/692 [==============================] - 7s 10ms/step - loss: 0.6177 - accuracy: 0.7988 - val_loss: 0.4575 - val_accuracy: 0.8484\n",
            "Epoch 3/10\n",
            "692/692 [==============================] - 6s 8ms/step - loss: 0.3325 - accuracy: 0.8861 - val_loss: 0.3071 - val_accuracy: 0.9039\n",
            "Epoch 4/10\n",
            "692/692 [==============================] - 6s 8ms/step - loss: 0.2297 - accuracy: 0.9232 - val_loss: 0.1811 - val_accuracy: 0.9468\n",
            "Epoch 5/10\n",
            "692/692 [==============================] - 6s 8ms/step - loss: 0.1667 - accuracy: 0.9447 - val_loss: 0.1895 - val_accuracy: 0.9346\n",
            "Epoch 6/10\n",
            "692/692 [==============================] - 5s 8ms/step - loss: 0.1435 - accuracy: 0.9523 - val_loss: 0.1261 - val_accuracy: 0.9606\n",
            "Epoch 7/10\n",
            "692/692 [==============================] - 6s 8ms/step - loss: 0.1212 - accuracy: 0.9598 - val_loss: 0.1493 - val_accuracy: 0.9589\n",
            "Epoch 8/10\n",
            "692/692 [==============================] - 6s 8ms/step - loss: 0.0989 - accuracy: 0.9660 - val_loss: 0.1061 - val_accuracy: 0.9630\n",
            "Epoch 9/10\n",
            "692/692 [==============================] - 5s 8ms/step - loss: 0.0893 - accuracy: 0.9693 - val_loss: 0.0931 - val_accuracy: 0.9745\n",
            "Epoch 10/10\n",
            "692/692 [==============================] - 5s 8ms/step - loss: 0.0834 - accuracy: 0.9709 - val_loss: 0.1124 - val_accuracy: 0.9630\n",
            "total time 84.712 seconds\n"
          ]
        }
      ],
      "source": [
        "# your answer here\n",
        "result = run_model()"
      ]
    },
    {
      "cell_type": "markdown",
      "metadata": {
        "id": "Hvg_KRdBeL37"
      },
      "source": [
        "### 3. Print the model summary showing the number of parameters"
      ]
    },
    {
      "cell_type": "code",
      "execution_count": 8,
      "metadata": {
        "id": "FQML68QCeL37",
        "colab": {
          "base_uri": "https://localhost:8080/",
          "height": 0
        },
        "outputId": "726cabbd-24f4-4d8c-ef14-ec9b6b957cef"
      },
      "outputs": [
        {
          "output_type": "stream",
          "name": "stdout",
          "text": [
            "Model: \"sequential\"\n",
            "_________________________________________________________________\n",
            " Layer (type)                Output Shape              Param #   \n",
            "=================================================================\n",
            " conv2d (Conv2D)             (None, 14, 14, 8)         40        \n",
            "                                                                 \n",
            " max_pooling2d (MaxPooling2D  (None, 13, 13, 8)        0         \n",
            " )                                                               \n",
            "                                                                 \n",
            " conv2d_1 (Conv2D)           (None, 12, 12, 16)        528       \n",
            "                                                                 \n",
            " max_pooling2d_1 (MaxPooling  (None, 11, 11, 16)       0         \n",
            " 2D)                                                             \n",
            "                                                                 \n",
            " flatten (Flatten)           (None, 1936)              0         \n",
            "                                                                 \n",
            " dropout (Dropout)           (None, 1936)              0         \n",
            "                                                                 \n",
            " dense (Dense)               (None, 128)               247936    \n",
            "                                                                 \n",
            " dropout_1 (Dropout)         (None, 128)               0         \n",
            "                                                                 \n",
            " dense_1 (Dense)             (None, 64)                8256      \n",
            "                                                                 \n",
            " dropout_2 (Dropout)         (None, 64)                0         \n",
            "                                                                 \n",
            " dense_2 (Dense)             (None, 24)                1560      \n",
            "                                                                 \n",
            "=================================================================\n",
            "Total params: 258,320\n",
            "Trainable params: 258,320\n",
            "Non-trainable params: 0\n",
            "_________________________________________________________________\n",
            "None\n"
          ]
        }
      ],
      "source": [
        "print(result[0].summary())"
      ]
    },
    {
      "cell_type": "markdown",
      "metadata": {
        "id": "CaAhpNNceL37"
      },
      "source": [
        "### 4. Plot the training, validation and test accuracy.  \n",
        "* In the title, include the Test accuracy (to 4 significan digits, XX.XX%)\n",
        "* In the title, include the time to train the model"
      ]
    },
    {
      "cell_type": "code",
      "execution_count": 9,
      "metadata": {
        "scrolled": false,
        "id": "Csb8QkbReL38",
        "colab": {
          "base_uri": "https://localhost:8080/",
          "height": 371
        },
        "outputId": "7ad09809-821a-4792-e80d-9db78fd7f821"
      },
      "outputs": [
        {
          "output_type": "stream",
          "name": "stdout",
          "text": [
            "train loss 0.08344 \t train acc: 0.97092\n",
            "valid loss 0.11235 \t valid acc: 0.96296\n",
            "test loss  0.29743 \t test acc:  0.91377\n"
          ]
        },
        {
          "output_type": "display_data",
          "data": {
            "text/plain": [
              "<Figure size 432x288 with 1 Axes>"
            ],
            "image/png": "[encoded data removed]"
          },
          "metadata": {
            "needs_background": "light"
          }
        }
      ],
      "source": [
        "# your answer here\n",
        "results_test = result[0].evaluate(X_test, Y_test, batch_size=128,verbose=0)\n",
        "history = result[1]\n",
        "printAccuracy(history, results_test)\n",
        "plot_result(history, results_test)"
      ]
    },
    {
      "cell_type": "markdown",
      "metadata": {
        "id": "Bbtkj5MZeL38"
      },
      "source": [
        "#### Comment on your result"
      ]
    },
    {
      "cell_type": "markdown",
      "source": [
        "* The model earned higher accuracy with smaller kernel and smaller strides, which means that I tried my best to preserve the data. Although the number of parameters is much bigger than if I use bigger kernel or strides, that number is still in valid range\n",
        "* The valid accuracy is a little fluctuated"
      ],
      "metadata": {
        "id": "5g-1p4zUeL38"
      }
    },
    {
      "cell_type": "markdown",
      "metadata": {
        "id": "mhLVjE_GeL38"
      },
      "source": [
        "# Problem 4: who wrote it "
      ]
    },
    {
      "cell_type": "markdown",
      "metadata": {
        "id": "OX0tUsIZeL38"
      },
      "source": [
        "Our training set consist of 6 test by the following authors and their works:\n",
        "\n",
        "#### Training dataset\n",
        "| class | Author | Novel |\n",
        "| - | - | - | \n",
        "| 0 | \tCharlotte Brontë |\tVillette\t|\n",
        "| 1\t|\tFyodor Dostoyevsky\t| Brothers Kamarazov\t|\n",
        "| 2\t|\tVictor Hugo\t| Les Misérables\t|\n",
        "| 3\t|\tMark Twain\t| The Adventures of Tom Sawyer\t |\n",
        "\n",
        "\n",
        "Unfortunately, the curator of this database, mixed-up the test classes so that they do not correspond to the training dataset.  So we'll use only be refering to the **test** dataset loosely as the class label don't match the **train** dataset.\n",
        "\n",
        "#### Test dataset\n",
        "| class | Author | Novel |\n",
        "| - | - | - | \n",
        "| ? | \tCharlotte Brontë |\t\n",
        "| ?\t|\tFyodor Dostoyevsky\t|\n",
        "| ?\t|\tVictor Hugo\t| \n",
        "| ?\t|\tMark Twain\t| \n",
        "\n",
        "### Your goal is to build a classifier that will determine which of the training authors wrote a particular query sentence.  \n",
        "0. Load the data.\n",
        "1. Preprocess the train and test dataset.\n",
        "2. Build the vectorizer and classifier.\n",
        "3. Use model to predict the test classes.  \n",
        "* For each test class label, predict the corresponding training class, make a histogram for each test class label.  Use this to determine which train class label corresponds to which test class label.\n",
        "4. Make a 'whoSaidIt' function that can predict which of the four authors wrote query text (provided below). \n",
        "\n",
        "  * UPDATE: build a model and predict the test classes:\n",
        "     For the training dataset, we know Bronte is labeled as class =0 and Hugo is class=2.  After you have built the classifier, your task is to determine which label of the test data belongs to which label of the train data.  That is, the labels of the test data are mixed up.  Training class =0 is not the same author as test class=0.  Your task is then to fix the mismatch.  For each test class, who is the author?  For test class =0, was it Bronte, Dostoyevsky, Hugo or Twain?\n",
        "\n",
        "\n"
      ]
    },
    {
      "cell_type": "markdown",
      "metadata": {
        "id": "hCyCNhx3eL38"
      },
      "source": [
        "### 0. Load the data."
      ]
    },
    {
      "cell_type": "code",
      "execution_count": 10,
      "metadata": {
        "id": "0FLDHECveL39",
        "colab": {
          "base_uri": "https://localhost:8080/",
          "height": 206
        },
        "outputId": "771ae247-e055-4355-a4b7-9f8019cc9960"
      },
      "outputs": [
        {
          "output_type": "execute_result",
          "data": {
            "text/plain": [
              "   class                                               text\n",
              "0      0  My godmother lived in a handsome house in the ...\n",
              "1      0  Her husband’s family had been residents there ...\n",
              "2      0  When I was a girl I went to Bretton about twic...\n",
              "3      0     The house and its inmates specially suited me.\n",
              "4      0  The\\r\\nlarge peaceful rooms, the well-arranged..."
            ],
            "text/html": [
              "\n",
              "  <div id=\"df-7abd85f2-bcbf-4b5b-aa34-12a5bd4838a9\">\n",
              "    <div class=\"colab-df-container\">\n",
              "      <div>\n",
              "<style scoped>\n",
              "    .dataframe tbody tr th:only-of-type {\n",
              "        vertical-align: middle;\n",
              "    }\n",
              "\n",
              "    .dataframe tbody tr th {\n",
              "        vertical-align: top;\n",
              "    }\n",
              "\n",
              "    .dataframe thead th {\n",
              "        text-align: right;\n",
              "    }\n",
              "</style>\n",
              "<table border=\"1\" class=\"dataframe\">\n",
              "  <thead>\n",
              "    <tr style=\"text-align: right;\">\n",
              "      <th></th>\n",
              "      <th>class</th>\n",
              "      <th>text</th>\n",
              "    </tr>\n",
              "  </thead>\n",
              "  <tbody>\n",
              "    <tr>\n",
              "      <th>0</th>\n",
              "      <td>0</td>\n",
              "      <td>My godmother lived in a handsome house in the ...</td>\n",
              "    </tr>\n",
              "    <tr>\n",
              "      <th>1</th>\n",
              "      <td>0</td>\n",
              "      <td>Her husband’s family had been residents there ...</td>\n",
              "    </tr>\n",
              "    <tr>\n",
              "      <th>2</th>\n",
              "      <td>0</td>\n",
              "      <td>When I was a girl I went to Bretton about twic...</td>\n",
              "    </tr>\n",
              "    <tr>\n",
              "      <th>3</th>\n",
              "      <td>0</td>\n",
              "      <td>The house and its inmates specially suited me.</td>\n",
              "    </tr>\n",
              "    <tr>\n",
              "      <th>4</th>\n",
              "      <td>0</td>\n",
              "      <td>The\\r\\nlarge peaceful rooms, the well-arranged...</td>\n",
              "    </tr>\n",
              "  </tbody>\n",
              "</table>\n",
              "</div>\n",
              "      <button class=\"colab-df-convert\" onclick=\"convertToInteractive('df-7abd85f2-bcbf-4b5b-aa34-12a5bd4838a9')\"\n",
              "              title=\"Convert this dataframe to an interactive table.\"\n",
              "              style=\"display:none;\">\n",
              "        \n",
              "  <svg xmlns=\"http://www.w3.org/2000/svg\" height=\"24px\"viewBox=\"0 0 24 24\"\n",
              "       width=\"24px\">\n",
              "    <path d=\"M0 0h24v24H0V0z\" fill=\"none\"/>\n",
              "    <path d=\"M18.56 5.44l.94 2.06.94-2.06 2.06-.94-2.06-.94-.94-2.06-.94 2.06-2.06.94zm-11 1L8.5 8.5l.94-2.06 2.06-.94-2.06-.94L8.5 2.5l-.94 2.06-2.06.94zm10 10l.94 2.06.94-2.06 2.06-.94-2.06-.94-.94-2.06-.94 2.06-2.06.94z\"/><path d=\"M17.41 7.96l-1.37-1.37c-.4-.4-.92-.59-1.43-.59-.52 0-1.04.2-1.43.59L10.3 9.45l-7.72 7.72c-.78.78-.78 2.05 0 2.83L4 21.41c.39.39.9.59 1.41.59.51 0 1.02-.2 1.41-.59l7.78-7.78 2.81-2.81c.8-.78.8-2.07 0-2.86zM5.41 20L4 18.59l7.72-7.72 1.47 1.35L5.41 20z\"/>\n",
              "  </svg>\n",
              "      </button>\n",
              "      \n",
              "  <style>\n",
              "    .colab-df-container {\n",
              "      display:flex;\n",
              "      flex-wrap:wrap;\n",
              "      gap: 12px;\n",
              "    }\n",
              "\n",
              "    .colab-df-convert {\n",
              "      background-color: #E8F0FE;\n",
              "      border: none;\n",
              "      border-radius: 50%;\n",
              "      cursor: pointer;\n",
              "      display: none;\n",
              "      fill: #1967D2;\n",
              "      height: 32px;\n",
              "      padding: 0 0 0 0;\n",
              "      width: 32px;\n",
              "    }\n",
              "\n",
              "    .colab-df-convert:hover {\n",
              "      background-color: #E2EBFA;\n",
              "      box-shadow: 0px 1px 2px rgba(60, 64, 67, 0.3), 0px 1px 3px 1px rgba(60, 64, 67, 0.15);\n",
              "      fill: #174EA6;\n",
              "    }\n",
              "\n",
              "    [theme=dark] .colab-df-convert {\n",
              "      background-color: #3B4455;\n",
              "      fill: #D2E3FC;\n",
              "    }\n",
              "\n",
              "    [theme=dark] .colab-df-convert:hover {\n",
              "      background-color: #434B5C;\n",
              "      box-shadow: 0px 1px 3px 1px rgba(0, 0, 0, 0.15);\n",
              "      filter: drop-shadow(0px 1px 2px rgba(0, 0, 0, 0.3));\n",
              "      fill: #FFFFFF;\n",
              "    }\n",
              "  </style>\n",
              "\n",
              "      <script>\n",
              "        const buttonEl =\n",
              "          document.querySelector('#df-7abd85f2-bcbf-4b5b-aa34-12a5bd4838a9 button.colab-df-convert');\n",
              "        buttonEl.style.display =\n",
              "          google.colab.kernel.accessAllowed ? 'block' : 'none';\n",
              "\n",
              "        async function convertToInteractive(key) {\n",
              "          const element = document.querySelector('#df-7abd85f2-bcbf-4b5b-aa34-12a5bd4838a9');\n",
              "          const dataTable =\n",
              "            await google.colab.kernel.invokeFunction('convertToInteractive',\n",
              "                                                     [key], {});\n",
              "          if (!dataTable) return;\n",
              "\n",
              "          const docLinkHtml = 'Like what you see? Visit the ' +\n",
              "            '<a target=\"_blank\" href=https://colab.research.google.com/notebooks/data_table.ipynb>data table notebook</a>'\n",
              "            + ' to learn more about interactive tables.';\n",
              "          element.innerHTML = '';\n",
              "          dataTable['output_type'] = 'display_data';\n",
              "          await google.colab.output.renderOutput(dataTable, element);\n",
              "          const docLink = document.createElement('div');\n",
              "          docLink.innerHTML = docLinkHtml;\n",
              "          element.appendChild(docLink);\n",
              "        }\n",
              "      </script>\n",
              "    </div>\n",
              "  </div>\n",
              "  "
            ]
          },
          "metadata": {},
          "execution_count": 10
        }
      ],
      "source": [
        "web_addr='http://public.gettysburg.edu/~jpuckett/ds325/exam02/'\n",
        "df_train = pd.read_csv(web_addr+'exam02-corpus-train.csv.gz')\n",
        "df_test  = pd.read_csv(web_addr+'exam02-corpus-test.csv.gz')\n",
        "df_train.head(5)"
      ]
    },
    {
      "cell_type": "code",
      "source": [
        "print(df_train.shape)\n",
        "print(df_test.shape)"
      ],
      "metadata": {
        "colab": {
          "base_uri": "https://localhost:8080/",
          "height": 0
        },
        "id": "YDgmX-UAXNoa",
        "outputId": "54dbed90-d197-495c-c2a6-5f571a7e4ffc"
      },
      "execution_count": 11,
      "outputs": [
        {
          "output_type": "stream",
          "name": "stdout",
          "text": [
            "(14260, 2)\n",
            "(17820, 2)\n"
          ]
        }
      ]
    },
    {
      "cell_type": "markdown",
      "metadata": {
        "id": "7XRdwOsTeL39"
      },
      "source": [
        "### 1. Pre-process the data"
      ]
    },
    {
      "cell_type": "code",
      "source": [
        "class_names = ['0_Bronte', '1_Dostoy','2_Hugo', '3_Twain']\n",
        "ax = sns.countplot(x=df_train['class']); \n",
        "ax.set_xticklabels(class_names)\n",
        "plt.show()"
      ],
      "metadata": {
        "colab": {
          "base_uri": "https://localhost:8080/",
          "height": 300
        },
        "id": "xIkedoUEsr9P",
        "outputId": "3df76203-5ec1-44a5-e720-b16ac4bb7eac"
      },
      "execution_count": 12,
      "outputs": [
        {
          "output_type": "display_data",
          "data": {
            "text/plain": [
              "<Figure size 432x288 with 1 Axes>"
            ],
            "image/png": "[encoded data removed]"
          },
          "metadata": {
            "needs_background": "light"
          }
        }
      ]
    },
    {
      "cell_type": "code",
      "execution_count": 13,
      "metadata": {
        "id": "ljE718PaeL39"
      },
      "outputs": [],
      "source": [
        "def clean_word(raw_text): #tokenize, lowercase, remove stopwords, remove punctuation, lemmatize\n",
        "  #define function to convert raw text into tokens as detailed above\n",
        "  stop_words     = set(nltk.corpus.stopwords.words('english'))\n",
        "  stemmer        = nltk.stem.PorterStemmer()\n",
        "  wnl            = nltk.WordNetLemmatizer()\n",
        "\n",
        "  tokens         = nltk.tokenize.word_tokenize(raw_text)             # split into tokens\n",
        "  tokens         = [ word.lower() for word in tokens ]               # to lower\n",
        "  tokens         = [ w for w in tokens if not w in stop_words ]      # remove stop words\n",
        "  tokens         = [ word for word in tokens if word.isalpha() ]     # remove not alphabetic\n",
        "  tokens         = [ wnl.lemmatize ( t ) for t in tokens ]           # lemmatize\n",
        "  text = \" \".join(tokens)\n",
        "  return text"
      ]
    },
    {
      "cell_type": "code",
      "execution_count": 14,
      "metadata": {
        "id": "2vk1hYJreL39"
      },
      "outputs": [],
      "source": [
        "df_train['clean']  = df_train.text.map(lambda x: clean_word(x)) #this may take a few minutes\n",
        "df_train['length'] = df_train['text'].apply(len)\n",
        "\n",
        "clean_text_0_Bronte = df_train[df_train['class']==0]\n",
        "clean_text_1_Dostoy = df_train[df_train['class']==1]\n",
        "clean_text_2_Hugo = df_train[df_train['class']==2]\n",
        "clean_text_3_Twain = df_train[df_train['class']==3]"
      ]
    },
    {
      "cell_type": "code",
      "execution_count": 15,
      "metadata": {
        "id": "IY2qZaFoeL39",
        "colab": {
          "base_uri": "https://localhost:8080/",
          "height": 81
        },
        "outputId": "3c339790-ad02-4fd5-cc77-9799dbb7cf66"
      },
      "outputs": [
        {
          "output_type": "execute_result",
          "data": {
            "text/plain": [
              "   class                                               text  \\\n",
              "0      0  My godmother lived in a handsome house in the ...   \n",
              "\n",
              "                                               clean  length  \n",
              "0  godmother lived handsome house clean ancient t...      81  "
            ],
            "text/html": [
              "\n",
              "  <div id=\"df-2eae8617-15fa-476b-b42f-6642c434dbbf\">\n",
              "    <div class=\"colab-df-container\">\n",
              "      <div>\n",
              "<style scoped>\n",
              "    .dataframe tbody tr th:only-of-type {\n",
              "        vertical-align: middle;\n",
              "    }\n",
              "\n",
              "    .dataframe tbody tr th {\n",
              "        vertical-align: top;\n",
              "    }\n",
              "\n",
              "    .dataframe thead th {\n",
              "        text-align: right;\n",
              "    }\n",
              "</style>\n",
              "<table border=\"1\" class=\"dataframe\">\n",
              "  <thead>\n",
              "    <tr style=\"text-align: right;\">\n",
              "      <th></th>\n",
              "      <th>class</th>\n",
              "      <th>text</th>\n",
              "      <th>clean</th>\n",
              "      <th>length</th>\n",
              "    </tr>\n",
              "  </thead>\n",
              "  <tbody>\n",
              "    <tr>\n",
              "      <th>0</th>\n",
              "      <td>0</td>\n",
              "      <td>My godmother lived in a handsome house in the ...</td>\n",
              "      <td>godmother lived handsome house clean ancient t...</td>\n",
              "      <td>81</td>\n",
              "    </tr>\n",
              "  </tbody>\n",
              "</table>\n",
              "</div>\n",
              "      <button class=\"colab-df-convert\" onclick=\"convertToInteractive('df-2eae8617-15fa-476b-b42f-6642c434dbbf')\"\n",
              "              title=\"Convert this dataframe to an interactive table.\"\n",
              "              style=\"display:none;\">\n",
              "        \n",
              "  <svg xmlns=\"http://www.w3.org/2000/svg\" height=\"24px\"viewBox=\"0 0 24 24\"\n",
              "       width=\"24px\">\n",
              "    <path d=\"M0 0h24v24H0V0z\" fill=\"none\"/>\n",
              "    <path d=\"M18.56 5.44l.94 2.06.94-2.06 2.06-.94-2.06-.94-.94-2.06-.94 2.06-2.06.94zm-11 1L8.5 8.5l.94-2.06 2.06-.94-2.06-.94L8.5 2.5l-.94 2.06-2.06.94zm10 10l.94 2.06.94-2.06 2.06-.94-2.06-.94-.94-2.06-.94 2.06-2.06.94z\"/><path d=\"M17.41 7.96l-1.37-1.37c-.4-.4-.92-.59-1.43-.59-.52 0-1.04.2-1.43.59L10.3 9.45l-7.72 7.72c-.78.78-.78 2.05 0 2.83L4 21.41c.39.39.9.59 1.41.59.51 0 1.02-.2 1.41-.59l7.78-7.78 2.81-2.81c.8-.78.8-2.07 0-2.86zM5.41 20L4 18.59l7.72-7.72 1.47 1.35L5.41 20z\"/>\n",
              "  </svg>\n",
              "      </button>\n",
              "      \n",
              "  <style>\n",
              "    .colab-df-container {\n",
              "      display:flex;\n",
              "      flex-wrap:wrap;\n",
              "      gap: 12px;\n",
              "    }\n",
              "\n",
              "    .colab-df-convert {\n",
              "      background-color: #E8F0FE;\n",
              "      border: none;\n",
              "      border-radius: 50%;\n",
              "      cursor: pointer;\n",
              "      display: none;\n",
              "      fill: #1967D2;\n",
              "      height: 32px;\n",
              "      padding: 0 0 0 0;\n",
              "      width: 32px;\n",
              "    }\n",
              "\n",
              "    .colab-df-convert:hover {\n",
              "      background-color: #E2EBFA;\n",
              "      box-shadow: 0px 1px 2px rgba(60, 64, 67, 0.3), 0px 1px 3px 1px rgba(60, 64, 67, 0.15);\n",
              "      fill: #174EA6;\n",
              "    }\n",
              "\n",
              "    [theme=dark] .colab-df-convert {\n",
              "      background-color: #3B4455;\n",
              "      fill: #D2E3FC;\n",
              "    }\n",
              "\n",
              "    [theme=dark] .colab-df-convert:hover {\n",
              "      background-color: #434B5C;\n",
              "      box-shadow: 0px 1px 3px 1px rgba(0, 0, 0, 0.15);\n",
              "      filter: drop-shadow(0px 1px 2px rgba(0, 0, 0, 0.3));\n",
              "      fill: #FFFFFF;\n",
              "    }\n",
              "  </style>\n",
              "\n",
              "      <script>\n",
              "        const buttonEl =\n",
              "          document.querySelector('#df-2eae8617-15fa-476b-b42f-6642c434dbbf button.colab-df-convert');\n",
              "        buttonEl.style.display =\n",
              "          google.colab.kernel.accessAllowed ? 'block' : 'none';\n",
              "\n",
              "        async function convertToInteractive(key) {\n",
              "          const element = document.querySelector('#df-2eae8617-15fa-476b-b42f-6642c434dbbf');\n",
              "          const dataTable =\n",
              "            await google.colab.kernel.invokeFunction('convertToInteractive',\n",
              "                                                     [key], {});\n",
              "          if (!dataTable) return;\n",
              "\n",
              "          const docLinkHtml = 'Like what you see? Visit the ' +\n",
              "            '<a target=\"_blank\" href=https://colab.research.google.com/notebooks/data_table.ipynb>data table notebook</a>'\n",
              "            + ' to learn more about interactive tables.';\n",
              "          element.innerHTML = '';\n",
              "          dataTable['output_type'] = 'display_data';\n",
              "          await google.colab.output.renderOutput(dataTable, element);\n",
              "          const docLink = document.createElement('div');\n",
              "          docLink.innerHTML = docLinkHtml;\n",
              "          element.appendChild(docLink);\n",
              "        }\n",
              "      </script>\n",
              "    </div>\n",
              "  </div>\n",
              "  "
            ]
          },
          "metadata": {},
          "execution_count": 15
        }
      ],
      "source": [
        "df_train.head(1)"
      ]
    },
    {
      "cell_type": "code",
      "source": [
        "clean_text_2_Hugo.head(1)"
      ],
      "metadata": {
        "colab": {
          "base_uri": "https://localhost:8080/",
          "height": 81
        },
        "id": "W3X4n9YbzQ_B",
        "outputId": "ac4edb82-3e56-4819-f274-aa6a743a56de"
      },
      "execution_count": 16,
      "outputs": [
        {
          "output_type": "execute_result",
          "data": {
            "text/plain": [
              "      class                                               text  \\\n",
              "7130      2  So long as there shall exist, by virtue of law...   \n",
              "\n",
              "                                                  clean  length  \n",
              "7130  long shall exist virtue law custom decree damn...     653  "
            ],
            "text/html": [
              "\n",
              "  <div id=\"df-f39c7a1c-88a2-4b76-9335-125794cbc72f\">\n",
              "    <div class=\"colab-df-container\">\n",
              "      <div>\n",
              "<style scoped>\n",
              "    .dataframe tbody tr th:only-of-type {\n",
              "        vertical-align: middle;\n",
              "    }\n",
              "\n",
              "    .dataframe tbody tr th {\n",
              "        vertical-align: top;\n",
              "    }\n",
              "\n",
              "    .dataframe thead th {\n",
              "        text-align: right;\n",
              "    }\n",
              "</style>\n",
              "<table border=\"1\" class=\"dataframe\">\n",
              "  <thead>\n",
              "    <tr style=\"text-align: right;\">\n",
              "      <th></th>\n",
              "      <th>class</th>\n",
              "      <th>text</th>\n",
              "      <th>clean</th>\n",
              "      <th>length</th>\n",
              "    </tr>\n",
              "  </thead>\n",
              "  <tbody>\n",
              "    <tr>\n",
              "      <th>7130</th>\n",
              "      <td>2</td>\n",
              "      <td>So long as there shall exist, by virtue of law...</td>\n",
              "      <td>long shall exist virtue law custom decree damn...</td>\n",
              "      <td>653</td>\n",
              "    </tr>\n",
              "  </tbody>\n",
              "</table>\n",
              "</div>\n",
              "      <button class=\"colab-df-convert\" onclick=\"convertToInteractive('df-f39c7a1c-88a2-4b76-9335-125794cbc72f')\"\n",
              "              title=\"Convert this dataframe to an interactive table.\"\n",
              "              style=\"display:none;\">\n",
              "        \n",
              "  <svg xmlns=\"http://www.w3.org/2000/svg\" height=\"24px\"viewBox=\"0 0 24 24\"\n",
              "       width=\"24px\">\n",
              "    <path d=\"M0 0h24v24H0V0z\" fill=\"none\"/>\n",
              "    <path d=\"M18.56 5.44l.94 2.06.94-2.06 2.06-.94-2.06-.94-.94-2.06-.94 2.06-2.06.94zm-11 1L8.5 8.5l.94-2.06 2.06-.94-2.06-.94L8.5 2.5l-.94 2.06-2.06.94zm10 10l.94 2.06.94-2.06 2.06-.94-2.06-.94-.94-2.06-.94 2.06-2.06.94z\"/><path d=\"M17.41 7.96l-1.37-1.37c-.4-.4-.92-.59-1.43-.59-.52 0-1.04.2-1.43.59L10.3 9.45l-7.72 7.72c-.78.78-.78 2.05 0 2.83L4 21.41c.39.39.9.59 1.41.59.51 0 1.02-.2 1.41-.59l7.78-7.78 2.81-2.81c.8-.78.8-2.07 0-2.86zM5.41 20L4 18.59l7.72-7.72 1.47 1.35L5.41 20z\"/>\n",
              "  </svg>\n",
              "      </button>\n",
              "      \n",
              "  <style>\n",
              "    .colab-df-container {\n",
              "      display:flex;\n",
              "      flex-wrap:wrap;\n",
              "      gap: 12px;\n",
              "    }\n",
              "\n",
              "    .colab-df-convert {\n",
              "      background-color: #E8F0FE;\n",
              "      border: none;\n",
              "      border-radius: 50%;\n",
              "      cursor: pointer;\n",
              "      display: none;\n",
              "      fill: #1967D2;\n",
              "      height: 32px;\n",
              "      padding: 0 0 0 0;\n",
              "      width: 32px;\n",
              "    }\n",
              "\n",
              "    .colab-df-convert:hover {\n",
              "      background-color: #E2EBFA;\n",
              "      box-shadow: 0px 1px 2px rgba(60, 64, 67, 0.3), 0px 1px 3px 1px rgba(60, 64, 67, 0.15);\n",
              "      fill: #174EA6;\n",
              "    }\n",
              "\n",
              "    [theme=dark] .colab-df-convert {\n",
              "      background-color: #3B4455;\n",
              "      fill: #D2E3FC;\n",
              "    }\n",
              "\n",
              "    [theme=dark] .colab-df-convert:hover {\n",
              "      background-color: #434B5C;\n",
              "      box-shadow: 0px 1px 3px 1px rgba(0, 0, 0, 0.15);\n",
              "      filter: drop-shadow(0px 1px 2px rgba(0, 0, 0, 0.3));\n",
              "      fill: #FFFFFF;\n",
              "    }\n",
              "  </style>\n",
              "\n",
              "      <script>\n",
              "        const buttonEl =\n",
              "          document.querySelector('#df-f39c7a1c-88a2-4b76-9335-125794cbc72f button.colab-df-convert');\n",
              "        buttonEl.style.display =\n",
              "          google.colab.kernel.accessAllowed ? 'block' : 'none';\n",
              "\n",
              "        async function convertToInteractive(key) {\n",
              "          const element = document.querySelector('#df-f39c7a1c-88a2-4b76-9335-125794cbc72f');\n",
              "          const dataTable =\n",
              "            await google.colab.kernel.invokeFunction('convertToInteractive',\n",
              "                                                     [key], {});\n",
              "          if (!dataTable) return;\n",
              "\n",
              "          const docLinkHtml = 'Like what you see? Visit the ' +\n",
              "            '<a target=\"_blank\" href=https://colab.research.google.com/notebooks/data_table.ipynb>data table notebook</a>'\n",
              "            + ' to learn more about interactive tables.';\n",
              "          element.innerHTML = '';\n",
              "          dataTable['output_type'] = 'display_data';\n",
              "          await google.colab.output.renderOutput(dataTable, element);\n",
              "          const docLink = document.createElement('div');\n",
              "          docLink.innerHTML = docLinkHtml;\n",
              "          element.appendChild(docLink);\n",
              "        }\n",
              "      </script>\n",
              "    </div>\n",
              "  </div>\n",
              "  "
            ]
          },
          "metadata": {},
          "execution_count": 16
        }
      ]
    },
    {
      "cell_type": "markdown",
      "metadata": {
        "id": "Im8RP9dMeL39"
      },
      "source": [
        "### 2. Build the vectorizer and classifier"
      ]
    },
    {
      "cell_type": "code",
      "execution_count": 17,
      "metadata": {
        "id": "hOkDSDEEeL39"
      },
      "outputs": [],
      "source": [
        "pipeline = Pipeline([\n",
        "    ('tfidf', TfidfVectorizer()), #define our vectorizer\n",
        "    ('clf', MultinomialNB()),      #define our classifier\n",
        "])\n",
        "\n",
        "#define parameters\n",
        "parameters = {\n",
        "    'tfidf__min_df': (0,   0.001),\n",
        "    'tfidf__max_df': (0.5, 1.0),\n",
        "    'tfidf__max_features': [1000, None],\n",
        "    'tfidf__ngram_range': ((1, 1), (1, 2)),  # unigrams or bigrams\n",
        "}\n",
        "\n",
        "#use GridSearchCV\n",
        "grid = GridSearchCV(pipeline, parameters, n_jobs=-1, verbose=1, cv=3);"
      ]
    },
    {
      "cell_type": "code",
      "execution_count": 18,
      "metadata": {
        "id": "zpFqkMG7eL3-",
        "colab": {
          "base_uri": "https://localhost:8080/",
          "height": 0
        },
        "outputId": "ed295859-d638-4fb4-f4c4-ee9ab42a4953"
      },
      "outputs": [
        {
          "output_type": "stream",
          "name": "stdout",
          "text": [
            "Fitting 3 folds for each of 16 candidates, totalling 48 fits\n",
            "GridSearch took 17.41 seconds \n"
          ]
        }
      ],
      "source": [
        "start_time = time.time()\n",
        "grid.fit(df_train['clean'], df_train['class']);\n",
        "print(\"GridSearch took %3.2f seconds \" % (time.time() - start_time))"
      ]
    },
    {
      "cell_type": "code",
      "execution_count": 19,
      "metadata": {
        "id": "mr9CcLgPeL3-",
        "colab": {
          "base_uri": "https://localhost:8080/",
          "height": 0
        },
        "outputId": "0301f629-eb58-42dd-a127-588a9108bea2"
      },
      "outputs": [
        {
          "output_type": "stream",
          "name": "stdout",
          "text": [
            "Best Score:  0.6561710554395112\n",
            "Best Params:  {'tfidf__max_df': 0.5, 'tfidf__max_features': None, 'tfidf__min_df': 0, 'tfidf__ngram_range': (1, 2)}\n"
          ]
        }
      ],
      "source": [
        "print(\"Best Score: \", grid.best_score_)\n",
        "print(\"Best Params: \", grid.best_params_)\n",
        "model = grid.best_estimator_  #should already be trained/fit\n",
        "\n"
      ]
    },
    {
      "cell_type": "markdown",
      "metadata": {
        "id": "-qJvLF-heL3-"
      },
      "source": [
        "### 3. Use model to predict the test classes\n",
        "* Predict the class for each sentence individually.\n",
        "* For each test class, make a histogram of the predicted classes to determine which test class belongs to which train class.\n",
        "* Summarize your results in the table below."
      ]
    },
    {
      "cell_type": "code",
      "source": [
        "test_0 = df_test[df_test['class']==0]\n",
        "test_1 = df_test[df_test['class']==1]\n",
        "test_2 = df_test[df_test['class']==2]\n",
        "test_3 = df_test[df_test['class']==3]"
      ],
      "metadata": {
        "id": "muvBfRjh1OLC"
      },
      "execution_count": 20,
      "outputs": []
    },
    {
      "cell_type": "code",
      "source": [
        "df_test['predict']=model.predict(df_test['text'])"
      ],
      "metadata": {
        "id": "nIABjwi7yifV"
      },
      "execution_count": 21,
      "outputs": []
    },
    {
      "cell_type": "code",
      "source": [
        "df_test.head()"
      ],
      "metadata": {
        "colab": {
          "base_uri": "https://localhost:8080/",
          "height": 206
        },
        "id": "syblA2GM1vGt",
        "outputId": "725538e9-9151-4a7e-ee13-3a35bae5711a"
      },
      "execution_count": 22,
      "outputs": [
        {
          "output_type": "execute_result",
          "data": {
            "text/plain": [
              "                                                text  class  predict\n",
              "0  You don't know about me without you have read ...      0        3\n",
              "1  That book was made\\r\\nby Mr. Mark Twain, and h...      0        0\n",
              "2  There was things\\r\\nwhich he stretched, but ma...      0        3\n",
              "3                                   That is nothing.      0        2\n",
              "4  I\\r\\nnever seen anybody but lied one time or a...      0        3"
            ],
            "text/html": [
              "\n",
              "  <div id=\"df-f2430a42-9dcc-4bf7-8c96-e17b7556a2ca\">\n",
              "    <div class=\"colab-df-container\">\n",
              "      <div>\n",
              "<style scoped>\n",
              "    .dataframe tbody tr th:only-of-type {\n",
              "        vertical-align: middle;\n",
              "    }\n",
              "\n",
              "    .dataframe tbody tr th {\n",
              "        vertical-align: top;\n",
              "    }\n",
              "\n",
              "    .dataframe thead th {\n",
              "        text-align: right;\n",
              "    }\n",
              "</style>\n",
              "<table border=\"1\" class=\"dataframe\">\n",
              "  <thead>\n",
              "    <tr style=\"text-align: right;\">\n",
              "      <th></th>\n",
              "      <th>text</th>\n",
              "      <th>class</th>\n",
              "      <th>predict</th>\n",
              "    </tr>\n",
              "  </thead>\n",
              "  <tbody>\n",
              "    <tr>\n",
              "      <th>0</th>\n",
              "      <td>You don't know about me without you have read ...</td>\n",
              "      <td>0</td>\n",
              "      <td>3</td>\n",
              "    </tr>\n",
              "    <tr>\n",
              "      <th>1</th>\n",
              "      <td>That book was made\\r\\nby Mr. Mark Twain, and h...</td>\n",
              "      <td>0</td>\n",
              "      <td>0</td>\n",
              "    </tr>\n",
              "    <tr>\n",
              "      <th>2</th>\n",
              "      <td>There was things\\r\\nwhich he stretched, but ma...</td>\n",
              "      <td>0</td>\n",
              "      <td>3</td>\n",
              "    </tr>\n",
              "    <tr>\n",
              "      <th>3</th>\n",
              "      <td>That is nothing.</td>\n",
              "      <td>0</td>\n",
              "      <td>2</td>\n",
              "    </tr>\n",
              "    <tr>\n",
              "      <th>4</th>\n",
              "      <td>I\\r\\nnever seen anybody but lied one time or a...</td>\n",
              "      <td>0</td>\n",
              "      <td>3</td>\n",
              "    </tr>\n",
              "  </tbody>\n",
              "</table>\n",
              "</div>\n",
              "      <button class=\"colab-df-convert\" onclick=\"convertToInteractive('df-f2430a42-9dcc-4bf7-8c96-e17b7556a2ca')\"\n",
              "              title=\"Convert this dataframe to an interactive table.\"\n",
              "              style=\"display:none;\">\n",
              "        \n",
              "  <svg xmlns=\"http://www.w3.org/2000/svg\" height=\"24px\"viewBox=\"0 0 24 24\"\n",
              "       width=\"24px\">\n",
              "    <path d=\"M0 0h24v24H0V0z\" fill=\"none\"/>\n",
              "    <path d=\"M18.56 5.44l.94 2.06.94-2.06 2.06-.94-2.06-.94-.94-2.06-.94 2.06-2.06.94zm-11 1L8.5 8.5l.94-2.06 2.06-.94-2.06-.94L8.5 2.5l-.94 2.06-2.06.94zm10 10l.94 2.06.94-2.06 2.06-.94-2.06-.94-.94-2.06-.94 2.06-2.06.94z\"/><path d=\"M17.41 7.96l-1.37-1.37c-.4-.4-.92-.59-1.43-.59-.52 0-1.04.2-1.43.59L10.3 9.45l-7.72 7.72c-.78.78-.78 2.05 0 2.83L4 21.41c.39.39.9.59 1.41.59.51 0 1.02-.2 1.41-.59l7.78-7.78 2.81-2.81c.8-.78.8-2.07 0-2.86zM5.41 20L4 18.59l7.72-7.72 1.47 1.35L5.41 20z\"/>\n",
              "  </svg>\n",
              "      </button>\n",
              "      \n",
              "  <style>\n",
              "    .colab-df-container {\n",
              "      display:flex;\n",
              "      flex-wrap:wrap;\n",
              "      gap: 12px;\n",
              "    }\n",
              "\n",
              "    .colab-df-convert {\n",
              "      background-color: #E8F0FE;\n",
              "      border: none;\n",
              "      border-radius: 50%;\n",
              "      cursor: pointer;\n",
              "      display: none;\n",
              "      fill: #1967D2;\n",
              "      height: 32px;\n",
              "      padding: 0 0 0 0;\n",
              "      width: 32px;\n",
              "    }\n",
              "\n",
              "    .colab-df-convert:hover {\n",
              "      background-color: #E2EBFA;\n",
              "      box-shadow: 0px 1px 2px rgba(60, 64, 67, 0.3), 0px 1px 3px 1px rgba(60, 64, 67, 0.15);\n",
              "      fill: #174EA6;\n",
              "    }\n",
              "\n",
              "    [theme=dark] .colab-df-convert {\n",
              "      background-color: #3B4455;\n",
              "      fill: #D2E3FC;\n",
              "    }\n",
              "\n",
              "    [theme=dark] .colab-df-convert:hover {\n",
              "      background-color: #434B5C;\n",
              "      box-shadow: 0px 1px 3px 1px rgba(0, 0, 0, 0.15);\n",
              "      filter: drop-shadow(0px 1px 2px rgba(0, 0, 0, 0.3));\n",
              "      fill: #FFFFFF;\n",
              "    }\n",
              "  </style>\n",
              "\n",
              "      <script>\n",
              "        const buttonEl =\n",
              "          document.querySelector('#df-f2430a42-9dcc-4bf7-8c96-e17b7556a2ca button.colab-df-convert');\n",
              "        buttonEl.style.display =\n",
              "          google.colab.kernel.accessAllowed ? 'block' : 'none';\n",
              "\n",
              "        async function convertToInteractive(key) {\n",
              "          const element = document.querySelector('#df-f2430a42-9dcc-4bf7-8c96-e17b7556a2ca');\n",
              "          const dataTable =\n",
              "            await google.colab.kernel.invokeFunction('convertToInteractive',\n",
              "                                                     [key], {});\n",
              "          if (!dataTable) return;\n",
              "\n",
              "          const docLinkHtml = 'Like what you see? Visit the ' +\n",
              "            '<a target=\"_blank\" href=https://colab.research.google.com/notebooks/data_table.ipynb>data table notebook</a>'\n",
              "            + ' to learn more about interactive tables.';\n",
              "          element.innerHTML = '';\n",
              "          dataTable['output_type'] = 'display_data';\n",
              "          await google.colab.output.renderOutput(dataTable, element);\n",
              "          const docLink = document.createElement('div');\n",
              "          docLink.innerHTML = docLinkHtml;\n",
              "          element.appendChild(docLink);\n",
              "        }\n",
              "      </script>\n",
              "    </div>\n",
              "  </div>\n",
              "  "
            ]
          },
          "metadata": {},
          "execution_count": 22
        }
      ]
    },
    {
      "cell_type": "code",
      "source": [
        "for i in range(4):\n",
        "  result = df_test[df_test['class']==i]\n",
        "  plt.hist(result['predict'])\n",
        "  plt.show()"
      ],
      "metadata": {
        "colab": {
          "base_uri": "https://localhost:8080/",
          "height": 1065
        },
        "id": "6_YRGv6b5BAh",
        "outputId": "81db08e2-da65-4e8b-a266-885655f02784"
      },
      "execution_count": 23,
      "outputs": [
        {
          "output_type": "display_data",
          "data": {
            "text/plain": [
              "<Figure size 432x288 with 1 Axes>"
            ],
            "image/png": "[encoded data removed]"
          },
          "metadata": {
            "needs_background": "light"
          }
        },
        {
          "output_type": "display_data",
          "data": {
            "text/plain": [
              "<Figure size 432x288 with 1 Axes>"
            ],
            "image/png": "[encoded data removed]"
          },
          "metadata": {
            "needs_background": "light"
          }
        },
        {
          "output_type": "display_data",
          "data": {
            "text/plain": [
              "<Figure size 432x288 with 1 Axes>"
            ],
            "image/png": "[encoded data removed]"
          },
          "metadata": {
            "needs_background": "light"
          }
        },
        {
          "output_type": "display_data",
          "data": {
            "text/plain": [
              "<Figure size 432x288 with 1 Axes>"
            ],
            "image/png": "[encoded data removed]"
          },
          "metadata": {
            "needs_background": "light"
          }
        }
      ]
    },
    {
      "cell_type": "markdown",
      "metadata": {
        "id": "tl0-CkmleL3-"
      },
      "source": [
        "#### Complete the following table to summarize your results\n",
        "\n",
        "| test_class_label | matched_train_label | Author |\n",
        "| - | - | - | \n",
        "| 0 | 3 | Twain | \n",
        "| 1 | 2 | Hugo | \n",
        "| 2 | 0 | Bronte | \n",
        "| 3 | 1 | Dostoy | \n",
        "\n",
        "\n"
      ]
    },
    {
      "cell_type": "markdown",
      "metadata": {
        "id": "2d_MVGtLeL3-"
      },
      "source": [
        "#### Comment on your result"
      ]
    },
    {
      "cell_type": "markdown",
      "source": [
        "* The best score of the gridsearch is quite lower than I expect, so I did not think it could be used to classify for the author matching problem. But it did better than that\n",
        "* The result of matching problem is easy to recognise which author these sentenses belongs to"
      ],
      "metadata": {
        "id": "y0BWxcgreL3-"
      }
    }
  ],
  "metadata": {
    "kernelspec": {
      "display_name": "Python 3",
      "language": "python",
      "name": "python3"
    },
    "language_info": {
      "codemirror_mode": {
        "name": "ipython",
        "version": 3
      },
      "file_extension": ".py",
      "mimetype": "text/x-python",
      "name": "python",
      "nbconvert_exporter": "python",
      "pygments_lexer": "ipython3",
      "version": "3.8.5"
    },
    "colab": {
      "name": "exam02-student.ipynb",
      "provenance": [],
      "collapsed_sections": []
    }
  },
  "nbformat": 4,
  "nbformat_minor": 0
}