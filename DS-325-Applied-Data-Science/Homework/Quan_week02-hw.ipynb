{
 "cells": [
  {
   "cell_type": "markdown",
   "metadata": {},
   "source": [
    "# DS 325 - Week 02 - HW\n",
    "\n",
    "\n",
    "## Learning Goal  \n",
    "The goal of this notebook is to get hands-on experience and intuition about gradient descent, linear regression and regularization. We once again emphasize the difference between fitting and predicting. We will see that it is much more difficult to get good out-of-sample performance on a test set (predicting) than it is to get good in-sample performance on the training set (fitting).\n"
   ]
  },
  {
   "cell_type": "markdown",
   "metadata": {},
   "source": [
    "# Gradient Descent\n",
    "\n",
    "Linear regression - With so many algorithms to choose from, how do you decide?\n",
    "\n",
    "In the previous class, we used the normal equation to find the inverse of **$X^T X$** which has dimensions $(n+1)\\times(n+1)$.  The number of operations (+,-,*,/) or **computational cost** need to compute this depends on the **dimensions** of the matrix and the **algorithm**.  \n",
    "\n",
    "* To invert the matrix, the computational cost is $O(n^3)$. \n",
    "* The use LinearRegression the cost is $O(n^2)$.  LinearRegression uses SVD (Singular Value Decomposition, $X =  U \\Sigma V$, where we have _factored_ $X$ into a scaling $\\Sigma$ and eigenvectors $V$)  \n",
    "* The difference here is significant, with twice the features ($2n$) the computational cost (and time) to invert is 4 times greater than SVD\n"
   ]
  },
  {
   "cell_type": "markdown",
   "metadata": {},
   "source": [
    "Gradient descent is an optimization algorithm used to find the values of parameters (coefficients) of a function (f) that minimizes a cost function (cost).\n",
    "\n",
    "Gradient descent is best used when the parameters cannot be calculated analytically (e.g. using linear algebra) and must be searched for by an optimization algorithm."
   ]
  },
  {
   "cell_type": "code",
   "execution_count": 32,
   "metadata": {},
   "outputs": [],
   "source": [
    "# some functions we will use\n",
    "def myPlotContours(ax,x,y,trange0,trange1,lvls):    \n",
    "    T0, T1 = np.meshgrid(np.linspace(trange0[0],trange0[1],50),np.linspace(trange1[0],trange1[1],50)) #input the range of theta0, theta1 to find the contour\n",
    "    #Computing the cost function for each theta combination\n",
    "    Xb     = np.vstack((np.ones(y.shape[0]), x)).transpose()   #make X= [1,x]\n",
    "    # compute the MSE over the range of theta0,theta1\n",
    "    zs = np.array(  [getMSE(Xb, y,np.array([t0,t1])) \n",
    "                         for t0, t1 in zip(T0.ravel(), T1.ravel()) ] )\n",
    "    Z = zs.reshape(T0.shape)\n",
    "    line_c = ax.contour(T0, T1, Z,lvls,norm=LogNorm())#, norm=LogNorm())    \n",
    "    ax.clabel(line_c,colors=['black'],manual=False, inline=True,rightside_up=True,  fmt=' {:.1f} '.format)\n",
    "def predict(x,theta):\n",
    "    X     = np.vstack((np.ones_like(x), x)).transpose() #make X= [1,x]\n",
    "    return X.dot(theta)\n",
    "def getMSE(X,y,theta):\n",
    "    return np.mean((y-X.dot(theta))**2)**0.5\n",
    "def gradientDescent(x, y, theta, alpha, Niterations):\n",
    "    N     = y.shape[0]  \n",
    "    X     = np.vstack((np.ones(N), x)).transpose() #make X= [1,x]\n",
    "    theta_hist=[]\n",
    "    J_hist= []\n",
    "    for i in range(Niterations):\n",
    "        y_estimate = X.dot(theta)\n",
    "        error      = (y - y_estimate)      #this is a vector of residuals  \n",
    "        gradient   = -(1.0/N) * error.dot(X)        \n",
    "        theta      = theta - alpha * gradient   #update theta\n",
    "        err        = getMSE(X,y,theta)     #update the error\n",
    "        theta_hist.append(theta)\n",
    "        J_hist.append(err)\n",
    "        if (err>1e20 or np.isnan(err) or np.isinf(err)): #our algorithm has diverged/crashed\n",
    "            break\n",
    "    theta_hist = np.array(theta_hist)\n",
    "    J_hist = np.array(J_hist)\n",
    "    return theta,J_hist\n",
    "def sgdRMSprop(x, y, theta, alpha, Niterations,batchSize=None):\n",
    "    gamma = 0.9\n",
    "    eps   = 1e-8 #avoid divide by zero\n",
    "    N     = y.shape[0]  \n",
    "    if (batchSize==None or batchSize>N): batchSize = N;\n",
    "    X     = np.vstack((np.ones(N), x)).transpose() #make X= [1,x]\n",
    "    v     = np.zeros(theta.shape)\n",
    "    err0  = getMSE(X,y,theta)\n",
    "    theta_hist=[]\n",
    "    J_hist= []\n",
    "    for i in range(Niterations):\n",
    "        indexs     = np.random.permutation(N)\n",
    "        indj       = indexs[:batchSize]\n",
    "        y_estimate = X[indj].dot(theta)\n",
    "        error      = (y[indj] - y_estimate)        \n",
    "        gradient   = -(1.0/batchSize) * error.dot(X[indj])\n",
    "        v          = gamma * v + (1.-gamma) * gradient**2\n",
    "        theta      = theta - alpha * gradient / (eps + np.sqrt(v))\n",
    "        err        = getMSE(X,y,theta)\n",
    "        if (err>1e20 or np.isnan(err) or np.isinf(err)): #our algorithm has diverged/crashed\n",
    "            break\n",
    "        theta_hist.append(theta)\n",
    "        J_hist.append(err)\n",
    "    theta_hist = np.array(theta_hist)\n",
    "    J_hist = np.array(J_hist)\n",
    "    return theta,J_hist"
   ]
  },
  {
   "cell_type": "markdown",
   "metadata": {},
   "source": [
    "## Least squares linear regression: \n",
    "\n",
    "For ordinary least square regression (no regularization), we minimize the square loss cost function:\n",
    "\n",
    "$$\n",
    "\\operatorname{min} J(\\theta) = \\operatorname{min} ||X \\theta-\\textbf{y}||_2^2 = \\operatorname{min} (X \\theta-y)^T(X \\theta-y)\n",
    "$$\n",
    "\n",
    "If features $X$ are linearly independent, then there exists unique solution to this problem:\n",
    "\n",
    "$$\n",
    "\\hat{\\theta}= (X^T X)^{-1} X^T y\n",
    "$$"
   ]
  },
  {
   "cell_type": "markdown",
   "metadata": {},
   "source": [
    "## Ridge Regression\n",
    "In Ridge-Regression, the regularization penalty is taken to be the L2-norm of the parameters\n",
    "\n",
    "$$\n",
    "\\operatorname{min} J_{ridge}(\\theta) = \\operatorname{min} ||X \\theta-y||_2^2 + \\alpha ||\\theta||_2^2\n",
    "$$\n",
    "\n",
    "Notice that the parameter $\\alpha$ controls how much we weigh the fit and regularization term."
   ]
  },
  {
   "cell_type": "markdown",
   "metadata": {},
   "source": [
    "## LASSO ##\n",
    "\n",
    "We will also be interested in the case where the penalty is the L1-norm of the parameters (sum of absolute values of parameters). This is called LASSO.\n",
    "\n",
    "$$\n",
    "\\operatorname{min} J_{lasso}(\\theta) = \\operatorname{min} ||X \\theta-y||_2^2 + \\alpha ||\\theta||_1\n",
    "$$\n",
    "\n",
    "As we discussed in class, LASSO tends to give sparse solution. Below, we're going to explore these ideas a little bit more.\n"
   ]
  },
  {
   "cell_type": "markdown",
   "metadata": {},
   "source": [
    "# Exercises"
   ]
  },
  {
   "cell_type": "markdown",
   "metadata": {},
   "source": [
    "Exercises on gradient descent.\n",
    "\n",
    "\n",
    "## Exercise 1: batch size from poor starting $\\theta_{start}$"
   ]
  },
  {
   "cell_type": "markdown",
   "metadata": {
    "collapsed": true
   },
   "source": [
    "In the Exercise 1 space below, use the **lungs.csv** to repeat the analysis using **height** instead of age.\n",
    "\n",
    "* Plot the data (y vs x) and the fit lines (best fit and SGD)\n",
    "\n",
    "* Keep the Nitinterations fixed at 100 and $\\theta_{start} = [5,5]$\n",
    "* We are going to explore how batchSize affects the convergence.\n",
    "* Choose one batchSize equal to the full dataset, and a second much smaller batchSize = 10\n",
    "* vary its learning rate **$\\alpha$ > 0**, as we did in class. **Choose an appropriate range to examine how it might play a role.**  Start with $\\alpha$ between $10^{0}$ and $10^{-1}$, and expand it until the effect is clear.  You can use about 10-20 alpha, any more (or less) is likely unnecessary.\n",
    "* Plot MSE v $\\alpha$ for batchSize=10 and the fullsize of the dataset on the same plot.\n",
    "    * What happens if it is very small or if it is very big? Report the range for _good_ $\\alpha$.\n",
    "    * How did the results depend on batchSize?    "
   ]
  },
  {
   "cell_type": "code",
   "execution_count": 33,
   "metadata": {},
   "outputs": [],
   "source": [
    "import numpy as np\n",
    "import pandas as pd\n",
    "import matplotlib.pyplot as plt\n",
    "from matplotlib.colors import LogNorm\n",
    "import seaborn as sns; \n",
    "sns.axes_style(\"whitegrid\")\n",
    "sns.set_context(\"paper\")\n",
    "from sklearn.linear_model import SGDRegressor\n",
    "np.random.seed(325)"
   ]
  },
  {
   "cell_type": "code",
   "execution_count": 34,
   "metadata": {},
   "outputs": [],
   "source": [
    "#get new x (height) and y (FEV)\n",
    "# web_path = '' #if downloaded data to the current folder\n",
    "web_path = 'http://public.gettysburg.edu/~jpuckett/ds325/data/' #if using data over web\n",
    "df = pd.read_csv(web_path+'lungs.csv')\n",
    "x = df[\"ht\"]\n",
    "y = df[\"FEV\"]"
   ]
  },
  {
   "cell_type": "code",
   "execution_count": 35,
   "metadata": {},
   "outputs": [],
   "source": [
    "theta = np.array([5,5])\n",
    "Niterations = 100\n",
    "alpha = 0.1\n",
    "# (thetaGD, c) = gradientDescent(x,y,theta,alpha, Niterations)\n",
    "(thetaGD, c) = sgdRMSprop(x,y,theta,alpha, Niterations)\n"
   ]
  },
  {
   "cell_type": "code",
   "execution_count": 36,
   "metadata": {},
   "outputs": [],
   "source": [
    "X = np.vstack((np.ones_like(x), x)).transpose()\n",
    "theta_best = np.linalg.inv(X.T.dot(X)).dot(X.T).dot(y)\n",
    "err_best = np.mean((y-X.dot(theta_best))**2)**0.5\n"
   ]
  },
  {
   "cell_type": "code",
   "execution_count": 37,
   "metadata": {},
   "outputs": [
    {
     "data": {
      "text/plain": [
       "Text(0, 0.5, 'FEV [L]')"
      ]
     },
     "execution_count": 37,
     "metadata": {},
     "output_type": "execute_result"
    },
    {
     "data": {
      "image/png": "[encoded data removed]",
      "text/plain": [
       "<Figure size 1152x576 with 1 Axes>"
      ]
     },
     "metadata": {
      "needs_background": "light"
     },
     "output_type": "display_data"
    }
   ],
   "source": [
    "fig = plt.figure(figsize = (16,8))\n",
    "ax1 = fig.add_subplot(1, 2, 1)\n",
    "ax1.scatter(x, y, alpha=0.2,label='data')\n",
    "xp = np.linspace(np.min(x),np.max(x),10)\n",
    "yp = predict(xp,thetaGD)\n",
    "yb = predict(xp,theta_best)\n",
    "ax1.plot(xp, yb, 'b--',label='Best')\n",
    "ax1.plot(xp, yp, 'r-',label='sgdRMSprop',linewidth=5,alpha=0.3)\n",
    "plt.legend()\n",
    "ax1.set_xlabel('height')\n",
    "ax1.set_ylabel('FEV [L]')"
   ]
  },
  {
   "cell_type": "code",
   "execution_count": 38,
   "metadata": {},
   "outputs": [],
   "source": [
    "#try different alpha using sgdRMSprop\n",
    "theta  = np.array([5,5])\n",
    "Niterations = 100\n",
    "\n",
    "#rest of your code below, choose appropriate range for alpha\n",
    "alphas = np.logspace(-2, 2, 40)"
   ]
  },
  {
   "cell_type": "code",
   "execution_count": 39,
   "metadata": {},
   "outputs": [
    {
     "name": "stdout",
     "output_type": "stream",
     "text": [
      "full batch: 654.000000\n"
     ]
    }
   ],
   "source": [
    "batchSize = y.shape[0]\n",
    "print('full batch: %f'%(batchSize))\n",
    "cost_a0 = np.zeros(alphas.shape)\n",
    "\n",
    "for i,a in enumerate(alphas):\n",
    "    (thetaS, c) = sgdRMSprop(x,y,theta,a, Niterations,batchSize)\n",
    "    cost_a0[i] = c[-1]\n",
    "    # print(i,a,thetaS,cost_a0[i])"
   ]
  },
  {
   "cell_type": "code",
   "execution_count": 40,
   "metadata": {},
   "outputs": [],
   "source": [
    "batchSize_small = 10\n",
    "cost_a1 = np.zeros(alphas.shape)\n",
    "\n",
    "for i,a in enumerate(alphas):\n",
    "    (thetaS, c) = sgdRMSprop(x,y,theta,a, Niterations,batchSize_small)\n",
    "    cost_a1[i] = c[-1]\n",
    "    # print(i,a,thetaS,cost_a1[i])"
   ]
  },
  {
   "cell_type": "code",
   "execution_count": 41,
   "metadata": {
    "scrolled": true
   },
   "outputs": [
    {
     "data": {
      "image/png": "[encoded data removed]",
      "text/plain": [
       "<Figure size 432x288 with 1 Axes>"
      ]
     },
     "metadata": {
      "needs_background": "light"
     },
     "output_type": "display_data"
    }
   ],
   "source": [
    "#plot the cost v alpha for each batch-size\n",
    "plt.plot(alphas,cost_a0,'bo-',label='batchSize=%d'%batchSize)\n",
    "plt.plot(alphas,cost_a1,'mo-',label='batchSize=%d'%batchSize_small)\n",
    "plt.xlabel(r'$\\alpha$') \n",
    "plt.ylabel(r'$J(\\theta)$')\n",
    "plt.xscale('log')\n",
    "plt.plot(alphas,err_best*np.ones(alphas.shape),'r--')\n",
    "plt.ylim([0,10])\n",
    "plt.legend()\n",
    "plt.show()\n",
    "\n"
   ]
  },
  {
   "cell_type": "markdown",
   "metadata": {},
   "source": [
    "#### Comment on result\n",
    "I run alpha from $10^{-2}$ to $10^2$ with 40 alphas in total\n",
    "The plot shows that:\n",
    "- If $\\alpha < 10^{-1.1}$, $\\theta$ does not evolve enough to significantly decrease the loss function $J(\\theta)$\n",
    "- When use mini-batch, $\\theta$ will be evolve enough to significantly decrease the loss function $J(\\theta)$ for $\\alpha$ at about $10^{-1}$. $\\theta$ starts to diverge when $\\alpha$ is greater than that.\n",
    "- When use full-size batch, $\\theta$ will be evolve enough to significantly decrease the loss function $J(\\theta)$ for widerer range of $\\alpha$: from $10^{-1}$ to $10^{-0.5}$. If $\\alpha > 10^{0.5}$, $\\theta$ starts to diverge"
   ]
  },
  {
   "cell_type": "markdown",
   "metadata": {},
   "source": [
    "## Exercise 2: iterations from poor $\\theta_{start}$ examine how iterations matter."
   ]
  },
  {
   "cell_type": "markdown",
   "metadata": {},
   "source": [
    "In the Exercise space below, we'll use the same data as Exercise 1 (the **lungs.csv** fitting **FEV** vs **height**)\n",
    "\n",
    "* Nore we'll explore the affect of Niterations and convergence.\n",
    "\n",
    "* Use a constant batchSize=10 and $\\theta_{start} = [5,5]$\n",
    "* Choose Nitinterations = 50 and Nitinterations = 1000\n",
    "* vary its learning rate **$\\alpha$ > 0**, as we did in class, somewhere around $10^-3$ to 10 should be appropriate.\n",
    " "
   ]
  },
  {
   "cell_type": "code",
   "execution_count": 42,
   "metadata": {},
   "outputs": [],
   "source": [
    "web_path = 'http://public.gettysburg.edu/~jpuckett/ds325/data/' #if using data over web\n",
    "df = pd.read_csv(web_path+'lungs.csv')\n",
    "#try different theta0\n",
    "x = df[\"ht\"]\n",
    "y = df[\"FEV\"]\n",
    "theta  = np.array([5,5])\n",
    "Niterations0 = 50\n",
    "Niterations1 = 1000\n",
    "batchSize = 10\n",
    "#rest of your code below\n"
   ]
  },
  {
   "cell_type": "code",
   "execution_count": 43,
   "metadata": {},
   "outputs": [],
   "source": [
    "X = np.vstack((np.ones_like(x), x)).transpose() #make X= [1,x]\n",
    "theta_best = np.linalg.inv(X.T.dot(X)).dot(X.T).dot(y) #\n",
    "err_best = np.mean((y-X.dot(theta_best))**2)**0.5\n"
   ]
  },
  {
   "cell_type": "code",
   "execution_count": 44,
   "metadata": {},
   "outputs": [],
   "source": [
    "alphas = np.logspace(-3, 1, 40)"
   ]
  },
  {
   "cell_type": "code",
   "execution_count": 45,
   "metadata": {},
   "outputs": [],
   "source": [
    "cost_a0 = np.zeros(alphas.shape)\n",
    "\n",
    "for i,a in enumerate(alphas):\n",
    "    (thetaS, c) = sgdRMSprop(x,y,theta,a, Niterations0,batchSize)\n",
    "    cost_a0[i] = c[-1]\n",
    "    # print(i,a,thetaS,cost_a1[i])"
   ]
  },
  {
   "cell_type": "code",
   "execution_count": 15,
   "metadata": {},
   "outputs": [],
   "source": [
    "cost_a1 = np.zeros(alphas.shape)\n",
    "\n",
    "for i,a in enumerate(alphas):\n",
    "    (thetaS, c) = sgdRMSprop(x,y,theta,a, Niterations1,batchSize)\n",
    "    cost_a1[i] = c[-1]\n",
    "    # print(i,a,thetaS,cost_a1[i])"
   ]
  },
  {
   "cell_type": "code",
   "execution_count": 16,
   "metadata": {},
   "outputs": [
    {
     "data": {
      "image/png": "[encoded data removed]",
      "text/plain": [
       "<Figure size 432x288 with 1 Axes>"
      ]
     },
     "metadata": {
      "needs_background": "light"
     },
     "output_type": "display_data"
    }
   ],
   "source": [
    "#plot the cost v alpha for each batch-size\n",
    "plt.plot(alphas,cost_a0,'bo-',label='N_iterations=%d'%Niterations0)\n",
    "plt.plot(alphas,cost_a1,'mo-',label='N_iterations=%d'%Niterations1)\n",
    "plt.xlabel(r'$\\alpha$')\n",
    "plt.ylabel(r'$J(\\theta)$')\n",
    "plt.xscale('log')\n",
    "plt.plot(alphas,err_best*np.ones(alphas.shape),'r--')\n",
    "plt.ylim([0,10])\n",
    "plt.legend()\n",
    "plt.show()\n",
    "\n"
   ]
  },
  {
   "cell_type": "markdown",
   "metadata": {},
   "source": [
    "#### comment on your results, compare w/ Exercise 1\n",
    "- For 1000 iters, the $\\alpha$ we need to converge ranges from smaller then $10^{-2}$ to about $10^{-1.5}$\n",
    "- For 50 iters, the $\\alpha$ we need to converge ranges from around then $10^{-0.7}$ to about $10^{-0.5}$\n",
    "\n",
    "Therefore, for a suffivent number of iters, we have a wider range of $\\alpha$ to choose to converge"
   ]
  },
  {
   "cell_type": "markdown",
   "metadata": {},
   "source": [
    "**Comment**\n",
    "With enough iterations, even very small alpha converge to a good local minimum. There is no need to be so choosey over $\\alpha$.\n",
    "\n",
    "Early stopping (small N iterations), requires $\\alpha$ chosen wisely in that small window near 0.5.  "
   ]
  },
  {
   "cell_type": "markdown",
   "metadata": {},
   "source": [
    "### Exercise 3"
   ]
  },
  {
   "cell_type": "markdown",
   "metadata": {},
   "source": [
    "Answer the following questions.\n",
    "\n",
    "a) Do all gradient descent algorithms lead to the same model, provided you let them run long enough?\n",
    "\n",
    "b) Suppose the features in your training set have very different scales.  Which algorithms might suffer from this? What can you do about it?\n"
   ]
  },
  {
   "cell_type": "markdown",
   "metadata": {},
   "source": [
    "#### your response here\n",
    "\n",
    "a)\n",
    "- In general, these GD algorithms all return the gobal optimum if we choose suitable hyperparameters (alpha in this case).\n",
    "- However, SGD and mini-batch GD use randomness which means that they approach the global optimum, but they don't converge. One way to help them converge is to gradually reduce the learning rate hyperparameter.\n",
    "- Also, since randomness is good to escape from local optima, it helps SGD reaches the global minimum easier than full-size Batch GD\n",
    "\n",
    "b)\n",
    "- The cost function will have the shape of an oval, so GD algorithms will take a long time to converge. To solve this, we need to scale the data.\n",
    "- The Normal Equation, however, workd fine without scaling since it does not require normalizing the features"
   ]
  },
  {
   "cell_type": "markdown",
   "metadata": {},
   "source": [
    "## Regularization exercises"
   ]
  },
  {
   "cell_type": "markdown",
   "metadata": {},
   "source": [
    "For these exercises, you will both add on to this Jupyter Notebook to show your work after each corresponding code block comment below. \n",
    "\n",
    "Using the **yacht.csv**, complete the following exercises.\n",
    "\n",
    "[https://archive.ics.uci.edu/ml/datasets/yacht+hydrodynamics](https://archive.ics.uci.edu/ml/datasets/yacht+hydrodynamics)"
   ]
  },
  {
   "cell_type": "markdown",
   "metadata": {},
   "source": [
    "## load libraries"
   ]
  },
  {
   "cell_type": "code",
   "execution_count": 17,
   "metadata": {},
   "outputs": [
    {
     "data": {
      "text/html": [
       "<div>\n",
       "<style scoped>\n",
       "    .dataframe tbody tr th:only-of-type {\n",
       "        vertical-align: middle;\n",
       "    }\n",
       "\n",
       "    .dataframe tbody tr th {\n",
       "        vertical-align: top;\n",
       "    }\n",
       "\n",
       "    .dataframe thead th {\n",
       "        text-align: right;\n",
       "    }\n",
       "</style>\n",
       "<table border=\"1\" class=\"dataframe\">\n",
       "  <thead>\n",
       "    <tr style=\"text-align: right;\">\n",
       "      <th></th>\n",
       "      <th>Longitudinal_position</th>\n",
       "      <th>Prismatic_coefficient</th>\n",
       "      <th>Length-displacement</th>\n",
       "      <th>Beam-draught</th>\n",
       "      <th>Length-beam</th>\n",
       "      <th>Froude</th>\n",
       "      <th>Residuary_resistance</th>\n",
       "    </tr>\n",
       "  </thead>\n",
       "  <tbody>\n",
       "    <tr>\n",
       "      <th>0</th>\n",
       "      <td>-2.3</td>\n",
       "      <td>0.568</td>\n",
       "      <td>4.78</td>\n",
       "      <td>3.99</td>\n",
       "      <td>3.17</td>\n",
       "      <td>0.125</td>\n",
       "      <td>0.11</td>\n",
       "    </tr>\n",
       "    <tr>\n",
       "      <th>1</th>\n",
       "      <td>-2.3</td>\n",
       "      <td>0.568</td>\n",
       "      <td>4.78</td>\n",
       "      <td>3.99</td>\n",
       "      <td>3.17</td>\n",
       "      <td>0.150</td>\n",
       "      <td>0.27</td>\n",
       "    </tr>\n",
       "    <tr>\n",
       "      <th>2</th>\n",
       "      <td>-2.3</td>\n",
       "      <td>0.568</td>\n",
       "      <td>4.78</td>\n",
       "      <td>3.99</td>\n",
       "      <td>3.17</td>\n",
       "      <td>0.175</td>\n",
       "      <td>0.47</td>\n",
       "    </tr>\n",
       "    <tr>\n",
       "      <th>3</th>\n",
       "      <td>-2.3</td>\n",
       "      <td>0.568</td>\n",
       "      <td>4.78</td>\n",
       "      <td>3.99</td>\n",
       "      <td>3.17</td>\n",
       "      <td>0.200</td>\n",
       "      <td>0.78</td>\n",
       "    </tr>\n",
       "    <tr>\n",
       "      <th>4</th>\n",
       "      <td>-2.3</td>\n",
       "      <td>0.568</td>\n",
       "      <td>4.78</td>\n",
       "      <td>3.99</td>\n",
       "      <td>3.17</td>\n",
       "      <td>0.225</td>\n",
       "      <td>1.18</td>\n",
       "    </tr>\n",
       "  </tbody>\n",
       "</table>\n",
       "</div>"
      ],
      "text/plain": [
       "   Longitudinal_position  Prismatic_coefficient  Length-displacement  \\\n",
       "0                   -2.3                  0.568                 4.78   \n",
       "1                   -2.3                  0.568                 4.78   \n",
       "2                   -2.3                  0.568                 4.78   \n",
       "3                   -2.3                  0.568                 4.78   \n",
       "4                   -2.3                  0.568                 4.78   \n",
       "\n",
       "   Beam-draught  Length-beam  Froude  Residuary_resistance  \n",
       "0          3.99         3.17   0.125                  0.11  \n",
       "1          3.99         3.17   0.150                  0.27  \n",
       "2          3.99         3.17   0.175                  0.47  \n",
       "3          3.99         3.17   0.200                  0.78  \n",
       "4          3.99         3.17   0.225                  1.18  "
      ]
     },
     "execution_count": 17,
     "metadata": {},
     "output_type": "execute_result"
    }
   ],
   "source": [
    "from sklearn.model_selection import train_test_split\n",
    "from sklearn.linear_model import LinearRegression\n",
    "from sklearn.linear_model import Ridge, RidgeCV, Lasso, LassoCV\n",
    "from sklearn.preprocessing import scale \n",
    "from sklearn.metrics import r2_score\n",
    "from sklearn.metrics import mean_squared_error\n",
    "# Load dataset\n",
    "web_path = 'http://public.gettysburg.edu/~jpuckett/ds325/data/' #if using data over web\n",
    "#web_path = '' #if downloaded data to the current folder\n",
    "df2 = pd.read_csv(web_path+'yacht.csv')\n",
    "df2.head()"
   ]
  },
  {
   "cell_type": "markdown",
   "metadata": {},
   "source": [
    "### Exercise 4 - Regularization with Ridge Regression\n",
    "\n",
    "Use the methods we went through in class to evaluate a model using Ridge regression, were we are examing how features affect the Residuary_resistance. \n",
    "\n",
    "For the test/train split use: \n",
    "<code>\n",
    "    X_train,X_test,y_train,y_test = train_test_split(X,y, test_size=0.3,random_state=1)\n",
    "</code>    \n",
    "\n",
    "\n",
    "* Plot coefficients as a function of $\\alpha$.  Label the axes and give a legend with the features.\n",
    "* Plot $MSE$ as a function of $\\alpha$.  \n",
    "* Which predictor(s) turned out to be important in the final model(s)?\n"
   ]
  },
  {
   "cell_type": "code",
   "execution_count": 18,
   "metadata": {},
   "outputs": [],
   "source": [
    "#make X and y from dataframe\n",
    "X = df2.drop(['Residuary_resistance'], axis = 1).astype('float64')\n",
    "y = df2[['Residuary_resistance']]\n",
    "#make X_train,y_train,X_test,y_test\n",
    "X_train,X_test,y_train,y_test = train_test_split(X,y, test_size=0.3,random_state=1)"
   ]
  },
  {
   "cell_type": "code",
   "execution_count": 19,
   "metadata": {},
   "outputs": [],
   "source": [
    "alphas = np.logspace(-3,5,1000)"
   ]
  },
  {
   "cell_type": "code",
   "execution_count": 20,
   "metadata": {},
   "outputs": [],
   "source": [
    "# run ridge regression for alphas\n",
    "ridge = Ridge(normalize = True)\n",
    "coefs = []\n",
    "mses = []\n",
    "\n",
    "for a in alphas:\n",
    "    ridge.set_params(alpha = a) #alpha\n",
    "    ridge.fit(X_train, y_train) #fit\n",
    "    coefs.append(ridge.coef_)    #save coefficients\n",
    "    pred = ridge.predict(X_test)  #find predicitions\n",
    "    mses.append(mean_squared_error(y_test, pred) ) #save the MSE\n",
    "#\n",
    "coefs = np.array(coefs).reshape(alphas.shape[0],-1)\n",
    "mses = np.array(mses).reshape(alphas.shape[0],-1)"
   ]
  },
  {
   "cell_type": "code",
   "execution_count": 21,
   "metadata": {
    "scrolled": true
   },
   "outputs": [
    {
     "data": {
      "image/png": "[encoded data removed]",
      "text/plain": [
       "<Figure size 607.5x375 with 1 Axes>"
      ]
     },
     "metadata": {
      "needs_background": "light"
     },
     "output_type": "display_data"
    }
   ],
   "source": [
    "#plot coef for ridge regression as a function of alpha\n",
    "fig, ax = plt.subplots(figsize=(8.1, 5),dpi= 75)\n",
    "ax.plot(alphas, np.abs(coefs))\n",
    "# ax.plot(alphas, np.array(coefs))\n",
    "ax.set_xscale('log')\n",
    "plt.xlabel(r'$\\alpha$')\n",
    "plt.ylabel('Residuary_resistance')\n",
    "plt.legend(X.columns)\n",
    "plt.show()"
   ]
  },
  {
   "cell_type": "code",
   "execution_count": 22,
   "metadata": {},
   "outputs": [
    {
     "data": {
      "image/png": "[encoded data removed]",
      "text/plain": [
       "<Figure size 607.5x375 with 1 Axes>"
      ]
     },
     "metadata": {
      "needs_background": "light"
     },
     "output_type": "display_data"
    }
   ],
   "source": [
    "#plot MSE\n",
    "fig, ax = plt.subplots(figsize=(8.1, 5),dpi= 75)\n",
    "ax.plot(alphas, mses)\n",
    "ax.set_xscale('log')\n",
    "plt.xlabel(r'$\\alpha$')\n",
    "plt.ylabel(r'$MSE$')\n",
    "plt.show()"
   ]
  },
  {
   "cell_type": "code",
   "execution_count": 23,
   "metadata": {},
   "outputs": [
    {
     "name": "stdout",
     "output_type": "stream",
     "text": [
      "alpha_best = 0.064537\n"
     ]
    }
   ],
   "source": [
    "#which is the best alpha?\n",
    "\n",
    "### nice function to find best alpha\n",
    "ridgecv = RidgeCV(alphas = alphas, scoring = 'neg_mean_squared_error')\n",
    "ridgecv.fit(X_train, y_train)\n",
    "print(\"alpha_best = %4f\"%ridgecv.alpha_)"
   ]
  },
  {
   "cell_type": "code",
   "execution_count": 24,
   "metadata": {
    "scrolled": true
   },
   "outputs": [
    {
     "name": "stdout",
     "output_type": "stream",
     "text": [
      "Longitudinal_position      0.065892\n",
      "Prismatic_coefficient     -5.546712\n",
      "Length-displacement       11.464756\n",
      "Beam-draught              -3.983004\n",
      "Length-beam              -11.975830\n",
      "Froude                   117.236787\n",
      "dtype: float64\n",
      "R2  = 0.668193\n",
      "MSE = 75.646688\n"
     ]
    }
   ],
   "source": [
    "#what are the coefficients of your ridge model using the best alpha?\n",
    "\n",
    "ridge4 = Ridge(alpha = ridgecv.alpha_)\n",
    "ridge4.fit(X_train, y_train)             # Fit a ridge regression on the training data\n",
    "pred4 = ridge4.predict(X_test)            # Use this model to predict the test data\n",
    "print(pd.Series(ridge4.coef_[0], index = X.columns)) # Print coefficients\n",
    "print(\"R2  = %4f\"%(ridge4.score(X_test,y_test)))\n",
    "print(\"MSE = %4f\"%mean_squared_error(y_test, pred4)) "
   ]
  },
  {
   "cell_type": "markdown",
   "metadata": {},
   "source": [
    "#### your final comments here"
   ]
  },
  {
   "cell_type": "markdown",
   "metadata": {},
   "source": [
    "### Exercise 5 - Regularization with Lasso:\n",
    "\n",
    "* Here we continue a similar analysis as in Exercise 4, but now consider Lasso regularization.\n",
    "* $\\alpha$: use a wide range here about $0.0001$ to $10000$.\n",
    "\n",
    "* Plot coefficients as a function of $\\alpha$, again using a legend to give the features of these weights.\n",
    "* Plot $MSE$ as a function of $\\alpha$\n",
    "* Which predictors turned out to be important in the final model(s)?\n",
    "\n",
    "\n"
   ]
  },
  {
   "cell_type": "code",
   "execution_count": 25,
   "metadata": {},
   "outputs": [],
   "source": [
    "#get the initial train,test split of data\n",
    "X_train,X_test,y_train,y_test = train_test_split(X,y, test_size=0.3,random_state=1)\n",
    "#make sure your test set is the same for all training sizes, below"
   ]
  },
  {
   "cell_type": "code",
   "execution_count": 26,
   "metadata": {},
   "outputs": [],
   "source": [
    "alphas = np.logspace(-4,4,500) # 10**-4 to 10**4"
   ]
  },
  {
   "cell_type": "code",
   "execution_count": 27,
   "metadata": {},
   "outputs": [],
   "source": [
    "# run lasso regression for alphas\n",
    "lasso = Lasso(max_iter = 1000)   # if max_iter = 100, error: Objective did not converge\n",
    "coefs = []\n",
    "mses = []\n",
    "\n",
    "for a in alphas:\n",
    "    lasso.set_params(alpha = a)\n",
    "    lasso.fit(scale(X_train), y_train)\n",
    "    coefs.append(lasso.coef_)\n",
    "    pred = lasso.predict(scale(X_test))\n",
    "    mses.append(mean_squared_error(y_test, pred) )\n",
    "#\n",
    "coefs = np.array(coefs).reshape(alphas.shape[0],-1)\n",
    "mses = np.array(mses).reshape(alphas.shape[0],-1)"
   ]
  },
  {
   "cell_type": "code",
   "execution_count": 28,
   "metadata": {
    "scrolled": false
   },
   "outputs": [
    {
     "data": {
      "image/png": "[encoded data removed]",
      "text/plain": [
       "<Figure size 607.5x375 with 1 Axes>"
      ]
     },
     "metadata": {
      "needs_background": "light"
     },
     "output_type": "display_data"
    }
   ],
   "source": [
    "#plot coef for lasso regression as a function of alpha\n",
    "fig, ax = plt.subplots(figsize=(8.1, 5),dpi= 75)\n",
    "ax.plot(alphas, np.abs(coefs))\n",
    "# ax.plot(alphas, np.array(coefs))\n",
    "ax.set_xscale('log')\n",
    "plt.axis('tight')\n",
    "plt.xlabel(r'$\\alpha$')\n",
    "plt.ylabel('Residuary_resistance')\n",
    "plt.legend(X.columns)\n",
    "plt.show()"
   ]
  },
  {
   "cell_type": "code",
   "execution_count": 29,
   "metadata": {
    "scrolled": true
   },
   "outputs": [
    {
     "data": {
      "image/png": "[encoded data removed]",
      "text/plain": [
       "<Figure size 607.5x375 with 1 Axes>"
      ]
     },
     "metadata": {
      "needs_background": "light"
     },
     "output_type": "display_data"
    }
   ],
   "source": [
    "#plot MSE\n",
    "fig, ax = plt.subplots(figsize=(8.1, 5),dpi= 75)\n",
    "ax.plot(alphas, mses)\n",
    "ax.set_xscale('log')\n",
    "plt.xlabel(r'$\\alpha$')\n",
    "plt.ylabel(r'$MSE$')\n",
    "plt.show()"
   ]
  },
  {
   "cell_type": "code",
   "execution_count": 30,
   "metadata": {},
   "outputs": [
    {
     "name": "stdout",
     "output_type": "stream",
     "text": [
      "alpha_best = 0.323172\n"
     ]
    }
   ],
   "source": [
    "#which alpha was the best?\n",
    "lassocv = LassoCV(alphas = None, cv = 10, max_iter = 100000)\n",
    "lassocv.fit(scale(X_train), np.ravel(y_train))\n",
    "print(\"alpha_best = %4f\"%lassocv.alpha_)"
   ]
  },
  {
   "cell_type": "code",
   "execution_count": 31,
   "metadata": {
    "scrolled": true
   },
   "outputs": [
    {
     "name": "stdout",
     "output_type": "stream",
     "text": [
      "Longitudinal_position     0.000000\n",
      "Prismatic_coefficient    -0.496357\n",
      "Length-displacement       0.000000\n",
      "Beam-draught              0.000000\n",
      "Length-beam              -0.000000\n",
      "Froude                   11.853354\n",
      "dtype: float64\n",
      "R2  = 0.672815\n",
      "MSE = 74.592782\n"
     ]
    }
   ],
   "source": [
    "#what are the coefficients of Lasso at that best alpha?\n",
    "\n",
    "lasso.set_params(alpha=lassocv.alpha_)\n",
    "pred5 = lassocv.predict(scale(X_test))\n",
    "print(pd.Series(lassocv.coef_, index = X.columns)) # Print coefficients\n",
    "print(\"R2  = %4f\"%(lassocv.score(scale(X_test),y_test)))\n",
    "print(\"MSE = %4f\"%mean_squared_error(y_test, pred5)) "
   ]
  },
  {
   "cell_type": "markdown",
   "metadata": {},
   "source": [
    "With Lasso, only Froude number plays a large role.  The weights of other features have shrunk.  "
   ]
  },
  {
   "cell_type": "markdown",
   "metadata": {},
   "source": [
    "### Exercise 6"
   ]
  },
  {
   "cell_type": "markdown",
   "metadata": {
    "collapsed": true
   },
   "source": [
    "a. Did you expect ridge regression to outperform the lasso, or vice versa?\n",
    "\n",
    "b. Which predictors turned out to be important in the final model(s)?\n",
    "\n",
    "c. Do you think LASSO and Ridge Regression will give qualitatively different answers? (Consider the limits $\\alpha=0$  and $\\alpha\\rightarrow\\infty$)"
   ]
  },
  {
   "cell_type": "markdown",
   "metadata": {},
   "source": [
    "**Answer**\n",
    "\n",
    "a.\n",
    "\n",
    "- In Ridge, the gradients get smaller as the parameters approach the global optimum, so Gradient Descent naturally slows down, which helps convergence (as there is no bouncing around like Lasso). Second, the optimal parameters get closer and closer to the origin when you increase $\\alpha$, but they never get eliminated entirely.\n",
    "\n",
    "- When we are not sure which features are the most important ones, we should use Lasso since it pushes the weights down to exactly zero, a feature selection.\n",
    "models\n",
    "\n",
    "b. \n",
    "- Using Lasso, those features that are not set to 0 will be the important predictors for the model\n",
    "- Using Ridge, we can recognise which features are more important than others, so we can choose predictors from the result of Ridge\n",
    "\n",
    "c.\n",
    "- For Ridge:\n",
    "    1. If $\\alpha \\rightarrow 0$: we haev same coeficients simple linear regression\n",
    "    2. If $\\alpha \\rightarrow \\infty$: coeficients approach 0, leading to flatter, less extreme, and more reasonable prediction which reduce the model’s variance but increasing its bias. As \n",
    "\n",
    "- For Lasso:\n",
    "    1. If $\\alpha \\rightarrow 0$: we have same coefficients as simple linear regression\n",
    "    2. If $\\alpha \\rightarrow \\infty$: it eliminates the weights of the least important features (set to 0) which peforms feature selection and creates a sparse model\n"
   ]
  }
 ],
 "metadata": {
  "kernelspec": {
   "display_name": "Python 3",
   "language": "python",
   "name": "python3"
  },
  "language_info": {
   "codemirror_mode": {
    "name": "ipython",
    "version": 3
   },
   "file_extension": ".py",
   "mimetype": "text/x-python",
   "name": "python",
   "nbconvert_exporter": "python",
   "pygments_lexer": "ipython3",
   "version": "3.9.7"
  }
 },
 "nbformat": 4,
 "nbformat_minor": 4
}
