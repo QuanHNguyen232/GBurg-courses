{
  "cells": [
    {
      "cell_type": "markdown",
      "metadata": {
        "id": "3NR0xTfAnoWn"
      },
      "source": [
        "# Data Science 325\n",
        "\n",
        "## Neural net introduction - hw\n",
        "\n",
        "### Learning Objectives:\n",
        "\n",
        "* Students will learn the motivation for neural networks.\n",
        "* Students will practice the application of these techniques and visualize their results"
      ]
    },
    {
      "cell_type": "markdown",
      "metadata": {
        "id": "44OhBzY9noWt"
      },
      "source": [
        "## Exercise 1: Fully Connected Neural Network on MNIST\n",
        "\n",
        "Build and compile a basic model and explore how the number of neurons in the hidden layer $d_1$ affect performance.\n",
        "\n",
        "#### Layers for our Network.\n",
        "\n",
        "* **Input layer** - size 784 \n",
        "    * flatten the input image (28x28).\n",
        "* **Hidden layer** - number of neurons $d_1$, this is what we will explore in this hw\n",
        "    * Dense (fully connected) network from input layer to these 128 neuron hidden layer.\n",
        "* **Dropout** - 0.2\n",
        "    * randomly sets input units to 0 with a frequency of rate at each step during training time, which helps prevent overfitting. \n",
        "* **Output layer** - size 10\n",
        "    * Dense layer (fully connected back to the 128 neuron hidden layer). The 10 is the number of classes.  Given an input image, our network should **light** up the corresponding neuron of our target.\n",
        "* **Softmax activation** - convert our output into a probability for each class.\n",
        "\n",
        "#### define our optimizer\n",
        "We will use stochast gradient descent with the following parameters\n",
        "* Learning rate $\\alpha = 0.1$\n",
        "* Momentum $\\beta = 0.9$\n",
        "\n",
        "#### Run\n",
        "* Minibatch size $B = 300$.\n",
        "* Run for 20 epochs.\n",
        "* Split the training set into training and validation components, with 20% of the 60000 training examples used for validation. \n",
        "\n",
        "\n",
        "#### Report the following\n",
        "* One figure that displays the training loss and validation loss versus the epoch number.  Include the final test loss which should be displayed as a horizontal line.\n",
        "* The total wall-clock time used by the training algorithm.\n",
        "\n",
        "# Exercises\n",
        "We are going to explore how the size of the hidden layer changes the performance of our network.  We will train 4 networks where the hidden layer has\n",
        "\n",
        "1. 10 neurons\n",
        "2. 20 neurons\n",
        "3. 100 neurons\n",
        "4. 1000 neurons\n"
      ]
    },
    {
      "cell_type": "markdown",
      "metadata": {
        "id": "a-mmlPpznoWu"
      },
      "source": [
        "## Load libraries"
      ]
    },
    {
      "cell_type": "code",
      "execution_count": 1,
      "metadata": {
        "id": "Pbk7fg_DnoWv"
      },
      "outputs": [],
      "source": [
        "import numpy as np\n",
        "import pandas as pd\n",
        "import matplotlib.pyplot as plt\n",
        "import seaborn as sns\n",
        "sns.set_context(\"talk\")\n",
        "plt.rcParams[\"figure.figsize\"] = [9.708,6]\n",
        "import warnings\n",
        "warnings.filterwarnings('ignore')\n",
        "#this is our new one\n",
        "import tensorflow as tf\n",
        "from tensorflow.keras.datasets import mnist\n",
        "tf.random.set_seed(0)\n",
        "np.random.seed(0)"
      ]
    },
    {
      "cell_type": "code",
      "execution_count": 2,
      "metadata": {
        "id": "tM61_KPBnoWw"
      },
      "outputs": [],
      "source": [
        "# set our batch size and # of epochs\n",
        "batch_size = 300   # during training to find the gradient\n",
        "epochs     = 20    # how long to train"
      ]
    },
    {
      "cell_type": "markdown",
      "metadata": {
        "id": "M773Ut2PnoWx"
      },
      "source": [
        "### Load the data"
      ]
    },
    {
      "cell_type": "code",
      "execution_count": 3,
      "metadata": {
        "colab": {
          "base_uri": "https://localhost:8080/"
        },
        "id": "21b5GmyonoWx",
        "outputId": "ef3141d9-6e2f-4d78-9cc2-cf9fe0020805"
      },
      "outputs": [
        {
          "name": "stdout",
          "output_type": "stream",
          "text": [
            "Downloading data from https://storage.googleapis.com/tensorflow/tf-keras-datasets/mnist.npz\n",
            "11493376/11490434 [==============================] - 1s 0us/step\n",
            "11501568/11490434 [==============================] - 1s 0us/step\n",
            "60000 train samples\n",
            "10000 test samples\n"
          ]
        }
      ],
      "source": [
        "num_classes = 10\n",
        "(X_train, y_train), (X_test, y_test) = mnist.load_data()\n",
        "input_shape= (X_train.shape[1],X_train.shape[2])\n",
        "#normalize the data between 0-1\n",
        "X_train = X_train.astype('float32') / 255\n",
        "X_test  = X_test.astype( 'float32') / 255\n",
        "#Reshape To Match The Keras's Expectations\n",
        "X_train = X_train.reshape(X_train.shape[0], 1, input_shape[0], input_shape[1])\n",
        "X_test  = X_test.reshape( X_test.shape[0],  1, input_shape[0], input_shape[1])\n",
        "#one hot encoding\n",
        "Y_train = tf.keras.utils.to_categorical(y_train, num_classes)\n",
        "Y_test  = tf.keras.utils.to_categorical(y_test,  num_classes)\n",
        "#==============\n",
        "print(X_train.shape[0], 'train samples')\n",
        "print(X_test.shape[0],  'test samples')"
      ]
    },
    {
      "cell_type": "markdown",
      "metadata": {
        "id": "RlndO2pXsq1U"
      },
      "source": [
        "### Optimizer & FunctionsFunctions"
      ]
    },
    {
      "cell_type": "code",
      "execution_count": 4,
      "metadata": {
        "id": "zYZvQG5JsrQ1"
      },
      "outputs": [],
      "source": [
        "sgd = tf.keras.optimizers.SGD(learning_rate=0.1, momentum=0.9, nesterov=False, name='SGD')"
      ]
    },
    {
      "cell_type": "code",
      "execution_count": 5,
      "metadata": {
        "id": "J22hPngzuw7D"
      },
      "outputs": [],
      "source": [
        "def printAccuracy(history,results_test):\n",
        "    print(\"train loss %.5f \\t train acc: %.5f\"%(history.history['loss'][-1],history.history['accuracy'][-1]))\n",
        "    print(\"valid loss %.5f \\t valid acc: %.5f\"%(history.history['val_loss'][-1],history.history['val_accuracy'][-1]))\n",
        "    print(\"test loss  %.5f \\t test acc:  %.5f\"%(results_test[0],results_test[1]))"
      ]
    },
    {
      "cell_type": "code",
      "execution_count": 6,
      "metadata": {
        "id": "POI4eulIu604"
      },
      "outputs": [],
      "source": [
        "#we will do this a lot, so lets make a function for this\n",
        "def plot_result(history,results_test):\n",
        "    # Get training and validation histories\n",
        "    training_acc = history.history['accuracy']\n",
        "    val_acc      = history.history['val_accuracy']\n",
        "    # Create count of the number of epochs\n",
        "    epoch_count = range(1, len(training_acc) + 1)\n",
        "    # Visualize loss history\n",
        "    plt.plot(epoch_count, training_acc, 'b-o',label='Training')\n",
        "    plt.plot(epoch_count, val_acc, 'r--',label='Validation')\n",
        "    plt.plot(epoch_count, results_test[1]*np.ones(len(epoch_count)),'k--',label='Test')\n",
        "    plt.legend()\n",
        "    plt.title(\"Training and validation accuracy\")\n",
        "    plt.xlabel('Epoch')\n",
        "    plt.ylabel('Accuracy')"
      ]
    },
    {
      "cell_type": "markdown",
      "metadata": {
        "id": "-_oegk-8noWy"
      },
      "source": [
        "## Exercise 1a: hidden layer; $d_1=10$"
      ]
    },
    {
      "cell_type": "markdown",
      "metadata": {
        "id": "EILg1v6SnoWz"
      },
      "source": [
        "### Build our model"
      ]
    },
    {
      "cell_type": "code",
      "execution_count": 7,
      "metadata": {
        "colab": {
          "base_uri": "https://localhost:8080/"
        },
        "id": "ITwWFksktOFT",
        "outputId": "2ca101f5-902e-410a-dbad-d203b7752cc5"
      },
      "outputs": [
        {
          "data": {
            "text/plain": [
              "(1, 28, 28)"
            ]
          },
          "execution_count": 7,
          "metadata": {},
          "output_type": "execute_result"
        }
      ],
      "source": [
        "X_train[1].shape"
      ]
    },
    {
      "cell_type": "code",
      "execution_count": 8,
      "metadata": {
        "id": "Ifgj_EdfnoW0"
      },
      "outputs": [],
      "source": [
        "d1= 10\n",
        "model_10 = tf.keras.models.Sequential([              # model type\n",
        "  tf.keras.layers.Flatten(input_shape=X_train[1].shape),  # input layer\n",
        "  tf.keras.layers.Dense(d1, activation='relu'),   # hidden layer\n",
        "  tf.keras.layers.Dropout(0.2),\n",
        "  tf.keras.layers.Dense(10),                      # output to each class, could just stop here\n",
        "  tf.keras.layers.Softmax()                       # convert to probability\n",
        "])"
      ]
    },
    {
      "cell_type": "code",
      "execution_count": 9,
      "metadata": {
        "id": "Qv7wtEx5uMX2"
      },
      "outputs": [],
      "source": [
        "model_10.compile(optimizer=sgd,\n",
        "              loss='categorical_crossentropy', #need to define our loss function\n",
        "              metrics=['accuracy'])"
      ]
    },
    {
      "cell_type": "markdown",
      "metadata": {
        "id": "YfUgqkl0noW0"
      },
      "source": [
        "### Train the model"
      ]
    },
    {
      "cell_type": "code",
      "execution_count": 10,
      "metadata": {
        "colab": {
          "base_uri": "https://localhost:8080/"
        },
        "id": "IAXgpYnDnoW1",
        "outputId": "64c13136-1fcc-4aa6-9736-e5753180e2e6"
      },
      "outputs": [
        {
          "name": "stdout",
          "output_type": "stream",
          "text": [
            "Epoch 1/20\n",
            "160/160 [==============================] - 1s 4ms/step - loss: 1.0567 - accuracy: 0.6402 - val_loss: 0.4723 - val_accuracy: 0.8753\n",
            "Epoch 2/20\n",
            "160/160 [==============================] - 1s 4ms/step - loss: 0.7992 - accuracy: 0.7371 - val_loss: 0.4486 - val_accuracy: 0.8804\n",
            "Epoch 3/20\n",
            "160/160 [==============================] - 1s 3ms/step - loss: 0.7741 - accuracy: 0.7425 - val_loss: 0.4534 - val_accuracy: 0.8886\n",
            "Epoch 4/20\n",
            "160/160 [==============================] - 1s 3ms/step - loss: 0.7167 - accuracy: 0.7642 - val_loss: 0.3807 - val_accuracy: 0.8984\n",
            "Epoch 5/20\n",
            "160/160 [==============================] - 1s 3ms/step - loss: 0.6778 - accuracy: 0.7757 - val_loss: 0.4007 - val_accuracy: 0.8936\n",
            "Epoch 6/20\n",
            "160/160 [==============================] - 0s 3ms/step - loss: 0.6662 - accuracy: 0.7791 - val_loss: 0.3674 - val_accuracy: 0.8996\n",
            "Epoch 7/20\n",
            "160/160 [==============================] - 1s 3ms/step - loss: 0.6486 - accuracy: 0.7862 - val_loss: 0.3719 - val_accuracy: 0.9013\n",
            "Epoch 8/20\n",
            "160/160 [==============================] - 1s 4ms/step - loss: 0.6533 - accuracy: 0.7833 - val_loss: 0.3765 - val_accuracy: 0.9008\n",
            "Epoch 9/20\n",
            "160/160 [==============================] - 0s 3ms/step - loss: 0.6446 - accuracy: 0.7870 - val_loss: 0.3667 - val_accuracy: 0.9008\n",
            "Epoch 10/20\n",
            "160/160 [==============================] - 0s 3ms/step - loss: 0.6198 - accuracy: 0.7984 - val_loss: 0.3697 - val_accuracy: 0.8942\n",
            "Epoch 11/20\n",
            "160/160 [==============================] - 1s 3ms/step - loss: 0.5940 - accuracy: 0.8095 - val_loss: 0.3358 - val_accuracy: 0.9091\n",
            "Epoch 12/20\n",
            "160/160 [==============================] - 1s 3ms/step - loss: 0.5830 - accuracy: 0.8131 - val_loss: 0.3404 - val_accuracy: 0.9074\n",
            "Epoch 13/20\n",
            "160/160 [==============================] - 1s 3ms/step - loss: 0.5814 - accuracy: 0.8161 - val_loss: 0.3457 - val_accuracy: 0.9013\n",
            "Epoch 14/20\n",
            "160/160 [==============================] - 1s 3ms/step - loss: 0.5749 - accuracy: 0.8166 - val_loss: 0.3297 - val_accuracy: 0.9057\n",
            "Epoch 15/20\n",
            "160/160 [==============================] - 1s 3ms/step - loss: 0.5647 - accuracy: 0.8197 - val_loss: 0.3311 - val_accuracy: 0.9078\n",
            "Epoch 16/20\n",
            "160/160 [==============================] - 1s 3ms/step - loss: 0.5704 - accuracy: 0.8190 - val_loss: 0.3236 - val_accuracy: 0.9105\n",
            "Epoch 17/20\n",
            "160/160 [==============================] - 1s 3ms/step - loss: 0.5640 - accuracy: 0.8215 - val_loss: 0.3215 - val_accuracy: 0.9097\n",
            "Epoch 18/20\n",
            "160/160 [==============================] - 1s 3ms/step - loss: 0.5686 - accuracy: 0.8183 - val_loss: 0.3114 - val_accuracy: 0.9129\n",
            "Epoch 19/20\n",
            "160/160 [==============================] - 1s 3ms/step - loss: 0.5566 - accuracy: 0.8243 - val_loss: 0.3167 - val_accuracy: 0.9107\n",
            "Epoch 20/20\n",
            "160/160 [==============================] - 0s 3ms/step - loss: 0.5534 - accuracy: 0.8261 - val_loss: 0.3152 - val_accuracy: 0.9107\n",
            "total time 11.105 seconds\n"
          ]
        }
      ],
      "source": [
        "tstart = tf.timestamp()\n",
        "history = model_10.fit(X_train, Y_train, \n",
        "                    epochs=epochs,batch_size=batch_size,\n",
        "                    validation_split = 0.2) # Data for evaluation\n",
        "total_time = tf.timestamp() - tstart\n",
        "print(\"total time %3.3f seconds\"%total_time)"
      ]
    },
    {
      "cell_type": "markdown",
      "metadata": {
        "id": "3XJd_skhnoW1"
      },
      "source": [
        "### plot training and test accuracy per epoch"
      ]
    },
    {
      "cell_type": "code",
      "execution_count": 11,
      "metadata": {
        "colab": {
          "base_uri": "https://localhost:8080/"
        },
        "id": "QerKQV4tnoW1",
        "outputId": "bf63cf54-8207-4254-f8c0-78017737411e",
        "scrolled": true
      },
      "outputs": [
        {
          "name": "stdout",
          "output_type": "stream",
          "text": [
            "train loss 0.55340 \t train acc: 0.82610\n",
            "valid loss 0.31516 \t valid acc: 0.91067\n",
            "test loss  0.32466 \t test acc:  0.91210\n"
          ]
        }
      ],
      "source": [
        "results_test = model_10.evaluate(X_test, Y_test, batch_size=128,verbose=0)\n",
        "printAccuracy(history,results_test)"
      ]
    },
    {
      "cell_type": "code",
      "execution_count": 12,
      "metadata": {
        "colab": {
          "base_uri": "https://localhost:8080/",
          "height": 321
        },
        "id": "R13Jzre-uqdO",
        "outputId": "2cc51b02-650a-4935-dbb4-24f24f61891f"
      },
      "outputs": [
        {
          "data": {
            "image/png": "[encoded data removed]",
            "text/plain": [
              "<Figure size 698.976x432 with 1 Axes>"
            ]
          },
          "metadata": {
            "needs_background": "light"
          },
          "output_type": "display_data"
        }
      ],
      "source": [
        "plot_result(history,results_test)\n",
        "plt.title(\"MNIST 1-hidden layer, with dropout, in %3.2f s\"%(total_time)) #overwrite the title \n",
        "plt.show()"
      ]
    },
    {
      "cell_type": "markdown",
      "metadata": {
        "id": "zWSaMn3hnoW1"
      },
      "source": [
        "## Exercise 1b: hidden layer; $d_1=20$"
      ]
    },
    {
      "cell_type": "markdown",
      "metadata": {
        "id": "SuzuXHzYnoW2"
      },
      "source": [
        "### Build our model"
      ]
    },
    {
      "cell_type": "code",
      "execution_count": 13,
      "metadata": {
        "id": "eCSubBytnoW2"
      },
      "outputs": [],
      "source": [
        "d1= 20\n",
        "model_20 = tf.keras.models.Sequential([              # model type\n",
        "  tf.keras.layers.Flatten(input_shape=X_train[1].shape),  # input layer\n",
        "  tf.keras.layers.Dense(d1, activation='relu'),   # hidden layer\n",
        "  tf.keras.layers.Dropout(0.2),\n",
        "  tf.keras.layers.Dense(10),                      # output to each class, could just stop here\n",
        "  tf.keras.layers.Softmax()                       # convert to probability\n",
        "])\n",
        "\n",
        "model_20.compile(optimizer=sgd,\n",
        "              loss='categorical_crossentropy', #need to define our loss function\n",
        "              metrics=['accuracy'])"
      ]
    },
    {
      "cell_type": "markdown",
      "metadata": {
        "id": "Du_yaLhcnoW2"
      },
      "source": [
        "### Train the model"
      ]
    },
    {
      "cell_type": "code",
      "execution_count": 14,
      "metadata": {
        "colab": {
          "base_uri": "https://localhost:8080/"
        },
        "id": "AFbhQZyknoW2",
        "outputId": "2f3cd679-d60c-4f13-a71a-b76bca1000ef"
      },
      "outputs": [
        {
          "name": "stdout",
          "output_type": "stream",
          "text": [
            "Epoch 1/20\n",
            "160/160 [==============================] - 1s 5ms/step - loss: 0.6802 - accuracy: 0.7805 - val_loss: 0.2684 - val_accuracy: 0.9236\n",
            "Epoch 2/20\n",
            "160/160 [==============================] - 1s 4ms/step - loss: 0.3962 - accuracy: 0.8799 - val_loss: 0.2275 - val_accuracy: 0.9334\n",
            "Epoch 3/20\n",
            "160/160 [==============================] - 1s 4ms/step - loss: 0.3533 - accuracy: 0.8921 - val_loss: 0.2031 - val_accuracy: 0.9404\n",
            "Epoch 4/20\n",
            "160/160 [==============================] - 1s 4ms/step - loss: 0.3295 - accuracy: 0.8988 - val_loss: 0.1993 - val_accuracy: 0.9390\n",
            "Epoch 5/20\n",
            "160/160 [==============================] - 1s 4ms/step - loss: 0.3170 - accuracy: 0.9024 - val_loss: 0.1928 - val_accuracy: 0.9454\n",
            "Epoch 6/20\n",
            "160/160 [==============================] - 1s 4ms/step - loss: 0.3024 - accuracy: 0.9041 - val_loss: 0.1800 - val_accuracy: 0.9477\n",
            "Epoch 7/20\n",
            "160/160 [==============================] - 1s 4ms/step - loss: 0.2955 - accuracy: 0.9073 - val_loss: 0.1787 - val_accuracy: 0.9482\n",
            "Epoch 8/20\n",
            "160/160 [==============================] - 1s 4ms/step - loss: 0.2935 - accuracy: 0.9076 - val_loss: 0.1750 - val_accuracy: 0.9486\n",
            "Epoch 9/20\n",
            "160/160 [==============================] - 1s 4ms/step - loss: 0.2801 - accuracy: 0.9135 - val_loss: 0.1669 - val_accuracy: 0.9501\n",
            "Epoch 10/20\n",
            "160/160 [==============================] - 1s 4ms/step - loss: 0.2791 - accuracy: 0.9128 - val_loss: 0.1660 - val_accuracy: 0.9513\n",
            "Epoch 11/20\n",
            "160/160 [==============================] - 1s 4ms/step - loss: 0.2762 - accuracy: 0.9128 - val_loss: 0.1687 - val_accuracy: 0.9513\n",
            "Epoch 12/20\n",
            "160/160 [==============================] - 1s 4ms/step - loss: 0.2688 - accuracy: 0.9154 - val_loss: 0.1639 - val_accuracy: 0.9512\n",
            "Epoch 13/20\n",
            "160/160 [==============================] - 1s 4ms/step - loss: 0.2653 - accuracy: 0.9161 - val_loss: 0.1758 - val_accuracy: 0.9492\n",
            "Epoch 14/20\n",
            "160/160 [==============================] - 1s 4ms/step - loss: 0.2599 - accuracy: 0.9183 - val_loss: 0.1660 - val_accuracy: 0.9531\n",
            "Epoch 15/20\n",
            "160/160 [==============================] - 1s 3ms/step - loss: 0.2542 - accuracy: 0.9202 - val_loss: 0.1679 - val_accuracy: 0.9517\n",
            "Epoch 16/20\n",
            "160/160 [==============================] - 1s 3ms/step - loss: 0.2525 - accuracy: 0.9190 - val_loss: 0.1607 - val_accuracy: 0.9540\n",
            "Epoch 17/20\n",
            "160/160 [==============================] - 1s 3ms/step - loss: 0.2555 - accuracy: 0.9196 - val_loss: 0.1705 - val_accuracy: 0.9513\n",
            "Epoch 18/20\n",
            "160/160 [==============================] - 1s 4ms/step - loss: 0.2519 - accuracy: 0.9193 - val_loss: 0.1634 - val_accuracy: 0.9508\n",
            "Epoch 19/20\n",
            "160/160 [==============================] - 0s 3ms/step - loss: 0.2471 - accuracy: 0.9220 - val_loss: 0.1638 - val_accuracy: 0.9518\n",
            "Epoch 20/20\n",
            "160/160 [==============================] - 0s 3ms/step - loss: 0.2474 - accuracy: 0.9217 - val_loss: 0.1609 - val_accuracy: 0.9538\n",
            "total time 12.370 seconds\n"
          ]
        }
      ],
      "source": [
        "tstart = tf.timestamp()\n",
        "history = model_20.fit(X_train, Y_train, \n",
        "                    epochs=epochs,batch_size=batch_size,\n",
        "                    validation_split = 0.2) # Data for evaluation\n",
        "total_time = tf.timestamp() - tstart\n",
        "print(\"total time %3.3f seconds\"%total_time)"
      ]
    },
    {
      "cell_type": "markdown",
      "metadata": {
        "id": "3MmAWge4noW2"
      },
      "source": [
        "### plot training and test accuracy per epoch"
      ]
    },
    {
      "cell_type": "code",
      "execution_count": 15,
      "metadata": {
        "colab": {
          "base_uri": "https://localhost:8080/",
          "height": 372
        },
        "id": "7dFVyU7XnoW3",
        "outputId": "b781bc1a-074f-46ce-a844-b81cdea6495f",
        "scrolled": true
      },
      "outputs": [
        {
          "name": "stdout",
          "output_type": "stream",
          "text": [
            "train loss 0.24743 \t train acc: 0.92173\n",
            "valid loss 0.16090 \t valid acc: 0.95383\n",
            "test loss  0.16110 \t test acc:  0.95290\n"
          ]
        },
        {
          "data": {
            "image/png": "[encoded data removed]",
            "text/plain": [
              "<Figure size 698.976x432 with 1 Axes>"
            ]
          },
          "metadata": {
            "needs_background": "light"
          },
          "output_type": "display_data"
        }
      ],
      "source": [
        "results_test = model_20.evaluate(X_test, Y_test, batch_size=128,verbose=0)\n",
        "printAccuracy(history,results_test)\n",
        "\n",
        "plot_result(history,results_test)\n",
        "plt.title(\"MNIST 1-hidden layer, with dropout, in %3.2f s\"%(total_time)) #overwrite the title \n",
        "plt.show()"
      ]
    },
    {
      "cell_type": "markdown",
      "metadata": {
        "id": "KJRrRAjcnoW3"
      },
      "source": [
        "## Exercise 1c: hidden layer; $d_1=100$"
      ]
    },
    {
      "cell_type": "markdown",
      "metadata": {
        "id": "FQS6EKr_noW3"
      },
      "source": [
        "### Build our model"
      ]
    },
    {
      "cell_type": "code",
      "execution_count": 16,
      "metadata": {
        "id": "ipN3_QZ_noW3"
      },
      "outputs": [],
      "source": [
        "d1= 100\n",
        "model_100 = tf.keras.models.Sequential([              # model type\n",
        "  tf.keras.layers.Flatten(input_shape=X_train[1].shape),  # input layer\n",
        "  tf.keras.layers.Dense(d1, activation='relu'),   # hidden layer\n",
        "  tf.keras.layers.Dropout(0.2),\n",
        "  tf.keras.layers.Dense(10),                      # output to each class, could just stop here\n",
        "  tf.keras.layers.Softmax()                       # convert to probability\n",
        "])\n",
        "\n",
        "model_100.compile(optimizer=sgd,\n",
        "              loss='categorical_crossentropy', #need to define our loss function\n",
        "              metrics=['accuracy'])"
      ]
    },
    {
      "cell_type": "markdown",
      "metadata": {
        "id": "8cufPDRLnoW3"
      },
      "source": [
        "### Train the model"
      ]
    },
    {
      "cell_type": "code",
      "execution_count": 17,
      "metadata": {
        "colab": {
          "base_uri": "https://localhost:8080/"
        },
        "id": "LCf7-No5noW3",
        "outputId": "1f5f9592-93a6-4cb0-c774-4375ee5c9489"
      },
      "outputs": [
        {
          "name": "stdout",
          "output_type": "stream",
          "text": [
            "Epoch 1/20\n",
            "160/160 [==============================] - 1s 6ms/step - loss: 0.4504 - accuracy: 0.8644 - val_loss: 0.1937 - val_accuracy: 0.9451\n",
            "Epoch 2/20\n",
            "160/160 [==============================] - 1s 5ms/step - loss: 0.2086 - accuracy: 0.9390 - val_loss: 0.1446 - val_accuracy: 0.9579\n",
            "Epoch 3/20\n",
            "160/160 [==============================] - 1s 4ms/step - loss: 0.1651 - accuracy: 0.9503 - val_loss: 0.1224 - val_accuracy: 0.9649\n",
            "Epoch 4/20\n",
            "160/160 [==============================] - 1s 4ms/step - loss: 0.1384 - accuracy: 0.9594 - val_loss: 0.1112 - val_accuracy: 0.9673\n",
            "Epoch 5/20\n",
            "160/160 [==============================] - 1s 4ms/step - loss: 0.1209 - accuracy: 0.9639 - val_loss: 0.1035 - val_accuracy: 0.9704\n",
            "Epoch 6/20\n",
            "160/160 [==============================] - 1s 4ms/step - loss: 0.1067 - accuracy: 0.9678 - val_loss: 0.0975 - val_accuracy: 0.9721\n",
            "Epoch 7/20\n",
            "160/160 [==============================] - 1s 4ms/step - loss: 0.0959 - accuracy: 0.9710 - val_loss: 0.0968 - val_accuracy: 0.9708\n",
            "Epoch 8/20\n",
            "160/160 [==============================] - 1s 4ms/step - loss: 0.0891 - accuracy: 0.9726 - val_loss: 0.0923 - val_accuracy: 0.9728\n",
            "Epoch 9/20\n",
            "160/160 [==============================] - 1s 4ms/step - loss: 0.0847 - accuracy: 0.9740 - val_loss: 0.0926 - val_accuracy: 0.9721\n",
            "Epoch 10/20\n",
            "160/160 [==============================] - 1s 4ms/step - loss: 0.0791 - accuracy: 0.9749 - val_loss: 0.0887 - val_accuracy: 0.9737\n",
            "Epoch 11/20\n",
            "160/160 [==============================] - 1s 4ms/step - loss: 0.0748 - accuracy: 0.9765 - val_loss: 0.0849 - val_accuracy: 0.9749\n",
            "Epoch 12/20\n",
            "160/160 [==============================] - 1s 4ms/step - loss: 0.0717 - accuracy: 0.9778 - val_loss: 0.0871 - val_accuracy: 0.9739\n",
            "Epoch 13/20\n",
            "160/160 [==============================] - 1s 4ms/step - loss: 0.0655 - accuracy: 0.9790 - val_loss: 0.0883 - val_accuracy: 0.9749\n",
            "Epoch 14/20\n",
            "160/160 [==============================] - 1s 3ms/step - loss: 0.0630 - accuracy: 0.9803 - val_loss: 0.0843 - val_accuracy: 0.9748\n",
            "Epoch 15/20\n",
            "160/160 [==============================] - 1s 4ms/step - loss: 0.0583 - accuracy: 0.9820 - val_loss: 0.0852 - val_accuracy: 0.9738\n",
            "Epoch 16/20\n",
            "160/160 [==============================] - 1s 3ms/step - loss: 0.0561 - accuracy: 0.9818 - val_loss: 0.0818 - val_accuracy: 0.9761\n",
            "Epoch 17/20\n",
            "160/160 [==============================] - 1s 4ms/step - loss: 0.0536 - accuracy: 0.9831 - val_loss: 0.0834 - val_accuracy: 0.9770\n",
            "Epoch 18/20\n",
            "160/160 [==============================] - 1s 4ms/step - loss: 0.0520 - accuracy: 0.9834 - val_loss: 0.0853 - val_accuracy: 0.9755\n",
            "Epoch 19/20\n",
            "160/160 [==============================] - 1s 4ms/step - loss: 0.0492 - accuracy: 0.9843 - val_loss: 0.0845 - val_accuracy: 0.9759\n",
            "Epoch 20/20\n",
            "160/160 [==============================] - 1s 4ms/step - loss: 0.0481 - accuracy: 0.9845 - val_loss: 0.0815 - val_accuracy: 0.9781\n",
            "total time 13.153 seconds\n"
          ]
        }
      ],
      "source": [
        "tstart = tf.timestamp()\n",
        "history = model_100.fit(X_train, Y_train, \n",
        "                    epochs=epochs,batch_size=batch_size,\n",
        "                    validation_split = 0.2) # Data for evaluation\n",
        "total_time = tf.timestamp() - tstart\n",
        "print(\"total time %3.3f seconds\"%total_time)"
      ]
    },
    {
      "cell_type": "markdown",
      "metadata": {
        "id": "Fj35OhGbnoW3"
      },
      "source": [
        "### plot training and test accuracy per epoch"
      ]
    },
    {
      "cell_type": "code",
      "execution_count": 18,
      "metadata": {
        "colab": {
          "base_uri": "https://localhost:8080/",
          "height": 372
        },
        "id": "pX-aBbafnoW3",
        "outputId": "242f0f2f-2cb1-4b44-875d-2978645d0d36"
      },
      "outputs": [
        {
          "name": "stdout",
          "output_type": "stream",
          "text": [
            "train loss 0.04808 \t train acc: 0.98452\n",
            "valid loss 0.08150 \t valid acc: 0.97808\n",
            "test loss  0.07339 \t test acc:  0.97830\n"
          ]
        },
        {
          "data": {
            "image/png": "[encoded data removed]",
            "text/plain": [
              "<Figure size 698.976x432 with 1 Axes>"
            ]
          },
          "metadata": {
            "needs_background": "light"
          },
          "output_type": "display_data"
        }
      ],
      "source": [
        "results_test = model_100.evaluate(X_test, Y_test, batch_size=128,verbose=0)\n",
        "printAccuracy(history,results_test)\n",
        "\n",
        "plot_result(history,results_test)\n",
        "plt.title(\"MNIST 1-hidden layer, with dropout, in %3.2f s\"%(total_time)) #overwrite the title \n",
        "plt.show()"
      ]
    },
    {
      "cell_type": "markdown",
      "metadata": {
        "id": "KV_OG17dnoW4"
      },
      "source": [
        "## Exercise 1d: hidden layer; $d_1=1000$"
      ]
    },
    {
      "cell_type": "markdown",
      "metadata": {
        "id": "gRDl7CRhnoW4"
      },
      "source": [
        "### Build our model"
      ]
    },
    {
      "cell_type": "code",
      "execution_count": 19,
      "metadata": {
        "id": "HMV4rGrtnoW4"
      },
      "outputs": [],
      "source": [
        "d1= 1000\n",
        "model_1000 = tf.keras.models.Sequential([              # model type\n",
        "  tf.keras.layers.Flatten(input_shape=X_train[1].shape),  # input layer\n",
        "  tf.keras.layers.Dense(d1, activation='relu'),   # hidden layer\n",
        "  tf.keras.layers.Dropout(0.2),\n",
        "  tf.keras.layers.Dense(10),                      # output to each class, could just stop here\n",
        "  tf.keras.layers.Softmax()                       # convert to probability\n",
        "])\n",
        "\n",
        "model_1000.compile(optimizer=sgd,\n",
        "              loss='categorical_crossentropy', #need to define our loss function\n",
        "              metrics=['accuracy'])"
      ]
    },
    {
      "cell_type": "markdown",
      "metadata": {
        "id": "NYfvl0HwnoW4"
      },
      "source": [
        "### Train the model"
      ]
    },
    {
      "cell_type": "code",
      "execution_count": 20,
      "metadata": {
        "colab": {
          "base_uri": "https://localhost:8080/"
        },
        "id": "TMicosrsnoW4",
        "outputId": "3f2afe02-3688-4a54-ca6f-737666abd845"
      },
      "outputs": [
        {
          "name": "stdout",
          "output_type": "stream",
          "text": [
            "Epoch 1/20\n",
            "160/160 [==============================] - 3s 15ms/step - loss: 0.3667 - accuracy: 0.8914 - val_loss: 0.1686 - val_accuracy: 0.9512\n",
            "Epoch 2/20\n",
            "160/160 [==============================] - 2s 14ms/step - loss: 0.1473 - accuracy: 0.9578 - val_loss: 0.1213 - val_accuracy: 0.9660\n",
            "Epoch 3/20\n",
            "160/160 [==============================] - 2s 14ms/step - loss: 0.1040 - accuracy: 0.9700 - val_loss: 0.0996 - val_accuracy: 0.9700\n",
            "Epoch 4/20\n",
            "160/160 [==============================] - 2s 14ms/step - loss: 0.0799 - accuracy: 0.9769 - val_loss: 0.0874 - val_accuracy: 0.9743\n",
            "Epoch 5/20\n",
            "160/160 [==============================] - 2s 14ms/step - loss: 0.0656 - accuracy: 0.9816 - val_loss: 0.0787 - val_accuracy: 0.9768\n",
            "Epoch 6/20\n",
            "160/160 [==============================] - 2s 14ms/step - loss: 0.0538 - accuracy: 0.9842 - val_loss: 0.0764 - val_accuracy: 0.9772\n",
            "Epoch 7/20\n",
            "160/160 [==============================] - 2s 14ms/step - loss: 0.0435 - accuracy: 0.9883 - val_loss: 0.0729 - val_accuracy: 0.9780\n",
            "Epoch 8/20\n",
            "160/160 [==============================] - 2s 14ms/step - loss: 0.0392 - accuracy: 0.9893 - val_loss: 0.0696 - val_accuracy: 0.9798\n",
            "Epoch 9/20\n",
            "160/160 [==============================] - 2s 14ms/step - loss: 0.0318 - accuracy: 0.9916 - val_loss: 0.0693 - val_accuracy: 0.9803\n",
            "Epoch 10/20\n",
            "160/160 [==============================] - 2s 14ms/step - loss: 0.0275 - accuracy: 0.9925 - val_loss: 0.0677 - val_accuracy: 0.9809\n",
            "Epoch 11/20\n",
            "160/160 [==============================] - 2s 14ms/step - loss: 0.0241 - accuracy: 0.9940 - val_loss: 0.0679 - val_accuracy: 0.9800\n",
            "Epoch 12/20\n",
            "160/160 [==============================] - 2s 14ms/step - loss: 0.0207 - accuracy: 0.9952 - val_loss: 0.0643 - val_accuracy: 0.9813\n",
            "Epoch 13/20\n",
            "160/160 [==============================] - 2s 14ms/step - loss: 0.0186 - accuracy: 0.9957 - val_loss: 0.0666 - val_accuracy: 0.9808\n",
            "Epoch 14/20\n",
            "160/160 [==============================] - 2s 14ms/step - loss: 0.0160 - accuracy: 0.9965 - val_loss: 0.0634 - val_accuracy: 0.9827\n",
            "Epoch 15/20\n",
            "160/160 [==============================] - 2s 14ms/step - loss: 0.0148 - accuracy: 0.9967 - val_loss: 0.0626 - val_accuracy: 0.9822\n",
            "Epoch 16/20\n",
            "160/160 [==============================] - 2s 14ms/step - loss: 0.0131 - accuracy: 0.9974 - val_loss: 0.0644 - val_accuracy: 0.9812\n",
            "Epoch 17/20\n",
            "160/160 [==============================] - 2s 14ms/step - loss: 0.0120 - accuracy: 0.9979 - val_loss: 0.0644 - val_accuracy: 0.9827\n",
            "Epoch 18/20\n",
            "160/160 [==============================] - 2s 14ms/step - loss: 0.0110 - accuracy: 0.9980 - val_loss: 0.0613 - val_accuracy: 0.9826\n",
            "Epoch 19/20\n",
            "160/160 [==============================] - 2s 14ms/step - loss: 0.0090 - accuracy: 0.9986 - val_loss: 0.0618 - val_accuracy: 0.9826\n",
            "Epoch 20/20\n",
            "160/160 [==============================] - 2s 14ms/step - loss: 0.0083 - accuracy: 0.9989 - val_loss: 0.0626 - val_accuracy: 0.9832\n",
            "total time 45.413 seconds\n"
          ]
        }
      ],
      "source": [
        "tstart = tf.timestamp()\n",
        "history = model_1000.fit(X_train, Y_train, \n",
        "                    epochs=epochs,batch_size=batch_size,\n",
        "                    validation_split = 0.2) # Data for evaluation\n",
        "total_time = tf.timestamp() - tstart\n",
        "print(\"total time %3.3f seconds\"%total_time)"
      ]
    },
    {
      "cell_type": "markdown",
      "metadata": {
        "id": "4RUHf_TwnoW4"
      },
      "source": [
        "### plot training and test accuracy per epoch"
      ]
    },
    {
      "cell_type": "code",
      "execution_count": 21,
      "metadata": {
        "colab": {
          "base_uri": "https://localhost:8080/",
          "height": 372
        },
        "id": "mP0ZUDbPnoW4",
        "outputId": "c7e519f5-4ff2-4449-e759-52f5c00805df",
        "scrolled": true
      },
      "outputs": [
        {
          "name": "stdout",
          "output_type": "stream",
          "text": [
            "train loss 0.00835 \t train acc: 0.99888\n",
            "valid loss 0.06256 \t valid acc: 0.98317\n",
            "test loss  0.05440 \t test acc:  0.98270\n"
          ]
        },
        {
          "data": {
            "image/png": "[encoded data removed]",
            "text/plain": [
              "<Figure size 698.976x432 with 1 Axes>"
            ]
          },
          "metadata": {
            "needs_background": "light"
          },
          "output_type": "display_data"
        }
      ],
      "source": [
        "results_test = model_1000.evaluate(X_test, Y_test, batch_size=128,verbose=0)\n",
        "printAccuracy(history,results_test)\n",
        "\n",
        "plot_result(history,results_test)\n",
        "plt.title(\"MNIST 1-hidden layer, with dropout, in %3.2f s\"%(total_time)) #overwrite the title \n",
        "plt.show()"
      ]
    },
    {
      "cell_type": "markdown",
      "metadata": {
        "id": "FNC4MoomnoW4"
      },
      "source": [
        "## Summary of Exercises 1\n",
        "\n",
        "Complete the following table to help summarize your findings for the 1-hidden layer MNIST classifier."
      ]
    },
    {
      "cell_type": "markdown",
      "metadata": {
        "id": "MP_tOELAnoW5"
      },
      "source": [
        "\n",
        "| Number of hidden neurons | Train Accuracy | Validation Accuracy | Test Accuracy | \n",
        "| - | - | - | - |\n",
        "| 10 | 0.82610 | 0.91067 | 0.91210 |\n",
        "| 20 | 0.92173 | 0.95383 | 0.95290 |\n",
        "| 100 | 0.98452 | 0.97775 | 0.97870 |\n",
        "| 1000 | 0.99894 | 0.98333 | 0.98260 |\n",
        "\n",
        "#### Questions\n",
        "1. Why is the validation accuracy higher than training accuracy for $d_1 = 10$ and 20?  Why is training accuracy better than validation for $d_1=100$ and $1000$?\n",
        "\n",
        "  - validation accuracy higher than training accuracy for $d_1 = 10$ and $20$ since the model is not trained enough\n",
        "  - training accuracy better than validation for $d_1=100$ and $1000$ since the model is trained so many times that it remembers the data, which means that it is overfitting\n",
        "\n",
        "2. Don't try this, but from your results, predict what accuracy would be for a NN with 10000 neurons.  Estimate the :\n",
        "* train: around 1\n",
        "* valid: close to 1\n",
        "* test: close to 1\n",
        "\n",
        "  -Reason: from the table, I find that as number of hidden neurons increases, that accuracy increases also. Thus, if there are 10,000 neurons, the model may remember the train data as you said, so the accuracy may be 1"
      ]
    },
    {
      "cell_type": "markdown",
      "metadata": {
        "id": "86GaqaBhnoW5"
      },
      "source": [
        "## Exercise 2: online MNIST classifier \n",
        "[https://www.cs.ryerson.ca/~aharley/vis/fc/](https://www.cs.ryerson.ca/~aharley/vis/fc/)\n",
        "\n",
        "Go to the link below.  Draw some numbers and see what the model predicts.  \n",
        "\n",
        "* Can you write a number that isn't accurately predicted?\n",
        "\n",
        "  - Yes\n",
        "\n",
        "* Why do you think it was misidentified?\n",
        "\n",
        "  - My numbers are confusing to machine: e.g.: 1 looks like 7, 0 looks like 6\n",
        "  - Different style of writing a number: e.e.: number 7 (https://www.quora.com/Why-do-some-people-write-the-number-seven-as-7-with-a-small-horizontal-line-in-the-middle)\n",
        "\n",
        "* What could you try to do to make the network accuracy improve?  Be specific. \n",
        "\n",
        "  - Create more images to train model (for cases like different ways to write number 7)\n",
        "  - Dropout to prevent overfitting"
      ]
    },
    {
      "cell_type": "markdown",
      "metadata": {
        "id": "Mx2pcVE3noW5"
      },
      "source": [
        "## Exercise 3: Short answer questions\n",
        "\n",
        "1. Name three popular activation functions.\n",
        "\n",
        "  - sigmoid, tanh, relu\n",
        "\n",
        "2. How many neurons do you need in the output layer if want to classify email into **spam** and **not-spam**?  What activation function should you use?\n",
        "\n",
        "  - 1 output neuron and use sigmoid funcion since the output needs 0 and 1 only\n",
        "\n",
        "3. T/F. For any neural network, the training error must always decrease monotonically (never increasing) when using SGD, provided the step size is sufficiently small (assume the step size is constant).  Give justification for your answer.\n",
        "\n",
        "  - True. Because the more we train, the more it fits the training dataset, which results in smaller training error\n",
        "\n",
        "4. T/F. For any network, the validation error must always decrease monotonically (never increases), provided the step size is sufficiently small.  Give justification for your answer.\n",
        "\n",
        "  - False. As we continue training the model, the validation error stops decreasing and actually starts to go back up. This indicates that the model has started to overfit the training data. To prevent that, we should stop training when the error is below a threshold (this method is called [Early Stopping](https://towardsdatascience.com/a-practical-introduction-to-early-stopping-in-machine-learning-550ac88bc8fd))"
      ]
    }
  ],
  "metadata": {
    "colab": {
      "collapsed_sections": [
        "a-mmlPpznoWu"
      ],
      "name": "week06-hw.ipynb",
      "provenance": []
    },
    "kernelspec": {
      "display_name": "Python 3",
      "language": "python",
      "name": "python3"
    },
    "language_info": {
      "codemirror_mode": {
        "name": "ipython",
        "version": 3
      },
      "file_extension": ".py",
      "mimetype": "text/x-python",
      "name": "python",
      "nbconvert_exporter": "python",
      "pygments_lexer": "ipython3",
      "version": "3.10.2"
    }
  },
  "nbformat": 4,
  "nbformat_minor": 0
}
