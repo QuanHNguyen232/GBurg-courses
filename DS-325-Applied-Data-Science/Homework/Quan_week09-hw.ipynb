{
  "cells": [
    {
      "cell_type": "markdown",
      "metadata": {
        "id": "ev9opSNazsk1"
      },
      "source": [
        "# HW - Natural language processing"
      ]
    },
    {
      "cell_type": "code",
      "execution_count": 1,
      "metadata": {
        "colab": {
          "base_uri": "https://localhost:8080/",
          "height": 0
        },
        "id": "qHBHL1Qfzsk4",
        "outputId": "c253fe39-c650-40a0-dfc0-60cb32f329ea"
      },
      "outputs": [
        {
          "output_type": "stream",
          "name": "stdout",
          "text": [
            "[nltk_data] Downloading package punkt to /root/nltk_data...\n",
            "[nltk_data]   Unzipping tokenizers/punkt.zip.\n",
            "[nltk_data] Downloading package averaged_perceptron_tagger to\n",
            "[nltk_data]     /root/nltk_data...\n",
            "[nltk_data]   Unzipping taggers/averaged_perceptron_tagger.zip.\n",
            "[nltk_data] Downloading package gutenberg to /root/nltk_data...\n",
            "[nltk_data]   Unzipping corpora/gutenberg.zip.\n",
            "[nltk_data] Downloading package stopwords to /root/nltk_data...\n",
            "[nltk_data]   Unzipping corpora/stopwords.zip.\n",
            "[nltk_data] Downloading package wordnet to /root/nltk_data...\n",
            "[nltk_data]   Unzipping corpora/wordnet.zip.\n",
            "[nltk_data] Downloading package wordnet to /root/nltk_data...\n",
            "[nltk_data]   Package wordnet is already up-to-date!\n"
          ]
        }
      ],
      "source": [
        "#-----------------------------\n",
        "# Natural Language Toolkit \n",
        "import nltk\n",
        "nltk.download('punkt')\n",
        "sent_tokenizer=nltk.data.load('tokenizers/punkt/english.pickle')\n",
        "nltk.download('averaged_perceptron_tagger')\n",
        "nltk.download('gutenberg')\n",
        "nltk.download('stopwords')\n",
        "nltk.download('wordnet')\n",
        "from nltk.corpus import stopwords\n",
        "from nltk.tokenize import word_tokenize, sent_tokenize, WordPunctTokenizer\n",
        "from nltk.stem import PorterStemmer\n",
        "import requests #web\n",
        "from collections import Counter #counting words\n",
        "from sklearn.feature_extraction.text import TfidfVectorizer\n",
        "from sklearn.metrics.pairwise import cosine_similarity\n",
        "nltk.download('wordnet')\n",
        "import re\n",
        "import string \n",
        "#-----------------------------\n",
        "from sklearn.metrics import accuracy_score, confusion_matrix, ConfusionMatrixDisplay\n",
        "from sklearn.model_selection import train_test_split\n",
        "from sklearn.naive_bayes import MultinomialNB\n",
        "from sklearn.model_selection import train_test_split, GridSearchCV\n",
        "from sklearn.pipeline import Pipeline\n",
        "import time\n",
        "#-----------------------------\n",
        "import numpy as np\n",
        "import pandas as pd\n",
        "import matplotlib.pyplot as plt\n",
        "plt.style.use('seaborn')\n",
        "plt.rcParams[\"figure.figsize\"] = (9.71,6)\n",
        "import matplotlib.cm as cm\n",
        "import seaborn as sns; \n",
        "sns.axes_style(\"whitegrid\")\n",
        "sns.set_context(\"talk\")\n",
        "np.random.seed(0)\n"
      ]
    },
    {
      "cell_type": "markdown",
      "metadata": {
        "id": "DtPiITGTzsk5"
      },
      "source": [
        "## We are going to load from the corpus from NLTK"
      ]
    },
    {
      "cell_type": "code",
      "execution_count": 2,
      "metadata": {
        "colab": {
          "base_uri": "https://localhost:8080/",
          "height": 0
        },
        "id": "iemUy7qbzsk6",
        "outputId": "e7d6432b-e222-48a7-bcd4-f9b893912137"
      },
      "outputs": [
        {
          "output_type": "execute_result",
          "data": {
            "text/plain": [
              "['austen-emma.txt',\n",
              " 'austen-persuasion.txt',\n",
              " 'austen-sense.txt',\n",
              " 'bible-kjv.txt',\n",
              " 'blake-poems.txt',\n",
              " 'bryant-stories.txt',\n",
              " 'burgess-busterbrown.txt',\n",
              " 'carroll-alice.txt',\n",
              " 'chesterton-ball.txt',\n",
              " 'chesterton-brown.txt',\n",
              " 'chesterton-thursday.txt',\n",
              " 'edgeworth-parents.txt',\n",
              " 'melville-moby_dick.txt',\n",
              " 'milton-paradise.txt',\n",
              " 'shakespeare-caesar.txt',\n",
              " 'shakespeare-hamlet.txt',\n",
              " 'shakespeare-macbeth.txt',\n",
              " 'whitman-leaves.txt']"
            ]
          },
          "metadata": {},
          "execution_count": 2
        }
      ],
      "source": [
        "nltk.corpus.gutenberg.fileids()"
      ]
    },
    {
      "cell_type": "markdown",
      "metadata": {
        "id": "HqN3f3hRzsk6"
      },
      "source": [
        "We can load each of the text with the following command:"
      ]
    },
    {
      "cell_type": "code",
      "execution_count": 3,
      "metadata": {
        "colab": {
          "base_uri": "https://localhost:8080/",
          "height": 0
        },
        "id": "ddz1MUQ6zsk6",
        "outputId": "4720e4b2-4866-4c7a-8711-03b0610a30db"
      },
      "outputs": [
        {
          "output_type": "stream",
          "name": "stdout",
          "text": [
            "[Persuasion by Jane Austen 1818]\n",
            "\n",
            "\n",
            "Chapter 1\n",
            "\n",
            "\n",
            "Sir Walter Elliot, of Kellynch Hall, in Somersetshire, was a man who,\n",
            "for his own amusement, never took\n"
          ]
        }
      ],
      "source": [
        "raw_text  = nltk.corpus.gutenberg.raw('austen-persuasion.txt')        \n",
        "print(raw_text[:150])"
      ]
    },
    {
      "cell_type": "markdown",
      "metadata": {
        "id": "JbxoWPgjzsk6"
      },
      "source": [
        "## Exercise 1\n",
        "\n",
        "Create a python function to pre-process a text including the following steps:\n",
        "\n",
        "1. Load the raw text.\n",
        "2. Split into tokens.\n",
        "3. Convert to lowercase.\n",
        "4. Filter out tokens that are not alphabetic.\n",
        "5. Filter out tokens that are stop words.\n",
        "6. Lemmatize the tokens\n",
        "7. Display the first 20 terms of the file after preprocessing. \n",
        "\n",
        "\n",
        "For exercise 1, use **austen-persuasion.txt**."
      ]
    },
    {
      "cell_type": "markdown",
      "source": [
        "### define function to convert raw text into tokens as detailed above\n",
        "\n"
      ],
      "metadata": {
        "id": "hBwo4I87zsk7"
      }
    },
    {
      "cell_type": "code",
      "source": [
        "def clean_word(raw_text): #tokenize, lowercase, remove stopwords, remove punctuation, lemmatize\n",
        "  #define function to convert raw text into tokens as detailed above\n",
        "  stop_words     = set(nltk.corpus.stopwords.words('english'))\n",
        "  stemmer        = nltk.stem.PorterStemmer()\n",
        "  wnl            = nltk.WordNetLemmatizer()\n",
        "\n",
        "  tokens         = nltk.tokenize.word_tokenize(raw_text)             # split into tokens\n",
        "  tokens         = [ word.lower() for word in tokens ]               # to lower\n",
        "  tokens         = [ w for w in tokens if not w in stop_words ]      # remove stop words\n",
        "  tokens         = [ word for word in tokens if word.isalpha() ]     # remove not alphabetic\n",
        "  tokens         = [ wnl.lemmatize ( t ) for t in tokens ]           # lemmatize\n",
        "  text           = ' '.join(tokens)\n",
        "  return tokens\n",
        "\n",
        "def clean_sent(raw_text):\n",
        "  tokens      = nltk.tokenize.sent_tokenize(raw_text)\n",
        "  # stemmer        = nltk.stem.PorterStemmer()\n",
        "\n",
        "  # tokens         = tokenizer(raw_text)                               # split into tokens\n",
        "  tokens         = [ sent.lower() for sent in tokens ]               # to lower\n",
        "  return tokens\n",
        "\n",
        "def load_clean(url, isWord=True):\n",
        "  raw_text  = nltk.corpus.gutenberg.raw(url)\n",
        "  if (isWord):\n",
        "    text_word = clean_word(raw_text)\n",
        "    return text_word\n",
        "  else:\n",
        "    text_sent = clean_sent(raw_text)\n",
        "    return text_sent"
      ],
      "metadata": {
        "id": "KieSasHV5uCq"
      },
      "execution_count": 4,
      "outputs": []
    },
    {
      "cell_type": "code",
      "source": [
        "#call the function above and print the first 20 tokens of the text\n",
        "my_text = load_clean('austen-persuasion.txt')\n",
        "my_text[:20]"
      ],
      "metadata": {
        "colab": {
          "base_uri": "https://localhost:8080/",
          "height": 0
        },
        "id": "Wz8FMOW7DBny",
        "outputId": "cbc3dac9-5857-4dbf-f7aa-bd21c26b14dc"
      },
      "execution_count": 5,
      "outputs": [
        {
          "output_type": "execute_result",
          "data": {
            "text/plain": [
              "['persuasion',\n",
              " 'jane',\n",
              " 'austen',\n",
              " 'chapter',\n",
              " 'sir',\n",
              " 'walter',\n",
              " 'elliot',\n",
              " 'kellynch',\n",
              " 'hall',\n",
              " 'somersetshire',\n",
              " 'man',\n",
              " 'amusement',\n",
              " 'never',\n",
              " 'took',\n",
              " 'book',\n",
              " 'baronetage',\n",
              " 'found',\n",
              " 'occupation',\n",
              " 'idle',\n",
              " 'hour']"
            ]
          },
          "metadata": {},
          "execution_count": 5
        }
      ]
    },
    {
      "cell_type": "code",
      "source": [
        "size_word = [len(word) for word in my_text]\n",
        "size_word[:20]"
      ],
      "metadata": {
        "colab": {
          "base_uri": "https://localhost:8080/",
          "height": 0
        },
        "id": "jDZDPKa6C9u7",
        "outputId": "65ecf275-6a93-4796-cbf6-2d058295286a"
      },
      "execution_count": 6,
      "outputs": [
        {
          "output_type": "execute_result",
          "data": {
            "text/plain": [
              "[10, 4, 6, 7, 3, 6, 6, 8, 4, 13, 3, 9, 5, 4, 4, 10, 5, 10, 4, 4]"
            ]
          },
          "metadata": {},
          "execution_count": 6
        }
      ]
    },
    {
      "cell_type": "code",
      "source": [
        "longest_word =  max(my_text[:20], key=len)\n",
        "longest_word"
      ],
      "metadata": {
        "colab": {
          "base_uri": "https://localhost:8080/",
          "height": 35
        },
        "id": "cs5DH662HB4d",
        "outputId": "53694fbb-5316-487e-9ea0-8fd55309b7e5"
      },
      "execution_count": 7,
      "outputs": [
        {
          "output_type": "execute_result",
          "data": {
            "text/plain": [
              "'somersetshire'"
            ],
            "application/vnd.google.colaboratory.intrinsic+json": {
              "type": "string"
            }
          },
          "metadata": {},
          "execution_count": 7
        }
      ]
    },
    {
      "cell_type": "markdown",
      "metadata": {
        "id": "nDlHLxsWzsk7"
      },
      "source": [
        "## Exercise 2\n",
        "\n",
        "Use the pre-processing scheme from Exercise 1 to compute the stats in the following table. \n",
        "* We counting the words **after** the pre-processing (tokenize,lower,remove stopwords,etc).  You may wish to make a function to repeat the steps for each of the works. \n",
        "\n",
        "* Note: For the sentence data below, you do **NOT** need to lemmatize or remove stop words.  Just use the sentence tokenizer on the raw text and find the stats below.\n",
        "\n",
        "#### Use the tokenized text to fill out the table of statistics.\n",
        "\n",
        "| Text | Number of Words | Average Word Length | Number of Sentences | Average words in Sentence | Longest word | 6 Most used word | \n",
        "| - | - | - | - | - | - | - | \n",
        "| Austen - Persuasion | 37735 | 6.036597323439778 | 3654 | 22.799397920087575 | unreasonableness | mr, anne, could, would, captain, elliot | \n",
        "| Carroll - Alice | 11769 | 5.296796669215737 | 1625 | 16.277538461538462 | disappointment | said, alice, little, one, would, know | \n",
        "| Whitman - Leaves  | 61301 | 5.624802205510513 | 3827 | 31.89704729553175 | constructiveness | see, one, life, old, love, shall | \n",
        "| Melville - Moby Dick | 105064 | 5.788728774842001 | 9852 | 21.52557856272838 | uninterpenetratingly | whale, one, like, upon, ship, ahab | \n",
        "| Shakespeare - Caesar | 10737 | 5.184967868119586 | 1592 | 12.851130653266331 | notwithstanding | caesar, brutus, bru, haue, shall, thou | "
      ]
    },
    {
      "cell_type": "code",
      "source": [
        "def runEverything(file, isWord=True):\n",
        "  output = load_clean(file, isWord)\n",
        "\n",
        "  # Number of Words/Sent\n",
        "  print(f'size: {len(output)}')\n",
        "\n",
        "  # longest word/sent\n",
        "  if (isWord):\n",
        "    longest_word =  max(output, key=len)\n",
        "    print(f'longest_word: {longest_word}')\n",
        "  else:\n",
        "    longest_sent = max([len(s) for s in output])\n",
        "    print(f'longest_sent: {longest_sent}')\n",
        "\n",
        "  # Average Word/Sent Length\n",
        "  if (isWord):\n",
        "    size = [len(token) for token in output]\n",
        "    sum_size = float(sum(size))\n",
        "    avg_size = (sum_size / len(output))\n",
        "    print(f'avg_size: {avg_size}')\n",
        "  else:\n",
        "    # def average_words_in_sentence(sentences):\n",
        "    counts = []\n",
        "    for sentence in output:\n",
        "        counts.append(len(sentence.split()))\n",
        "    avg_sent = float(sum(counts))/len(counts)\n",
        "    print(f'avg_size: {avg_sent}')\n",
        "\n",
        "  # 6 Most used word\n",
        "  fdist1 = nltk.FreqDist(output)\n",
        "  for token, frequency in fdist1.most_common(6):\n",
        "      print(u'{}'.format(token), end=\", \")\n",
        "\n",
        "  print(\"\\n\")"
      ],
      "metadata": {
        "id": "eVBZjpPKAWpu"
      },
      "execution_count": 8,
      "outputs": []
    },
    {
      "cell_type": "code",
      "execution_count": 9,
      "metadata": {
        "id": "TXo0F0g3zsk8",
        "colab": {
          "base_uri": "https://localhost:8080/",
          "height": 0
        },
        "outputId": "02eeba48-7dfc-4677-b9e5-44c24944accb"
      },
      "outputs": [
        {
          "output_type": "stream",
          "name": "stdout",
          "text": [
            "austen-persuasion.txt\n",
            "size: 37735\n",
            "longest_word: unreasonableness\n",
            "avg_size: 6.036597323439778\n",
            "mr, anne, could, would, captain, elliot, \n",
            "\n",
            "carroll-alice.txt\n",
            "size: 11769\n",
            "longest_word: disappointment\n",
            "avg_size: 5.296796669215737\n",
            "said, alice, little, one, would, know, \n",
            "\n",
            "whitman-leaves.txt\n",
            "size: 61301\n",
            "longest_word: constructiveness\n",
            "avg_size: 5.624802205510513\n",
            "see, one, life, old, love, shall, \n",
            "\n",
            "melville-moby_dick.txt\n",
            "size: 105064\n",
            "longest_word: uninterpenetratingly\n",
            "avg_size: 5.788728774842001\n",
            "whale, one, like, upon, ship, ahab, \n",
            "\n",
            "shakespeare-caesar.txt\n",
            "size: 10737\n",
            "longest_word: notwithstanding\n",
            "avg_size: 5.184967868119586\n",
            "caesar, brutus, bru, haue, shall, thou, \n",
            "\n"
          ]
        }
      ],
      "source": [
        "#loop through our fileList and compute the stats\n",
        "file1='austen-persuasion.txt'\n",
        "file2='carroll-alice.txt'\n",
        "file3='whitman-leaves.txt'\n",
        "file4='melville-moby_dick.txt'\n",
        "file5='shakespeare-caesar.txt'\n",
        "fileList=[file1,file2,file3,file4,file5]\n",
        "#=================\n",
        "for f in fileList:\n",
        "  print(f)\n",
        "  runEverything(f, isWord=True)\n",
        "    # print(output)\n"
      ]
    },
    {
      "cell_type": "code",
      "source": [
        "#loop through our fileList and compute the stats\n",
        "file1='austen-persuasion.txt'\n",
        "file2='carroll-alice.txt'\n",
        "file3='whitman-leaves.txt'\n",
        "file4='melville-moby_dick.txt'\n",
        "file5='shakespeare-caesar.txt'\n",
        "fileList=[file1,file2,file3,file4,file5]\n",
        "#=================\n",
        "for f in fileList:\n",
        "  print(f)\n",
        "  runEverything(f, isWord=False)\n",
        "    # print(output)\n"
      ],
      "metadata": {
        "id": "xN4Zl5R5BSTZ",
        "colab": {
          "base_uri": "https://localhost:8080/",
          "height": 0
        },
        "outputId": "b25f7f96-b448-40a6-9b02-0eaa958e1e34"
      },
      "execution_count": 10,
      "outputs": [
        {
          "output_type": "stream",
          "name": "stdout",
          "text": [
            "austen-persuasion.txt\n",
            "size: 3654\n",
            "longest_sent: 1096\n",
            "avg_size: 22.799397920087575\n",
            "\"oh!, oh!, \"dear me!, ah!, \"ah!, \"indeed!, \n",
            "\n",
            "carroll-alice.txt\n",
            "size: 1625\n",
            "longest_sent: 919\n",
            "avg_size: 16.277538461538462\n",
            "said alice., thought alice., said the caterpillar., beau--ootiful soo--oop!, said the march hare., said the king., \n",
            "\n",
            "whitman-leaves.txt\n",
            "size: 3827\n",
            "longest_sent: 6486\n",
            "avg_size: 31.89704729553175\n",
            "o pioneers!, beat!, blow!, the shapes arise!, loved!, my captain!, \n",
            "\n",
            "melville-moby_dick.txt\n",
            "size: 9852\n",
            "longest_sent: 2809\n",
            "avg_size: 21.52557856272838\n",
            "oh!, ha!, \"oh!, ..., ah!, book i., \n",
            "\n",
            "shakespeare-caesar.txt\n",
            "size: 1592\n",
            "longest_sent: 744\n",
            "avg_size: 12.851130653266331\n",
            "bru., exeunt., cask., cassi., luc., brut., \n",
            "\n"
          ]
        }
      ]
    },
    {
      "cell_type": "markdown",
      "metadata": {
        "id": "q18fDq53zsk9"
      },
      "source": [
        "## Exercise 3: prepare unknown texts\n",
        "\n",
        "\n",
        "\n",
        "1. Load the text from the following url(s).\n",
        "2. Determine the start and stop index of the **real** text.  We need to remove header and footer text supplied by Gutenberg before processing the text. \n",
        "* save the text to **query_text**, we will use this in Exercise 4.\n",
        "3. Print the first 200 characters **query_text**.  \n",
        "\n",
        "\n",
        "There are two **query texts** can be accessed here:\n",
        "\n",
        "A: [http://www.gutenberg.org/files/1342/1342-0.txt](http://www.gutenberg.org/files/1342/1342-0.txt)\n",
        "\n",
        "B: [https://www.gutenberg.org/files/84/84-0.txt](https://www.gutenberg.org/files/84/84-0.txt)"
      ]
    },
    {
      "cell_type": "code",
      "execution_count": 11,
      "metadata": {
        "id": "vT4ueDtkzsk9"
      },
      "outputs": [],
      "source": [
        "def load_book(url):\n",
        "    response = requests.get(url)\n",
        "    full_text = response.content\n",
        "    rawText = full_text.decode(\"utf-8-sig\")    \n",
        "    return rawText"
      ]
    },
    {
      "cell_type": "code",
      "execution_count": 12,
      "metadata": {
        "id": "4NMYtPufzsk9",
        "colab": {
          "base_uri": "https://localhost:8080/",
          "height": 0
        },
        "outputId": "a72fedb1-d32b-4b47-d740-41edc637e45a"
      },
      "outputs": [
        {
          "output_type": "stream",
          "name": "stdout",
          "text": [
            "1988\n",
            "770654\n",
            "\r\n",
            "\r\n",
            "      “My dear Mr. Bennet,” said his lady to him one day, “have you\r\n",
            "      heard that Netherfield Park is let at last?”\r\n",
            "\r\n",
            "      Mr. Bennet replied that he had not.\r\n",
            "\r\n",
            "      “But it is,” returned \n"
          ]
        }
      ],
      "source": [
        "#load query text A\n",
        "#crop the text removing the header and footer material\n",
        "#print the first 300 characters of the actual text\n",
        "url_queryA = 'http://www.gutenberg.org/files/1342/1342-0.txt'\n",
        "query_textA = load_book(url_queryA)\n",
        "print(query_textA.find(\"It is a truth\"))\n",
        "print(query_textA.find(\"*** END OF THE PROJECT GUTENBERG EBOOK\"))\n",
        "query_textA=query_textA[2410:71356]\n",
        "print(query_textA[:200])"
      ]
    },
    {
      "cell_type": "code",
      "execution_count": 13,
      "metadata": {
        "id": "ZIRh5l9jzsk9",
        "colab": {
          "base_uri": "https://localhost:8080/",
          "height": 0
        },
        "outputId": "2880f5bf-c6bb-4f28-cf51-2032db9b79a3"
      },
      "outputs": [
        {
          "output_type": "stream",
          "name": "stdout",
          "text": [
            "1467\n",
            "427697\n",
            "\n",
            "\r\n",
            "\r\n",
            "Letter 1\r\n",
            "\r\n",
            "_To Mrs. Saville, England._\r\n",
            "\r\n",
            "\r\n",
            "St. Petersburgh, Dec. 11th, 17—.\r\n",
            "\r\n",
            "\r\n",
            "You will rejoice to hear that no disaster has accompanied the\r\n",
            "commencement of an enterprise which you have rega\n"
          ]
        }
      ],
      "source": [
        "#load query text B\n",
        "#crop the text removing the header and footer material\n",
        "#print the first 300 characters of the actual text\n",
        "url_queryB = 'https://www.gutenberg.org/files/84/84-0.txt'\n",
        "query_textB = load_book(url_queryB)\n",
        "print(query_textB.find(\"_To Mrs. Saville, England._\"))\n",
        "print(query_textB.find(\"*** END OF THE PROJECT GUTENBERG EBOOK\"))\n",
        "query_textB=query_textB[1450:427697]\n",
        "print(query_textB[:200])"
      ]
    },
    {
      "cell_type": "markdown",
      "metadata": {
        "id": "2zfKp-G7zsk-"
      },
      "source": [
        "## Exercise 3: similiarity to known texts\n",
        "\n",
        "Use the tools you learned in class to determine how similar each of these works are to one another using **cosine similarity**.\n",
        "\n",
        "1. Print the cosine similarity for our training texts.\n",
        "\n",
        "<code>file1='austen-persuasion.txt'\n",
        "file2='carroll-alice.txt'\n",
        "file3='whitman-leaves.txt'\n",
        "file4='melville-moby_dick.txt'\n",
        "file5='shakespeare-caesar.txt'\n",
        "</code>    \n",
        "\n",
        "2. For both of the query text from Exercise 3 -- **Pride and prejudice** and **Frankenstein**, find the cosine similarity to the training set of our file list.  \n",
        "* For each, which work is it most similar to?  \n",
        "* What is the cosine similarity?  \n",
        "* Which work is it least like?  \n",
        "* Does this make sense?\n",
        "\n",
        "\n",
        "#### Hint you can call the TfidfVectorizer directly on your tokens.  Initialize with\n",
        "<code>tfidf    = TfidfVectorizer(preprocessor=' '.join,lowercase=False)  </code>\n"
      ]
    },
    {
      "cell_type": "code",
      "execution_count": 14,
      "metadata": {
        "id": "JcVSbwkrzsk-"
      },
      "outputs": [],
      "source": [
        "#define the texts for our training set\n",
        "file1='austen-persuasion.txt'\n",
        "file2='carroll-alice.txt'\n",
        "file3='whitman-leaves.txt'\n",
        "file4='melville-moby_dick.txt'\n",
        "file5='shakespeare-caesar.txt'\n",
        "fileList=[file1,file2,file3,file4,file5]"
      ]
    },
    {
      "cell_type": "code",
      "execution_count": 15,
      "metadata": {
        "id": "CRIojwQuzsk-"
      },
      "outputs": [],
      "source": [
        "#load the text, tokenize, find the vectors and their pair-wise cosine similarity matrix\n",
        "allDocs = []\n",
        "for f in fileList:\n",
        "  raw_text = load_clean(f, isWord=True)\n",
        "  allDocs.append(raw_text)\n",
        "\n",
        "allDocs_processed=tuple(allDocs)"
      ]
    },
    {
      "cell_type": "markdown",
      "metadata": {
        "id": "TerqBLCuzsk-"
      },
      "source": [
        "Now prepare our query text and find its cosine similarity with our **training** set."
      ]
    },
    {
      "cell_type": "code",
      "execution_count": 16,
      "metadata": {
        "scrolled": false,
        "id": "9Lb9UlBazsk-",
        "colab": {
          "base_uri": "https://localhost:8080/",
          "height": 0
        },
        "outputId": "b1343b7c-1fa2-4cf7-80f6-36a6259d6c3a"
      },
      "outputs": [
        {
          "output_type": "execute_result",
          "data": {
            "text/plain": [
              "array([[1.        , 0.22849634, 0.30661023, 0.31867604, 0.11077842],\n",
              "       [0.22849634, 1.        , 0.21280648, 0.23862131, 0.07673814],\n",
              "       [0.30661023, 0.21280648, 1.        , 0.49383199, 0.23426643],\n",
              "       [0.31867604, 0.23862131, 0.49383199, 1.        , 0.15842266],\n",
              "       [0.11077842, 0.07673814, 0.23426643, 0.15842266, 1.        ]])"
            ]
          },
          "metadata": {},
          "execution_count": 16
        }
      ],
      "source": [
        "tfidf    = TfidfVectorizer(preprocessor=' '.join,lowercase=False)   # initialize the TFIDF vectorizer\n",
        "tfs_vecs = tfidf.fit_transform(allDocs_processed)                                # vectorize on the training data\n",
        "#=======================\n",
        "cosine_similarity(tfs_vecs)\n",
        "\n"
      ]
    },
    {
      "cell_type": "code",
      "source": [
        "#query_textA. Print its cosine similarity to the training set\n",
        "queryA        = query_textA\n",
        "query_tokensA = clean_word(queryA)\n",
        "query_matrixA = tfidf.transform([query_tokensA])     # we need the [] to make it a list\n",
        "print(cosine_similarity(query_matrixA, tfs_vecs))   # find the cosine similarity\n",
        "\n",
        "\n",
        "\n",
        "#=============================\n",
        "#compute the cosine similarity for B against the training texts\n",
        "queryB        = query_textB\n",
        "query_tokensB = clean_word(queryB)\n",
        "query_matrixB = tfidf.transform([query_tokensB])     # we need the [] to make it a list\n",
        "print(cosine_similarity(query_matrixB, tfs_vecs))   # find the cosine similarity\n"
      ],
      "metadata": {
        "colab": {
          "base_uri": "https://localhost:8080/",
          "height": 0
        },
        "id": "BQTuVgyCVUPe",
        "outputId": "3eee861e-cad3-4216-e09d-145e2b359368"
      },
      "execution_count": 17,
      "outputs": [
        {
          "output_type": "stream",
          "name": "stdout",
          "text": [
            "[[0.49946229 0.31781698 0.35144613 0.33392887 0.13211343]]\n",
            "[[0.43859412 0.26265712 0.55830446 0.45385365 0.16442187]]\n"
          ]
        }
      ]
    },
    {
      "cell_type": "markdown",
      "metadata": {
        "id": "IULbUkS8zsk-"
      },
      "source": [
        "### Pride and prejudice:  \n",
        "* **query textA** is **most** like ?\n",
        "  * file1='austen-persuasion.txt'\n",
        "\n",
        "* **query textA** is **least** like ?\n",
        "  * file5='shakespeare-caesar.txt'"
      ]
    },
    {
      "cell_type": "markdown",
      "metadata": {
        "id": "FL_lrU4Qzsk_"
      },
      "source": [
        "### Frankenstein\n",
        "* **query textB** is **most** like ?\n",
        "  * file3='whitman-leaves.txt'\n",
        "\n",
        "* **query textB** is **least** like ?\n",
        "  * file5='shakespeare-caesar.txt'"
      ]
    },
    {
      "cell_type": "markdown",
      "metadata": {
        "id": "JVd03mNdhKw-"
      },
      "source": [
        "# Exercise 4: Who wrote it? \n",
        "\n",
        "### In the following exercises, you will develop a classifier to detect who wrote a particular text.  This time we will train a classifier.\n",
        "\n",
        "* \"The person, be it gentleman or lady, who has not pleasure in a good novel, must be intolerably stupid.\"\n",
        "* \"There is nothing I would not do for those who are really my friends. I have no notion of loving people by halves, it is not my nature.\"\n",
        "* \"It is not down in any map; true places never are.\"\n",
        "* \"We cannot live only for ourselves. A thousand fibers connect us with our fellow men.\"\n",
        "\n",
        "Perhaps you can guess if **Austen** or **Melville** wrote each of the above.  Can you write an algorithm to have a computer accomplish this?\n"
      ]
    },
    {
      "cell_type": "markdown",
      "metadata": {
        "id": "WMxqHyOWhKw-"
      },
      "source": [
        "1. Load each text as a list of sentences (already COMPLETE in template script), remove sentences that are too short (e.g. 'Chapter XIII') to be useful.\n",
        "2. Make the target array for each list of tokenized sentences. \n",
        "3. Join the two labeled author-segregated lists into a single list. store the data as a pandas dataframe.\n",
        "4. Balance the two classes using **under-sampling** as we learned in class.\n",
        "5. Make a bar-plot showing each class has the same number of samples for each author: Austen and Melville.\n",
        "6. Use sklearn **train_test_split** to split the data into test and train data.\n",
        "7. Using NLP techniques to find the features and classify the data using a Naive Bayes classifier, using **pipeline**.\n",
        "8. Using the test set, evaluate the classifier's performance.  Display the confusion matrix for the test data.\n",
        "9. Find the most important features the classifier uses.\n",
        "\n"
      ]
    },
    {
      "cell_type": "code",
      "execution_count": 18,
      "metadata": {
        "id": "VAos3FMDhKw_"
      },
      "outputs": [],
      "source": [
        "#define our texts\n",
        "raw_text1   = nltk.corpus.gutenberg.raw('austen-emma.txt')\n",
        "raw_text2   = nltk.corpus.gutenberg.raw('melville-moby_dick.txt')"
      ]
    },
    {
      "cell_type": "code",
      "execution_count": 19,
      "metadata": {
        "id": "vAYPZpd1hKxA"
      },
      "outputs": [],
      "source": [
        "#tokenize text as a list of sentences\n",
        "def text2sentence(raw_text):\n",
        "    paragraphs = [p for p in raw_text.split('\\n\\n') if p] #sentence tokenizer doesn't split newline char '\\n\\n' paragraphs are 2 newline characters\n",
        "    tokens = []\n",
        "    for paragraph in paragraphs:\n",
        "        sentences = sent_tokenize(paragraph)\n",
        "        tokens.extend(sentences)\n",
        "    tokens = [s for s in tokens if len(s)>15] #throw out short sentences (e.g. chapter 1)\n",
        "    tokens = [s.replace('\\n', ' ') for s in tokens]  #there are single newline characters inside senteces, turn into whitespace\n",
        "    tokens = [s.replace('\\r', ' ') for s in tokens]  #there are single newline characters inside senteces, turn into whitespace    \n",
        "    return tokens\n"
      ]
    },
    {
      "cell_type": "markdown",
      "metadata": {
        "id": "ZciikBvWhKxA"
      },
      "source": [
        "1. Load each text as a list of sentences"
      ]
    },
    {
      "cell_type": "code",
      "execution_count": 20,
      "metadata": {
        "id": "fwePmpKvhKxB"
      },
      "outputs": [],
      "source": [
        "tokens1       = text2sentence(raw_text1)\n",
        "tokens2       = text2sentence(raw_text2)"
      ]
    },
    {
      "cell_type": "code",
      "execution_count": 21,
      "metadata": {
        "id": "JL0i_G9MhKxB",
        "colab": {
          "base_uri": "https://localhost:8080/",
          "height": 0
        },
        "outputId": "54108f20-c2b1-41a2-a6f6-3d84606b5830"
      },
      "outputs": [
        {
          "output_type": "stream",
          "name": "stdout",
          "text": [
            "7224\n",
            "8902\n"
          ]
        }
      ],
      "source": [
        "print(len(tokens1))\n",
        "print(len(tokens2))"
      ]
    },
    {
      "cell_type": "markdown",
      "metadata": {
        "id": "UrewhDJthKxB"
      },
      "source": [
        "2. Make the target array for each list of tokenized sentences. \n",
        "\n",
        "<code>class1  = (np.ones(len(tokens1))*1).tolist()</code>\n",
        "\n",
        "* Class 1 = Austen\n",
        "* Class 2 = Melville"
      ]
    },
    {
      "cell_type": "code",
      "execution_count": 22,
      "metadata": {
        "id": "mDUhU5k5hKxB",
        "scrolled": false
      },
      "outputs": [],
      "source": [
        "class1 = (np.zeros(len(tokens1))*1).tolist()\n",
        "class2 = (np.ones(len(tokens2))*1).tolist()"
      ]
    },
    {
      "cell_type": "markdown",
      "metadata": {
        "id": "ZA-trlYqhKxC"
      },
      "source": [
        "3. Join the two labeled author-segregated lists into a single list. Store the data as a pandas dataframe.\n",
        "\n",
        "* The dataFrame should have two columns **target** (which corresponds to the author) and **text** (a sentence by that author).\n",
        "\n",
        "<code>df = pd.DataFrame({'text':X,'target':Y})</code>"
      ]
    },
    {
      "cell_type": "code",
      "execution_count": 23,
      "metadata": {
        "id": "_3Lqk5zhhKxC",
        "scrolled": true
      },
      "outputs": [],
      "source": [
        "df_cl1 = pd.DataFrame({'text':tokens1,'target':class1})\n",
        "df_cl2 = pd.DataFrame({'text':tokens2,'target':class2})\n",
        "\n",
        "df = pd.concat([df_cl1, df_cl2], axis=0)"
      ]
    },
    {
      "cell_type": "code",
      "source": [
        "df.describe"
      ],
      "metadata": {
        "colab": {
          "base_uri": "https://localhost:8080/",
          "height": 0
        },
        "id": "Co1OocDjX4Zj",
        "outputId": "4ffb5742-dd22-4288-c0fe-13941ac50980"
      },
      "execution_count": 24,
      "outputs": [
        {
          "output_type": "execute_result",
          "data": {
            "text/plain": [
              "<bound method NDFrame.describe of                                                    text  target\n",
              "0                            [Emma by Jane Austen 1816]     0.0\n",
              "1      Emma Woodhouse, handsome, clever, and rich, w...     0.0\n",
              "2     She was the youngest of the two daughters of a...     0.0\n",
              "3     Her mother had died too long ago for her to ha...     0.0\n",
              "4     Sixteen years had Miss Taylor been in Mr. Wood...     0.0\n",
              "...                                                 ...     ...\n",
              "8897  Till, gaining that vital centre, the black bub...     1.0\n",
              "8898  Buoyed  up by that coffin, for almost one whol...     1.0\n",
              "8899  The unharming sharks, they glided by as if  wi...     1.0\n",
              "8900  On the second day, a sail drew near, nearer, a...     1.0\n",
              "8901  It was the devious-cruising Rachel, that in  h...     1.0\n",
              "\n",
              "[16126 rows x 2 columns]>"
            ]
          },
          "metadata": {},
          "execution_count": 24
        }
      ]
    },
    {
      "cell_type": "code",
      "source": [
        "class_names = ['df_cl1', 'df_cl2']\n",
        "ax = sns.countplot(x=df['target']); \n",
        "ax.set_xticklabels(class_names)\n",
        "plt.show()"
      ],
      "metadata": {
        "colab": {
          "base_uri": "https://localhost:8080/",
          "height": 300
        },
        "id": "ftO5QTokY-gV",
        "outputId": "a8166ffa-a9d0-42a8-f1d4-3ebaabaf78ab"
      },
      "execution_count": 25,
      "outputs": [
        {
          "output_type": "display_data",
          "data": {
            "text/plain": [
              "<Figure size 432x288 with 1 Axes>"
            ],
            "image/png": "[encoded data removed]"
          },
          "metadata": {
            "needs_background": "light"
          }
        }
      ]
    },
    {
      "cell_type": "markdown",
      "metadata": {
        "id": "nx3ficIChKxD"
      },
      "source": [
        "4. Balance the two classes using **under-sampling** as we learned in class."
      ]
    },
    {
      "cell_type": "code",
      "execution_count": 26,
      "metadata": {
        "id": "NXkZbDsahKxD"
      },
      "outputs": [],
      "source": [
        "# Balance two classes using undersampling\n",
        "count_class_1 = len(tokens1)\n",
        "df_cl2_under = df_cl2.sample(count_class_1)\n",
        "df_under = pd.concat([df_cl1, df_cl2_under], axis=0)"
      ]
    },
    {
      "cell_type": "code",
      "execution_count": 27,
      "metadata": {
        "id": "lpEGt4TchKxD",
        "colab": {
          "base_uri": "https://localhost:8080/",
          "height": 0
        },
        "outputId": "d21a6e78-0d0a-4819-d242-f3c28e51a843"
      },
      "outputs": [
        {
          "output_type": "execute_result",
          "data": {
            "text/plain": [
              "<bound method NDFrame.describe of                                                    text  target\n",
              "0                            [Emma by Jane Austen 1816]     0.0\n",
              "1      Emma Woodhouse, handsome, clever, and rich, w...     0.0\n",
              "2     She was the youngest of the two daughters of a...     0.0\n",
              "3     Her mother had died too long ago for her to ha...     0.0\n",
              "4     Sixteen years had Miss Taylor been in Mr. Wood...     0.0\n",
              "...                                                 ...     ...\n",
              "2073  Third among the harpooneers was Daggoo, a giga...     1.0\n",
              "5882  What tenderness there is in that preliminary  ...     1.0\n",
              "8721          aye, tiny  mosses in these warped cracks.     1.0\n",
              "8100  That was sudden, now; but squalls come sudden ...     1.0\n",
              "7863  Next morning the not-yet-subsided sea rolled i...     1.0\n",
              "\n",
              "[14448 rows x 2 columns]>"
            ]
          },
          "metadata": {},
          "execution_count": 27
        }
      ],
      "source": [
        "df_under.describe"
      ]
    },
    {
      "cell_type": "markdown",
      "metadata": {
        "id": "Ss4nm72chKxE"
      },
      "source": [
        "5. Make a bar-plot showing each class has the same number of samples for each author: Austen and Melville.\n"
      ]
    },
    {
      "cell_type": "code",
      "execution_count": 28,
      "metadata": {
        "id": "iWDr__pRhKxE",
        "colab": {
          "base_uri": "https://localhost:8080/",
          "height": 300
        },
        "outputId": "279b7c64-684d-43c4-d9db-1388e89f63eb"
      },
      "outputs": [
        {
          "output_type": "display_data",
          "data": {
            "text/plain": [
              "<Figure size 432x288 with 1 Axes>"
            ],
            "image/png": "[encoded data removed]"
          },
          "metadata": {
            "needs_background": "light"
          }
        }
      ],
      "source": [
        "class_names = ['df_cl1', 'df_cl2_under']\n",
        "ax = sns.countplot(x=df_under['target']); \n",
        "ax.set_xticklabels(class_names)\n",
        "plt.show()"
      ]
    },
    {
      "cell_type": "markdown",
      "metadata": {
        "id": "pzW5I5v9hKxE"
      },
      "source": [
        "5. Clean the text in sentences.  Lower case, tokenize, remove stop words and punctuation.\n"
      ]
    },
    {
      "cell_type": "code",
      "execution_count": 29,
      "metadata": {
        "id": "QIihBujMhKxE"
      },
      "outputs": [],
      "source": [
        "#define function to convert raw text into tokens as detailed above\n",
        "def convert_DF_token(text):\n",
        "  output= \" \".join(clean_word(text))\n",
        "  return output"
      ]
    },
    {
      "cell_type": "code",
      "source": [
        "# cleaning/processing the text can take a few minutes\n",
        "for idx, val in df_under.iterrows():\n",
        "  text = val[0]\n",
        "  val[0] = convert_DF_token(text)"
      ],
      "metadata": {
        "id": "J0RhTrgNcnJ8"
      },
      "execution_count": 31,
      "outputs": []
    },
    {
      "cell_type": "code",
      "source": [
        "df_under.describe"
      ],
      "metadata": {
        "colab": {
          "base_uri": "https://localhost:8080/",
          "height": 0
        },
        "id": "HE9TBVoqfBoY",
        "outputId": "ea4fcb12-4509-4825-c106-d7601cbf7b33"
      },
      "execution_count": 32,
      "outputs": [
        {
          "output_type": "execute_result",
          "data": {
            "text/plain": [
              "<bound method NDFrame.describe of                                                    text  target\n",
              "0                            [Emma by Jane Austen 1816]     0.0\n",
              "1      Emma Woodhouse, handsome, clever, and rich, w...     0.0\n",
              "2     She was the youngest of the two daughters of a...     0.0\n",
              "3     Her mother had died too long ago for her to ha...     0.0\n",
              "4     Sixteen years had Miss Taylor been in Mr. Wood...     0.0\n",
              "...                                                 ...     ...\n",
              "2073  Third among the harpooneers was Daggoo, a giga...     1.0\n",
              "5882  What tenderness there is in that preliminary  ...     1.0\n",
              "8721          aye, tiny  mosses in these warped cracks.     1.0\n",
              "8100  That was sudden, now; but squalls come sudden ...     1.0\n",
              "7863  Next morning the not-yet-subsided sea rolled i...     1.0\n",
              "\n",
              "[14448 rows x 2 columns]>"
            ]
          },
          "metadata": {},
          "execution_count": 32
        }
      ]
    },
    {
      "cell_type": "markdown",
      "metadata": {
        "id": "QE2Hc7QQhKxF"
      },
      "source": [
        "6. Use sklearn **train_test_split** to split the data into test and train data. Split the data with the following:\n",
        "* 70% train and 30% test\n",
        "* **random_state=325**.\n",
        "\n",
        "<code>X_train,X_test,y_train,y_test = train_test_split(X,Y,test_size=.3, random_state=325)</code>"
      ]
    },
    {
      "cell_type": "code",
      "execution_count": 33,
      "metadata": {
        "id": "gH6B-CQuhKxF"
      },
      "outputs": [],
      "source": [
        "# splitting training data into train and test\n",
        "X = df_under['text']\n",
        "Y = df_under['target']\n",
        "X_train,X_test,y_train,y_test = train_test_split(X,Y,test_size=.3, random_state=325)"
      ]
    },
    {
      "cell_type": "markdown",
      "metadata": {
        "id": "d3-XRA8fhKxF"
      },
      "source": [
        "7. Using NLP techniques to find the features and classify the data using a Naive Bayes classifier, using **pipeline**."
      ]
    },
    {
      "cell_type": "code",
      "execution_count": 34,
      "metadata": {
        "id": "cfl9Y5w8hKxG"
      },
      "outputs": [],
      "source": [
        "#define pipeline\n",
        "tfidf = TfidfVectorizer()\n",
        "clf = MultinomialNB()\n",
        "pipeline = Pipeline([\n",
        "    ('tfidf', TfidfVectorizer()), #define our vectorizer\n",
        "    ('clf', MultinomialNB()),      #define our classifier\n",
        "])\n",
        "\n",
        "#define parameters\n",
        "parameters = {\n",
        "    'tfidf__min_df': (0,   0.001),\n",
        "    'tfidf__max_df': (0.5, 1.0),\n",
        "    'tfidf__max_features': [1000, None],\n",
        "    'tfidf__ngram_range': ((1, 1), (1, 2)),  # unigrams or bigrams\n",
        "}\n",
        "\n",
        "#use GridSearchCV\n",
        "grid = GridSearchCV(pipeline, parameters, n_jobs=-1, verbose=1, cv=3);"
      ]
    },
    {
      "cell_type": "code",
      "execution_count": 35,
      "metadata": {
        "id": "-OqR9onMhKxG",
        "colab": {
          "base_uri": "https://localhost:8080/",
          "height": 0
        },
        "outputId": "444932c2-d2c1-40b5-a80a-bce8eea81b5a"
      },
      "outputs": [
        {
          "output_type": "stream",
          "name": "stdout",
          "text": [
            "Fitting 3 folds for each of 16 candidates, totalling 48 fits\n",
            "GridSearch took 18.15 seconds \n"
          ]
        }
      ],
      "source": [
        "start_time = time.time()\n",
        "grid.fit(X_train,y_train);\n",
        "print(\"GridSearch took %3.2f seconds \" % (time.time() - start_time)) #took about 72s"
      ]
    },
    {
      "cell_type": "markdown",
      "metadata": {
        "id": "g6F-8IFzhKxG"
      },
      "source": [
        "8. Using the test set, evaluate the classifier's performance.  Display the confusion matrix for the test data."
      ]
    },
    {
      "cell_type": "code",
      "execution_count": 36,
      "metadata": {
        "id": "59RK0y2HhKxG",
        "colab": {
          "base_uri": "https://localhost:8080/",
          "height": 0
        },
        "outputId": "6e518015-6bd5-489d-accf-03cb91269e16"
      },
      "outputs": [
        {
          "output_type": "stream",
          "name": "stdout",
          "text": [
            "Best Score:  0.9297933353109858\n",
            "Best Params:  {'tfidf__max_df': 1.0, 'tfidf__max_features': None, 'tfidf__min_df': 0.001, 'tfidf__ngram_range': (1, 1)}\n",
            "Accuracy : 92.64 %\n"
          ]
        }
      ],
      "source": [
        "# evaluate the performance and plot confusion matrix\n",
        "print(\"Best Score: \", grid.best_score_)\n",
        "print(\"Best Params: \", grid.best_params_)\n",
        "model = grid.best_estimator_  #should already be trained/fit\n",
        "\n",
        "y_pred=model.predict(X_test)\n",
        "cm = confusion_matrix(y_test, y_pred)\n",
        "acc = accuracy_score(y_test, y_pred)\n",
        "print(\"Accuracy : {} %\".format(round(acc*100, 2)))"
      ]
    },
    {
      "cell_type": "code",
      "execution_count": 37,
      "metadata": {
        "id": "Rf30E0n4hKxH",
        "scrolled": true,
        "colab": {
          "base_uri": "https://localhost:8080/",
          "height": 331
        },
        "outputId": "f863c05c-fcd0-44af-8875-b8d9cf0eafbb"
      },
      "outputs": [
        {
          "output_type": "display_data",
          "data": {
            "text/plain": [
              "<Figure size 360x360 with 2 Axes>"
            ],
            "image/png": "[encoded data removed]"
          },
          "metadata": {
            "needs_background": "light"
          }
        }
      ],
      "source": [
        "# plot the confusion matrix\n",
        "fig,ax = plt.subplots(1,1,figsize=(5, 5))\n",
        "cmd=ConfusionMatrixDisplay(cm, display_labels=class_names) \n",
        "cmd.plot(ax=ax)\n",
        "plt.title(\"Accuracy : {} %\".format(round(acc*100, 2)))\n",
        "plt.show()"
      ]
    },
    {
      "cell_type": "markdown",
      "metadata": {
        "id": "mJCmb1RYhKxH"
      },
      "source": [
        "#### Classifier accuracy\n",
        "What is the system's accuracy? Is it lower or higher than you expected?"
      ]
    },
    {
      "cell_type": "markdown",
      "source": [
        "your answer here\n",
        "\n",
        "The accuracy is 92.64%. It is a bit lower than I expect since the best score is 0.9297933353109858, so I expect the accuracy is the same as the best score."
      ],
      "metadata": {
        "id": "pDFFOKabhKxH"
      }
    },
    {
      "cell_type": "markdown",
      "metadata": {
        "id": "UIgxRj6ihKxH"
      },
      "source": [
        "9. Find the most important features the classifier uses."
      ]
    },
    {
      "cell_type": "code",
      "execution_count": 38,
      "metadata": {
        "id": "wMSzAXT1hKxI"
      },
      "outputs": [],
      "source": [
        "def getMostImportantFeaturesNB(clf,tfidf,N=20):\n",
        "    feature_names = tfidf.get_feature_names()\n",
        "    nclasses      = clf.feature_log_prob_.shape[0]\n",
        "    features      = []\n",
        "    for i in range(nclasses):\n",
        "        feature_prob  = (clf.feature_log_prob_[i]) #class i\n",
        "        indices       = np.argsort(np.abs(feature_prob))[::-1]\n",
        "        features_i    = []\n",
        "        for j in range(N):\n",
        "            features_i.append(feature_names[indices[j]])\n",
        "        features.append(features_i)\n",
        "    for i in range(nclasses):\n",
        "        print(\"class %d important features\"%i)\n",
        "        print(features[i])"
      ]
    },
    {
      "cell_type": "code",
      "execution_count": 39,
      "metadata": {
        "id": "PvCV1EVchKxI",
        "colab": {
          "base_uri": "https://localhost:8080/",
          "height": 0
        },
        "outputId": "c6fa00ea-7471-4031-b3f4-7522453ece32"
      },
      "outputs": [
        {
          "output_type": "stream",
          "name": "stdout",
          "text": [
            "class 0 important features\n",
            "['leaped', 'mate', 'mariners', 'strangely', 'stricken', 'foam', 'flying', 'stubb', 'flukes', 'floating', 'flask', 'fishery', 'fishermen', 'mass', 'finally', 'fin', 'mast', 'surface', 'fiery', 'masts']\n",
            "class 1 important features\n",
            "['_her_', 'enscombe', 'elegance', 'elton', 'eltons', 'emma', 'encouragement', 'engagement', 'enjoyment', 'fairfax', 'donwell', 'farther', 'ford', 'fortnight', 'fortunate', 'goddard', 'gratified', 'gratitude', 'tired', 'dixon']\n"
          ]
        },
        {
          "output_type": "stream",
          "name": "stderr",
          "text": [
            "/usr/local/lib/python3.7/dist-packages/sklearn/utils/deprecation.py:87: FutureWarning: Function get_feature_names is deprecated; get_feature_names is deprecated in 1.0 and will be removed in 1.2. Please use get_feature_names_out instead.\n",
            "  warnings.warn(msg, category=FutureWarning)\n"
          ]
        }
      ],
      "source": [
        "tfidf        = TfidfVectorizer(min_df=0.001)\n",
        "tfidf.fit(X_train);\n",
        "X_train_vec  = tfidf.transform(X_train).toarray()\n",
        "X_train_vec.shape\n",
        "\n",
        "clf = MultinomialNB()\n",
        "clf.fit(X_train_vec, y_train);\n",
        "\n",
        "getMostImportantFeaturesNB(clf=clf, tfidf=tfidf)"
      ]
    },
    {
      "cell_type": "markdown",
      "source": [
        "your answer here\n",
        "\n",
        "class 0 important features:\n",
        "\n",
        "['leaped', 'mate', 'mariners', 'strangely', 'stricken', 'foam', 'flying', 'stubb', 'flukes', 'floating', 'flask', 'fishery', 'fishermen', 'mass', 'finally', 'fin', 'mast', 'surface', 'fiery', 'masts']\n",
        "\n",
        "\n",
        "class 1 important features:\n",
        "\n",
        "['_her_', 'enscombe', 'elegance', 'elton', 'eltons', 'emma', 'encouragement', 'engagement', 'enjoyment', 'fairfax', 'donwell', 'farther', 'ford', 'fortnight', 'fortunate', 'goddard', 'gratified', 'gratitude', 'tired', 'dixon']"
      ],
      "metadata": {
        "id": "o9T5Nf6hhKxP"
      }
    },
    {
      "cell_type": "markdown",
      "metadata": {
        "id": "-4OII1BkhKxP"
      },
      "source": [
        "# Exercise 5\n",
        "\n",
        "Make a function **whoSaidIt** based on **findSentiment** ( as we did in class ) that can determine the author of a user supplied sentence.  \n",
        "\n",
        "Test it out with the sentences below."
      ]
    },
    {
      "cell_type": "code",
      "source": [
        "X = df_under['text']\n",
        "Y = df_under['target']\n",
        "X_train,X_test,y_train,y_test = train_test_split(X,Y,test_size=.3, random_state=325)\n",
        "\n",
        "tfidf = TfidfVectorizer(min_df=0.001)\n",
        "tfidf.fit(X_train);\n",
        "X_train_vec  = tfidf.transform(X_train).toarray()\n",
        "print(f'X_train_vec.shape: {X_train_vec.shape}')\n",
        "\n",
        "clf = MultinomialNB()\n",
        "clf.fit(X_train_vec, y_train);"
      ],
      "metadata": {
        "colab": {
          "base_uri": "https://localhost:8080/",
          "height": 0
        },
        "id": "PRP0Qj_yjCUq",
        "outputId": "e7d1dd23-357b-4473-b1ab-560fae862443"
      },
      "execution_count": 40,
      "outputs": [
        {
          "output_type": "stream",
          "name": "stdout",
          "text": [
            "X_train_vec.shape: (10113, 1900)\n"
          ]
        }
      ]
    },
    {
      "cell_type": "code",
      "execution_count": 41,
      "metadata": {
        "id": "4iuP_-kOhKxP"
      },
      "outputs": [],
      "source": [
        "def whoSaidIt(quotes, tfidf, clf):\n",
        "  clean_text = [\" \".join(clean_word(rt)) for rt in quotes] #important to prepare data the same way\n",
        "  tfs_vecs   = tfidf.transform(clean_text) #must just be transform, don't re-fit\n",
        "  tfidf_data = tfs_vecs.toarray()\n",
        "  y_pred     = clf.predict(tfidf_data)\n",
        "  y_class    = ['Melville' if y==1 else 'Austen' for y in y_pred  ]\n",
        "  y_prob     = clf.predict_proba(tfidf_data)\n",
        "  out        = [(c,round(p.max(),4)) for c,p in zip(y_class,y_prob)]   #get class and probability\n",
        "  for o in out:\n",
        "      print(o)\n",
        "  \n"
      ]
    },
    {
      "cell_type": "code",
      "execution_count": 42,
      "metadata": {
        "id": "dNwkG1PIhKxP"
      },
      "outputs": [],
      "source": [
        "#quotes by each author,\n",
        "quote1=\"The person, be it gentleman or lady, who has not pleasure in a good novel, must be intolerably stupid.\"\n",
        "quote2=\"There is nothing I would not do for those who are really my friends. I have no notion of loving people by halves, it is not my nature.\"\n",
        "quote3=\"It is not down in any map; true places never are.\"\n",
        "quote4=\"We cannot live only for ourselves. A thousand fibers connect us with our fellow men.\"\n",
        "quotes=[quote1,quote2,quote3,quote4]"
      ]
    },
    {
      "cell_type": "code",
      "execution_count": 43,
      "metadata": {
        "id": "gXzRoGmchKxQ",
        "scrolled": false,
        "colab": {
          "base_uri": "https://localhost:8080/",
          "height": 0
        },
        "outputId": "605323aa-80fb-4a62-882a-f26b7aa7bb26"
      },
      "outputs": [
        {
          "output_type": "stream",
          "name": "stdout",
          "text": [
            "('Austen', 0.9798)\n",
            "('Austen', 0.9208)\n",
            "('Austen', 0.5568)\n",
            "('Melville', 0.8887)\n"
          ]
        }
      ],
      "source": [
        "whoSaidIt(quotes, tfidf=tfidf, clf=clf)"
      ]
    },
    {
      "cell_type": "markdown",
      "metadata": {
        "id": "DLvXLptghKxQ"
      },
      "source": [
        "#### How did your model do?  Did your model correctly classify these quotes?"
      ]
    },
    {
      "cell_type": "markdown",
      "source": [
        "It uses the similarities between the training data and the quote to classify whose quote is that"
      ],
      "metadata": {
        "id": "HuUD2cEahKxQ"
      }
    }
  ],
  "metadata": {
    "kernelspec": {
      "display_name": "Python 3",
      "language": "python",
      "name": "python3"
    },
    "language_info": {
      "codemirror_mode": {
        "name": "ipython",
        "version": 3
      },
      "file_extension": ".py",
      "mimetype": "text/x-python",
      "name": "python",
      "nbconvert_exporter": "python",
      "pygments_lexer": "ipython3",
      "version": "3.8.5"
    },
    "colab": {
      "name": "week09-hw.ipynb",
      "provenance": [],
      "collapsed_sections": []
    }
  },
  "nbformat": 4,
  "nbformat_minor": 0
}