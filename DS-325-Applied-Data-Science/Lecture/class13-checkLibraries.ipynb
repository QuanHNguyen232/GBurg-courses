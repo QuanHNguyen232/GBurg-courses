{
 "cells": [
  {
   "cell_type": "code",
   "execution_count": null,
   "metadata": {},
   "outputs": [],
   "source": [
    "import pandas as pd\n",
    "import numpy as np\n",
    "import statsmodels.api as sm\n",
    "from scipy.optimize import curve_fit #for non-linear regression\n",
    "from scipy import stats #for confidence intervals\n",
    "import matplotlib.pylab as plt\n",
    "plt.rcParams[\"figure.figsize\"] = [9.708,6]\n",
    "from datetime import datetime\n",
    "from sklearn.metrics import mean_squared_error\n",
    "import seaborn as sns\n",
    "sns.set_context(\"talk\")\n",
    "import warnings\n",
    "warnings.filterwarnings('ignore')\n",
    "# new library to download with pip or install with conda\n",
    "import tensorflow as tf\n",
    "from tensorflow.keras.datasets import mnist\n",
    "# new library for NLP\n",
    "import nltk"
   ]
  },
  {
   "cell_type": "markdown",
   "metadata": {},
   "source": [
    "## libraries that may need to be installed"
   ]
  },
  {
   "cell_type": "markdown",
   "metadata": {},
   "source": [
    "### NLTK for NLP\n",
    "\n",
    "Use the following to install NLTK\n",
    "\n",
    "From terminal:\n",
    "<code>\n",
    "conda install nltk</code>\n",
    "\n",
    "or \n",
    "\n",
    "<code>\n",
    "pip install nltk</code>\n",
    "\n",
    "\n",
    "To install from inside jupyter notebook try:\n",
    "<code>\n",
    "!pip install nltk</code>"
   ]
  },
  {
   "cell_type": "code",
   "execution_count": null,
   "metadata": {},
   "outputs": [],
   "source": [
    "#! pip install nltk"
   ]
  },
  {
   "cell_type": "markdown",
   "metadata": {},
   "source": [
    "Test your installation"
   ]
  },
  {
   "cell_type": "code",
   "execution_count": null,
   "metadata": {},
   "outputs": [],
   "source": [
    "import nltk"
   ]
  },
  {
   "cell_type": "markdown",
   "metadata": {},
   "source": [
    "### Tensor flow for NN\n",
    "\n",
    "Likewise, can choose how to install tensorflow2\n",
    "\n",
    "From terminal:\n",
    "<code>\n",
    "conda install -c anaconda tensorflow\n",
    "conda install -c anaconda tensorflow-datasets</code>\n",
    "\n",
    "or\n",
    "\n",
    "<code>pip install tensorflow tensorflow_datasets</code>\n",
    "\n",
    "#### NOTE\n",
    "I don't recomment install the gpu version, unless you have new NVIDIA card.\n",
    "<code>conda install tensorflow-gpu</code>\n",
    "\n"
   ]
  },
  {
   "cell_type": "code",
   "execution_count": null,
   "metadata": {},
   "outputs": [],
   "source": [
    "#! pip install tensorflow tensorflow_datasets"
   ]
  },
  {
   "cell_type": "markdown",
   "metadata": {},
   "source": [
    "Test your installation"
   ]
  },
  {
   "cell_type": "code",
   "execution_count": null,
   "metadata": {},
   "outputs": [],
   "source": [
    "import tensorflow as tf\n",
    "import tensorflow_datasets as tfds"
   ]
  },
  {
   "cell_type": "markdown",
   "metadata": {},
   "source": [
    "the following should print a version >2"
   ]
  },
  {
   "cell_type": "code",
   "execution_count": null,
   "metadata": {},
   "outputs": [],
   "source": [
    "print(tf.__version__) "
   ]
  },
  {
   "cell_type": "code",
   "execution_count": null,
   "metadata": {},
   "outputs": [],
   "source": [
    "import nltk"
   ]
  }
 ],
 "metadata": {
  "kernelspec": {
   "display_name": "Python 3",
   "language": "python",
   "name": "python3"
  },
  "language_info": {
   "codemirror_mode": {
    "name": "ipython",
    "version": 3
   },
   "file_extension": ".py",
   "mimetype": "text/x-python",
   "name": "python",
   "nbconvert_exporter": "python",
   "pygments_lexer": "ipython3",
   "version": "3.8.5"
  }
 },
 "nbformat": 4,
 "nbformat_minor": 4
}
